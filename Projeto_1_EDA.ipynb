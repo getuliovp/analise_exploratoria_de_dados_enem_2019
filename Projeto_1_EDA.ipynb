{
  "nbformat": 4,
  "nbformat_minor": 0,
  "metadata": {
    "colab": {
      "name": "Projeto 1 - EDA_01.ipynb",
      "provenance": [],
      "collapsed_sections": []
    },
    "kernelspec": {
      "name": "python3",
      "display_name": "Python 3"
    },
    "language_info": {
      "name": "python"
    }
  },
  "cells": [
    {
      "cell_type": "markdown",
      "source": [
        "## <a> Motivação </a>\n",
        "\n",
        "Todo trabalho de Ciência de Dados passa por essa importante etapa. Conhecer bem os dados, saber as distribuições, medidas estatísticas principais, visualizar correlações e evoluções é essencial para gerar insights e solucionar problemas.\n",
        "\n",
        "Essa etapa é bem *híbrida* no sentido em que pode ser utilizada sem um objetivo completamente definido, numa busca por informações e insights. De outro lado, num projeto com objetivo de negócio bem definido (fase 1 do CRISP-DM), ela é bem focalizada nas perguntas de negócio que queremos responder."
      ],
      "metadata": {
        "id": "iuneGEFL4VNM"
      }
    },
    {
      "cell_type": "markdown",
      "source": [
        "## <a> Objeto de Estudo </a>\n",
        "\n",
        "Vamos trabalhar com informações de microdados no ENEM realizado em 2019. De acordo com o site do [INEP](https://www.gov.br/inep/pt-br/areas-de-atuacao/avaliacao-e-exames-educacionais/enem), o ENEM tem o objetivo de avaliar o desempenho escolar dos estudantes ao término da educação básica. As notas do Enem podem ser usadas para acesso ao Sistema de Seleção Unificada (Sisu) e ao Programa Universidade para Todos (ProUni). Elas também são aceitas em mais de 50 instituições de educação superior portuguesas. Além disso, os participantes do Enem podem pleitear financiamento estudantil em programas do governo, como o Fundo de Financiamento Estudantil (Fies). Os resultados do Enem possibilitam, ainda, o desenvolvimento de estudos e indicadores educacionais.[1](https://www.gov.br/inep/pt-br/areas-de-atuacao/avaliacao-e-exames-educacionais/enem)\n",
        "\n",
        "Conhecer bem os dados dos aplicantes para a prova pode fornecer insights preciosos para a educação brasileira. Para o presente estudo vamos avaliar se dados demográficos, indicadores sociais, de escolaridade dos pais e outras indicações tem correlações com as notas dos candidatos. Muitos insights e respostas podem ser obtidas somente com a análise exploratória de dados."
      ],
      "metadata": {
        "id": "SUpJfPNe47py"
      }
    },
    {
      "cell_type": "markdown",
      "source": [
        "# Importando:"
      ],
      "metadata": {
        "id": "Ms4ZAHjQ-wXE"
      }
    },
    {
      "cell_type": "markdown",
      "source": [
        "## Pacotes:"
      ],
      "metadata": {
        "id": "rYNL8sYE-zoc"
      }
    },
    {
      "cell_type": "code",
      "source": [
        "# Bibliotecas: Leitura de Dados e Visualização.\n",
        "\n",
        "import pandas as pd\n",
        "from matplotlib import pyplot as plt\n",
        "import seaborn as sns\n",
        "import os \n",
        "\n",
        "%matplotlib inline\n",
        "\n",
        "import plotly.express as px\n",
        "from IPython.core.pylabtools import figsize\n",
        "from string import ascii_uppercase\n",
        "\n",
        "# Configuração - Pandas: Mostrar todas as linhas e colunas.\n",
        "\n",
        "pd.set_option( 'display.max_rows' , None )\n",
        "pd.set_option( 'display.max_columns' , None )\n",
        "\n",
        "# Configuração - Pandas: Não mostrar notação científica.\n",
        "\n",
        "pd.set_option( 'display.float_format' , lambda x: '%.2f' % x ) "
      ],
      "metadata": {
        "id": "IHQbNgY6-zQr"
      },
      "execution_count": 298,
      "outputs": []
    },
    {
      "cell_type": "markdown",
      "source": [
        "## Dados:"
      ],
      "metadata": {
        "id": "sAXUD38U-1qb"
      }
    },
    {
      "cell_type": "markdown",
      "source": [
        "Usarei uma amostra de 10% dos dados ENEM / INEMP. Motivo: Recusos de Hardoware insuficiente para rodar base total. "
      ],
      "metadata": {
        "id": "nNTpdMvZ_3iE"
      }
    },
    {
      "cell_type": "code",
      "source": [
        "# Importando dados em CSV:\n",
        "\n",
        "df_enem = pd.read_csv('/content/drive/MyDrive/Colab Notebooks/Projeto 01 - EAD/data/enem_2019.csv')"
      ],
      "metadata": {
        "id": "7fWptIRb_8E6"
      },
      "execution_count": 299,
      "outputs": []
    },
    {
      "cell_type": "markdown",
      "source": [
        "O tamanho do arquivo é grande. Por isso, convertir para Parquet."
      ],
      "metadata": {
        "id": "cM0UhFBeAVBJ"
      }
    },
    {
      "cell_type": "code",
      "source": [
        "# Conversão: CSV para Parquet. \n",
        "\n",
        "df = df_enem.to_parquet('/content/drive/MyDrive/Colab Notebooks/Projeto 01 - EAD/data/enem_2019.parquet')"
      ],
      "metadata": {
        "id": "twSDK6eRAXnj"
      },
      "execution_count": 300,
      "outputs": []
    },
    {
      "cell_type": "markdown",
      "source": [
        "__Resultado da conversão:__ Redução de 79,50% da base original."
      ],
      "metadata": {
        "id": "eWSkD3kFAddA"
      }
    },
    {
      "cell_type": "code",
      "source": [
        "# Importando dados em Parquet:\n",
        "\n",
        "df = pd.read_parquet( '/content/drive/MyDrive/Colab Notebooks/Projeto 01 - EAD/data/enem_2019.parquet' )"
      ],
      "metadata": {
        "id": "0mFsa1AaAjVw"
      },
      "execution_count": 301,
      "outputs": []
    },
    {
      "cell_type": "markdown",
      "source": [
        "# Análise Exploratória de Dados:"
      ],
      "metadata": {
        "id": "FUZq5hAqBsm8"
      }
    },
    {
      "cell_type": "code",
      "source": [
        "# Visualizando as 3 primeira linhas da base de dados:\n",
        "\n",
        "df.head(3)"
      ],
      "metadata": {
        "colab": {
          "base_uri": "https://localhost:8080/",
          "height": 224
        },
        "id": "2LE1PLfbB88V",
        "outputId": "f91f7880-add8-46aa-f3b0-7476bd6c1ca1"
      },
      "execution_count": 302,
      "outputs": [
        {
          "output_type": "execute_result",
          "data": {
            "text/plain": [
              "   Unnamed: 0  NU_INSCRICAO  NU_ANO  CO_MUNICIPIO_RESIDENCIA  \\\n",
              "0     5089962  190005708034    2019                  2305506   \n",
              "1     1968816  190003326900    2019                  3548500   \n",
              "2     3432726  190004261548    2019                  3552106   \n",
              "\n",
              "  NO_MUNICIPIO_RESIDENCIA  CO_UF_RESIDENCIA SG_UF_RESIDENCIA  NU_IDADE  \\\n",
              "0                  Iguatu                23               CE     22.00   \n",
              "1                  Santos                35               SP     19.00   \n",
              "2                 Socorro                35               SP     16.00   \n",
              "\n",
              "  TP_SEXO  TP_ESTADO_CIVIL  TP_COR_RACA  TP_NACIONALIDADE  \\\n",
              "0       F                1            3                 1   \n",
              "1       F                1            1                 1   \n",
              "2       F                1            1                 1   \n",
              "\n",
              "   CO_MUNICIPIO_NASCIMENTO NO_MUNICIPIO_NASCIMENTO  CO_UF_NASCIMENTO  \\\n",
              "0               2305506.00                  Iguatu             23.00   \n",
              "1               3548500.00                  Santos             35.00   \n",
              "2               3552106.00                 Socorro             35.00   \n",
              "\n",
              "  SG_UF_NASCIMENTO  TP_ST_CONCLUSAO  TP_ANO_CONCLUIU  TP_ESCOLA  TP_ENSINO  \\\n",
              "0               CE                1                3          1       1.00   \n",
              "1               SP                1                1          1       1.00   \n",
              "2               SP                3                0          1        NaN   \n",
              "\n",
              "   IN_TREINEIRO  CO_ESCOLA  CO_MUNICIPIO_ESC NO_MUNICIPIO_ESC  CO_UF_ESC  \\\n",
              "0             0        NaN               NaN             None        NaN   \n",
              "1             0        NaN               NaN             None        NaN   \n",
              "2             1        NaN               NaN             None        NaN   \n",
              "\n",
              "  SG_UF_ESC  TP_DEPENDENCIA_ADM_ESC  TP_LOCALIZACAO_ESC  TP_SIT_FUNC_ESC  \\\n",
              "0      None                     NaN                 NaN              NaN   \n",
              "1      None                     NaN                 NaN              NaN   \n",
              "2      None                     NaN                 NaN              NaN   \n",
              "\n",
              "   IN_BAIXA_VISAO  IN_CEGUEIRA  IN_SURDEZ  IN_DEFICIENCIA_AUDITIVA  \\\n",
              "0               0            0          0                        0   \n",
              "1               0            0          0                        0   \n",
              "2               0            0          0                        0   \n",
              "\n",
              "   IN_SURDO_CEGUEIRA  IN_DEFICIENCIA_FISICA  IN_DEFICIENCIA_MENTAL  \\\n",
              "0                  0                      0                      0   \n",
              "1                  0                      0                      0   \n",
              "2                  0                      0                      0   \n",
              "\n",
              "   IN_DEFICIT_ATENCAO  IN_DISLEXIA  IN_DISCALCULIA  IN_AUTISMO  \\\n",
              "0                   0            0               0           0   \n",
              "1                   0            0               0           0   \n",
              "2                   0            0               0           0   \n",
              "\n",
              "   IN_VISAO_MONOCULAR  IN_OUTRA_DEF  IN_GESTANTE  IN_LACTANTE  IN_IDOSO  \\\n",
              "0                   0             0            0            0         0   \n",
              "1                   0             0            0            0         0   \n",
              "2                   0             0            0            0         0   \n",
              "\n",
              "   IN_ESTUDA_CLASSE_HOSPITALAR  IN_SEM_RECURSO  IN_BRAILLE  IN_AMPLIADA_24  \\\n",
              "0                            0               0           0               0   \n",
              "1                            0               0           0               0   \n",
              "2                            0               0           0               0   \n",
              "\n",
              "   IN_AMPLIADA_18  IN_LEDOR  IN_ACESSO  IN_TRANSCRICAO  IN_LIBRAS  \\\n",
              "0               0         0          0               0          0   \n",
              "1               0         0          0               0          0   \n",
              "2               0         0          0               0          0   \n",
              "\n",
              "   IN_TEMPO_ADICIONAL  IN_LEITURA_LABIAL  IN_MESA_CADEIRA_RODAS  \\\n",
              "0                   0                  0                      0   \n",
              "1                   0                  0                      0   \n",
              "2                   0                  0                      0   \n",
              "\n",
              "   IN_MESA_CADEIRA_SEPARADA  IN_APOIO_PERNA  IN_GUIA_INTERPRETE  \\\n",
              "0                         0               0                   0   \n",
              "1                         0               0                   0   \n",
              "2                         0               0                   0   \n",
              "\n",
              "   IN_COMPUTADOR  IN_CADEIRA_ESPECIAL  IN_CADEIRA_CANHOTO  \\\n",
              "0              0                    0                   0   \n",
              "1              0                    0                   0   \n",
              "2              0                    0                   0   \n",
              "\n",
              "   IN_CADEIRA_ACOLCHOADA  IN_PROVA_DEITADO  IN_MOBILIARIO_OBESO  \\\n",
              "0                      0                 0                    0   \n",
              "1                      0                 0                    0   \n",
              "2                      0                 0                    0   \n",
              "\n",
              "   IN_LAMINA_OVERLAY  IN_PROTETOR_AURICULAR  IN_MEDIDOR_GLICOSE  \\\n",
              "0                  0                      0                   0   \n",
              "1                  0                      0                   0   \n",
              "2                  0                      0                   0   \n",
              "\n",
              "   IN_MAQUINA_BRAILE  IN_SOROBAN  IN_MARCA_PASSO  IN_SONDA  IN_MEDICAMENTOS  \\\n",
              "0                  0           0               0         0                0   \n",
              "1                  0           0               0         0                0   \n",
              "2                  0           0               0         0                0   \n",
              "\n",
              "   IN_SALA_INDIVIDUAL  IN_SALA_ESPECIAL  IN_SALA_ACOMPANHANTE  \\\n",
              "0                   0                 0                     0   \n",
              "1                   0                 0                     0   \n",
              "2                   0                 0                     0   \n",
              "\n",
              "   IN_MOBILIARIO_ESPECIFICO  IN_MATERIAL_ESPECIFICO  IN_NOME_SOCIAL  \\\n",
              "0                         0                       0               0   \n",
              "1                         0                       0               0   \n",
              "2                         0                       0               0   \n",
              "\n",
              "   CO_MUNICIPIO_PROVA NO_MUNICIPIO_PROVA  CO_UF_PROVA SG_UF_PROVA  \\\n",
              "0             2305506             Iguatu           23          CE   \n",
              "1             3548500             Santos           35          SP   \n",
              "2             3552106            Socorro           35          SP   \n",
              "\n",
              "   TP_PRESENCA_CN  TP_PRESENCA_CH  TP_PRESENCA_LC  TP_PRESENCA_MT  \\\n",
              "0               0               0               0               0   \n",
              "1               1               1               1               1   \n",
              "2               1               1               1               1   \n",
              "\n",
              "   CO_PROVA_CN  CO_PROVA_CH  CO_PROVA_LC  CO_PROVA_MT  NU_NOTA_CN  NU_NOTA_CH  \\\n",
              "0          NaN          NaN          NaN          NaN         NaN         NaN   \n",
              "1       503.00       508.00       512.00       515.00      543.90      527.70   \n",
              "2       504.00       509.00       514.00       516.00      406.10      521.20   \n",
              "\n",
              "   NU_NOTA_LC  NU_NOTA_MT                                TX_RESPOSTAS_CN  \\\n",
              "0         NaN         NaN                                           None   \n",
              "1      545.30      513.90  ACDDCEDEDCCBCBBBBAACECADABAEBBDEEACCECBBCBDDC   \n",
              "2      549.20      510.50  ADCAEDAEADACDCBACEDEABCEBBAEBABBACEEDEACAABCD   \n",
              "\n",
              "                                 TX_RESPOSTAS_CH  \\\n",
              "0                                           None   \n",
              "1  ACAABDBEEAABDCCAACBEEDCBDEDBBCCCBCEBDDCABCCBB   \n",
              "2  ADACCCACDBAABBBDBAEABCCEACAABDEBAECAEDAEDAACE   \n",
              "\n",
              "                                     TX_RESPOSTAS_LC  \\\n",
              "0                                               None   \n",
              "1  BBEEA99999DEEBECBBCACDEAABEEBBECEBAAEDCBECADCE...   \n",
              "2  99999ABCABBAEBCDEDEBDAADCEDCDECBDBDBBECAEDCCBC...   \n",
              "\n",
              "                                 TX_RESPOSTAS_MT  TP_LINGUA  \\\n",
              "0                                           None          1   \n",
              "1  EBBADECCAEBBCDECCAEBCABDBCDEBBADBDCABAEBDCCEC          0   \n",
              "2  BECACAABACBCABCACDACBDCCDACAAEBCECAECEBCAECEE          1   \n",
              "\n",
              "                                  TX_GABARITO_CN  \\\n",
              "0                                           None   \n",
              "1  AAECACDEADCBCDDDBCBDADAEABCEBABEEBCBEECEBDADC   \n",
              "2  BEEAAEBEEBADEADDADAEABCEDDDBCBCBCCACBCDADCCEB   \n",
              "\n",
              "                                  TX_GABARITO_CH  \\\n",
              "0                                           None   \n",
              "1  CBABADBBCEEEBCBADCBEEDBBEADBBACDBBACCCCADACAC   \n",
              "2  ACACEEBCCBABADBBBACDBBACCCCADCEBADCBEEDBBEADB   \n",
              "\n",
              "                                      TX_GABARITO_LC  \\\n",
              "0                                               None   \n",
              "1  BBEDABDACACBABAECBBCCADCEBDBBCDDEEAAADDBECDECA...   \n",
              "2  EBBADCABDABACBCEBDEEAAADDBECDECDDBADBCDAAECBCC...   \n",
              "\n",
              "                                  TX_GABARITO_MT  TP_STATUS_REDACAO  \\\n",
              "0                                           None                NaN   \n",
              "1  EEEADBEBACABCDBABECECACDCBDCCEDCDABEDECDDDBAA               1.00   \n",
              "2  BEDEEEAADBEBACABCDBABECECACADCBDCCEDCDABECDDD               1.00   \n",
              "\n",
              "   NU_NOTA_COMP1  NU_NOTA_COMP2  NU_NOTA_COMP3  NU_NOTA_COMP4  NU_NOTA_COMP5  \\\n",
              "0            NaN            NaN            NaN            NaN            NaN   \n",
              "1         140.00         140.00         140.00         120.00         140.00   \n",
              "2         120.00         120.00         120.00         120.00           0.00   \n",
              "\n",
              "   NU_NOTA_REDACAO Q001 Q002 Q003 Q004  Q005 Q006 Q007 Q008 Q009 Q010 Q011  \\\n",
              "0              NaN    D    D    D    B     4    B    A    B    C    A    B   \n",
              "1           680.00    E    E    B    B     4    I    A    B    C    A    A   \n",
              "2           480.00    F    F    B    D     4    I    A    C    D    B    A   \n",
              "\n",
              "  Q012 Q013 Q014 Q015 Q016 Q017 Q018 Q019 Q020 Q021 Q022 Q023 Q024 Q025  \n",
              "0    B    A    A    A    A    A    A    B    B    A    B    A    B    B  \n",
              "1    B    B    B    A    B    A    A    B    A    B    E    B    B    B  \n",
              "2    B    A    B    A    B    A    B    C    A    A    E    A    B    B  "
            ],
            "text/html": [
              "\n",
              "  <div id=\"df-c39eaeed-0735-4b8e-ad2b-a0d77bbbe3de\">\n",
              "    <div class=\"colab-df-container\">\n",
              "      <div>\n",
              "<style scoped>\n",
              "    .dataframe tbody tr th:only-of-type {\n",
              "        vertical-align: middle;\n",
              "    }\n",
              "\n",
              "    .dataframe tbody tr th {\n",
              "        vertical-align: top;\n",
              "    }\n",
              "\n",
              "    .dataframe thead th {\n",
              "        text-align: right;\n",
              "    }\n",
              "</style>\n",
              "<table border=\"1\" class=\"dataframe\">\n",
              "  <thead>\n",
              "    <tr style=\"text-align: right;\">\n",
              "      <th></th>\n",
              "      <th>Unnamed: 0</th>\n",
              "      <th>NU_INSCRICAO</th>\n",
              "      <th>NU_ANO</th>\n",
              "      <th>CO_MUNICIPIO_RESIDENCIA</th>\n",
              "      <th>NO_MUNICIPIO_RESIDENCIA</th>\n",
              "      <th>CO_UF_RESIDENCIA</th>\n",
              "      <th>SG_UF_RESIDENCIA</th>\n",
              "      <th>NU_IDADE</th>\n",
              "      <th>TP_SEXO</th>\n",
              "      <th>TP_ESTADO_CIVIL</th>\n",
              "      <th>TP_COR_RACA</th>\n",
              "      <th>TP_NACIONALIDADE</th>\n",
              "      <th>CO_MUNICIPIO_NASCIMENTO</th>\n",
              "      <th>NO_MUNICIPIO_NASCIMENTO</th>\n",
              "      <th>CO_UF_NASCIMENTO</th>\n",
              "      <th>SG_UF_NASCIMENTO</th>\n",
              "      <th>TP_ST_CONCLUSAO</th>\n",
              "      <th>TP_ANO_CONCLUIU</th>\n",
              "      <th>TP_ESCOLA</th>\n",
              "      <th>TP_ENSINO</th>\n",
              "      <th>IN_TREINEIRO</th>\n",
              "      <th>CO_ESCOLA</th>\n",
              "      <th>CO_MUNICIPIO_ESC</th>\n",
              "      <th>NO_MUNICIPIO_ESC</th>\n",
              "      <th>CO_UF_ESC</th>\n",
              "      <th>SG_UF_ESC</th>\n",
              "      <th>TP_DEPENDENCIA_ADM_ESC</th>\n",
              "      <th>TP_LOCALIZACAO_ESC</th>\n",
              "      <th>TP_SIT_FUNC_ESC</th>\n",
              "      <th>IN_BAIXA_VISAO</th>\n",
              "      <th>IN_CEGUEIRA</th>\n",
              "      <th>IN_SURDEZ</th>\n",
              "      <th>IN_DEFICIENCIA_AUDITIVA</th>\n",
              "      <th>IN_SURDO_CEGUEIRA</th>\n",
              "      <th>IN_DEFICIENCIA_FISICA</th>\n",
              "      <th>IN_DEFICIENCIA_MENTAL</th>\n",
              "      <th>IN_DEFICIT_ATENCAO</th>\n",
              "      <th>IN_DISLEXIA</th>\n",
              "      <th>IN_DISCALCULIA</th>\n",
              "      <th>IN_AUTISMO</th>\n",
              "      <th>IN_VISAO_MONOCULAR</th>\n",
              "      <th>IN_OUTRA_DEF</th>\n",
              "      <th>IN_GESTANTE</th>\n",
              "      <th>IN_LACTANTE</th>\n",
              "      <th>IN_IDOSO</th>\n",
              "      <th>IN_ESTUDA_CLASSE_HOSPITALAR</th>\n",
              "      <th>IN_SEM_RECURSO</th>\n",
              "      <th>IN_BRAILLE</th>\n",
              "      <th>IN_AMPLIADA_24</th>\n",
              "      <th>IN_AMPLIADA_18</th>\n",
              "      <th>IN_LEDOR</th>\n",
              "      <th>IN_ACESSO</th>\n",
              "      <th>IN_TRANSCRICAO</th>\n",
              "      <th>IN_LIBRAS</th>\n",
              "      <th>IN_TEMPO_ADICIONAL</th>\n",
              "      <th>IN_LEITURA_LABIAL</th>\n",
              "      <th>IN_MESA_CADEIRA_RODAS</th>\n",
              "      <th>IN_MESA_CADEIRA_SEPARADA</th>\n",
              "      <th>IN_APOIO_PERNA</th>\n",
              "      <th>IN_GUIA_INTERPRETE</th>\n",
              "      <th>IN_COMPUTADOR</th>\n",
              "      <th>IN_CADEIRA_ESPECIAL</th>\n",
              "      <th>IN_CADEIRA_CANHOTO</th>\n",
              "      <th>IN_CADEIRA_ACOLCHOADA</th>\n",
              "      <th>IN_PROVA_DEITADO</th>\n",
              "      <th>IN_MOBILIARIO_OBESO</th>\n",
              "      <th>IN_LAMINA_OVERLAY</th>\n",
              "      <th>IN_PROTETOR_AURICULAR</th>\n",
              "      <th>IN_MEDIDOR_GLICOSE</th>\n",
              "      <th>IN_MAQUINA_BRAILE</th>\n",
              "      <th>IN_SOROBAN</th>\n",
              "      <th>IN_MARCA_PASSO</th>\n",
              "      <th>IN_SONDA</th>\n",
              "      <th>IN_MEDICAMENTOS</th>\n",
              "      <th>IN_SALA_INDIVIDUAL</th>\n",
              "      <th>IN_SALA_ESPECIAL</th>\n",
              "      <th>IN_SALA_ACOMPANHANTE</th>\n",
              "      <th>IN_MOBILIARIO_ESPECIFICO</th>\n",
              "      <th>IN_MATERIAL_ESPECIFICO</th>\n",
              "      <th>IN_NOME_SOCIAL</th>\n",
              "      <th>CO_MUNICIPIO_PROVA</th>\n",
              "      <th>NO_MUNICIPIO_PROVA</th>\n",
              "      <th>CO_UF_PROVA</th>\n",
              "      <th>SG_UF_PROVA</th>\n",
              "      <th>TP_PRESENCA_CN</th>\n",
              "      <th>TP_PRESENCA_CH</th>\n",
              "      <th>TP_PRESENCA_LC</th>\n",
              "      <th>TP_PRESENCA_MT</th>\n",
              "      <th>CO_PROVA_CN</th>\n",
              "      <th>CO_PROVA_CH</th>\n",
              "      <th>CO_PROVA_LC</th>\n",
              "      <th>CO_PROVA_MT</th>\n",
              "      <th>NU_NOTA_CN</th>\n",
              "      <th>NU_NOTA_CH</th>\n",
              "      <th>NU_NOTA_LC</th>\n",
              "      <th>NU_NOTA_MT</th>\n",
              "      <th>TX_RESPOSTAS_CN</th>\n",
              "      <th>TX_RESPOSTAS_CH</th>\n",
              "      <th>TX_RESPOSTAS_LC</th>\n",
              "      <th>TX_RESPOSTAS_MT</th>\n",
              "      <th>TP_LINGUA</th>\n",
              "      <th>TX_GABARITO_CN</th>\n",
              "      <th>TX_GABARITO_CH</th>\n",
              "      <th>TX_GABARITO_LC</th>\n",
              "      <th>TX_GABARITO_MT</th>\n",
              "      <th>TP_STATUS_REDACAO</th>\n",
              "      <th>NU_NOTA_COMP1</th>\n",
              "      <th>NU_NOTA_COMP2</th>\n",
              "      <th>NU_NOTA_COMP3</th>\n",
              "      <th>NU_NOTA_COMP4</th>\n",
              "      <th>NU_NOTA_COMP5</th>\n",
              "      <th>NU_NOTA_REDACAO</th>\n",
              "      <th>Q001</th>\n",
              "      <th>Q002</th>\n",
              "      <th>Q003</th>\n",
              "      <th>Q004</th>\n",
              "      <th>Q005</th>\n",
              "      <th>Q006</th>\n",
              "      <th>Q007</th>\n",
              "      <th>Q008</th>\n",
              "      <th>Q009</th>\n",
              "      <th>Q010</th>\n",
              "      <th>Q011</th>\n",
              "      <th>Q012</th>\n",
              "      <th>Q013</th>\n",
              "      <th>Q014</th>\n",
              "      <th>Q015</th>\n",
              "      <th>Q016</th>\n",
              "      <th>Q017</th>\n",
              "      <th>Q018</th>\n",
              "      <th>Q019</th>\n",
              "      <th>Q020</th>\n",
              "      <th>Q021</th>\n",
              "      <th>Q022</th>\n",
              "      <th>Q023</th>\n",
              "      <th>Q024</th>\n",
              "      <th>Q025</th>\n",
              "    </tr>\n",
              "  </thead>\n",
              "  <tbody>\n",
              "    <tr>\n",
              "      <th>0</th>\n",
              "      <td>5089962</td>\n",
              "      <td>190005708034</td>\n",
              "      <td>2019</td>\n",
              "      <td>2305506</td>\n",
              "      <td>Iguatu</td>\n",
              "      <td>23</td>\n",
              "      <td>CE</td>\n",
              "      <td>22.00</td>\n",
              "      <td>F</td>\n",
              "      <td>1</td>\n",
              "      <td>3</td>\n",
              "      <td>1</td>\n",
              "      <td>2305506.00</td>\n",
              "      <td>Iguatu</td>\n",
              "      <td>23.00</td>\n",
              "      <td>CE</td>\n",
              "      <td>1</td>\n",
              "      <td>3</td>\n",
              "      <td>1</td>\n",
              "      <td>1.00</td>\n",
              "      <td>0</td>\n",
              "      <td>NaN</td>\n",
              "      <td>NaN</td>\n",
              "      <td>None</td>\n",
              "      <td>NaN</td>\n",
              "      <td>None</td>\n",
              "      <td>NaN</td>\n",
              "      <td>NaN</td>\n",
              "      <td>NaN</td>\n",
              "      <td>0</td>\n",
              "      <td>0</td>\n",
              "      <td>0</td>\n",
              "      <td>0</td>\n",
              "      <td>0</td>\n",
              "      <td>0</td>\n",
              "      <td>0</td>\n",
              "      <td>0</td>\n",
              "      <td>0</td>\n",
              "      <td>0</td>\n",
              "      <td>0</td>\n",
              "      <td>0</td>\n",
              "      <td>0</td>\n",
              "      <td>0</td>\n",
              "      <td>0</td>\n",
              "      <td>0</td>\n",
              "      <td>0</td>\n",
              "      <td>0</td>\n",
              "      <td>0</td>\n",
              "      <td>0</td>\n",
              "      <td>0</td>\n",
              "      <td>0</td>\n",
              "      <td>0</td>\n",
              "      <td>0</td>\n",
              "      <td>0</td>\n",
              "      <td>0</td>\n",
              "      <td>0</td>\n",
              "      <td>0</td>\n",
              "      <td>0</td>\n",
              "      <td>0</td>\n",
              "      <td>0</td>\n",
              "      <td>0</td>\n",
              "      <td>0</td>\n",
              "      <td>0</td>\n",
              "      <td>0</td>\n",
              "      <td>0</td>\n",
              "      <td>0</td>\n",
              "      <td>0</td>\n",
              "      <td>0</td>\n",
              "      <td>0</td>\n",
              "      <td>0</td>\n",
              "      <td>0</td>\n",
              "      <td>0</td>\n",
              "      <td>0</td>\n",
              "      <td>0</td>\n",
              "      <td>0</td>\n",
              "      <td>0</td>\n",
              "      <td>0</td>\n",
              "      <td>0</td>\n",
              "      <td>0</td>\n",
              "      <td>0</td>\n",
              "      <td>2305506</td>\n",
              "      <td>Iguatu</td>\n",
              "      <td>23</td>\n",
              "      <td>CE</td>\n",
              "      <td>0</td>\n",
              "      <td>0</td>\n",
              "      <td>0</td>\n",
              "      <td>0</td>\n",
              "      <td>NaN</td>\n",
              "      <td>NaN</td>\n",
              "      <td>NaN</td>\n",
              "      <td>NaN</td>\n",
              "      <td>NaN</td>\n",
              "      <td>NaN</td>\n",
              "      <td>NaN</td>\n",
              "      <td>NaN</td>\n",
              "      <td>None</td>\n",
              "      <td>None</td>\n",
              "      <td>None</td>\n",
              "      <td>None</td>\n",
              "      <td>1</td>\n",
              "      <td>None</td>\n",
              "      <td>None</td>\n",
              "      <td>None</td>\n",
              "      <td>None</td>\n",
              "      <td>NaN</td>\n",
              "      <td>NaN</td>\n",
              "      <td>NaN</td>\n",
              "      <td>NaN</td>\n",
              "      <td>NaN</td>\n",
              "      <td>NaN</td>\n",
              "      <td>NaN</td>\n",
              "      <td>D</td>\n",
              "      <td>D</td>\n",
              "      <td>D</td>\n",
              "      <td>B</td>\n",
              "      <td>4</td>\n",
              "      <td>B</td>\n",
              "      <td>A</td>\n",
              "      <td>B</td>\n",
              "      <td>C</td>\n",
              "      <td>A</td>\n",
              "      <td>B</td>\n",
              "      <td>B</td>\n",
              "      <td>A</td>\n",
              "      <td>A</td>\n",
              "      <td>A</td>\n",
              "      <td>A</td>\n",
              "      <td>A</td>\n",
              "      <td>A</td>\n",
              "      <td>B</td>\n",
              "      <td>B</td>\n",
              "      <td>A</td>\n",
              "      <td>B</td>\n",
              "      <td>A</td>\n",
              "      <td>B</td>\n",
              "      <td>B</td>\n",
              "    </tr>\n",
              "    <tr>\n",
              "      <th>1</th>\n",
              "      <td>1968816</td>\n",
              "      <td>190003326900</td>\n",
              "      <td>2019</td>\n",
              "      <td>3548500</td>\n",
              "      <td>Santos</td>\n",
              "      <td>35</td>\n",
              "      <td>SP</td>\n",
              "      <td>19.00</td>\n",
              "      <td>F</td>\n",
              "      <td>1</td>\n",
              "      <td>1</td>\n",
              "      <td>1</td>\n",
              "      <td>3548500.00</td>\n",
              "      <td>Santos</td>\n",
              "      <td>35.00</td>\n",
              "      <td>SP</td>\n",
              "      <td>1</td>\n",
              "      <td>1</td>\n",
              "      <td>1</td>\n",
              "      <td>1.00</td>\n",
              "      <td>0</td>\n",
              "      <td>NaN</td>\n",
              "      <td>NaN</td>\n",
              "      <td>None</td>\n",
              "      <td>NaN</td>\n",
              "      <td>None</td>\n",
              "      <td>NaN</td>\n",
              "      <td>NaN</td>\n",
              "      <td>NaN</td>\n",
              "      <td>0</td>\n",
              "      <td>0</td>\n",
              "      <td>0</td>\n",
              "      <td>0</td>\n",
              "      <td>0</td>\n",
              "      <td>0</td>\n",
              "      <td>0</td>\n",
              "      <td>0</td>\n",
              "      <td>0</td>\n",
              "      <td>0</td>\n",
              "      <td>0</td>\n",
              "      <td>0</td>\n",
              "      <td>0</td>\n",
              "      <td>0</td>\n",
              "      <td>0</td>\n",
              "      <td>0</td>\n",
              "      <td>0</td>\n",
              "      <td>0</td>\n",
              "      <td>0</td>\n",
              "      <td>0</td>\n",
              "      <td>0</td>\n",
              "      <td>0</td>\n",
              "      <td>0</td>\n",
              "      <td>0</td>\n",
              "      <td>0</td>\n",
              "      <td>0</td>\n",
              "      <td>0</td>\n",
              "      <td>0</td>\n",
              "      <td>0</td>\n",
              "      <td>0</td>\n",
              "      <td>0</td>\n",
              "      <td>0</td>\n",
              "      <td>0</td>\n",
              "      <td>0</td>\n",
              "      <td>0</td>\n",
              "      <td>0</td>\n",
              "      <td>0</td>\n",
              "      <td>0</td>\n",
              "      <td>0</td>\n",
              "      <td>0</td>\n",
              "      <td>0</td>\n",
              "      <td>0</td>\n",
              "      <td>0</td>\n",
              "      <td>0</td>\n",
              "      <td>0</td>\n",
              "      <td>0</td>\n",
              "      <td>0</td>\n",
              "      <td>0</td>\n",
              "      <td>0</td>\n",
              "      <td>0</td>\n",
              "      <td>0</td>\n",
              "      <td>3548500</td>\n",
              "      <td>Santos</td>\n",
              "      <td>35</td>\n",
              "      <td>SP</td>\n",
              "      <td>1</td>\n",
              "      <td>1</td>\n",
              "      <td>1</td>\n",
              "      <td>1</td>\n",
              "      <td>503.00</td>\n",
              "      <td>508.00</td>\n",
              "      <td>512.00</td>\n",
              "      <td>515.00</td>\n",
              "      <td>543.90</td>\n",
              "      <td>527.70</td>\n",
              "      <td>545.30</td>\n",
              "      <td>513.90</td>\n",
              "      <td>ACDDCEDEDCCBCBBBBAACECADABAEBBDEEACCECBBCBDDC</td>\n",
              "      <td>ACAABDBEEAABDCCAACBEEDCBDEDBBCCCBCEBDDCABCCBB</td>\n",
              "      <td>BBEEA99999DEEBECBBCACDEAABEEBBECEBAAEDCBECADCE...</td>\n",
              "      <td>EBBADECCAEBBCDECCAEBCABDBCDEBBADBDCABAEBDCCEC</td>\n",
              "      <td>0</td>\n",
              "      <td>AAECACDEADCBCDDDBCBDADAEABCEBABEEBCBEECEBDADC</td>\n",
              "      <td>CBABADBBCEEEBCBADCBEEDBBEADBBACDBBACCCCADACAC</td>\n",
              "      <td>BBEDABDACACBABAECBBCCADCEBDBBCDDEEAAADDBECDECA...</td>\n",
              "      <td>EEEADBEBACABCDBABECECACDCBDCCEDCDABEDECDDDBAA</td>\n",
              "      <td>1.00</td>\n",
              "      <td>140.00</td>\n",
              "      <td>140.00</td>\n",
              "      <td>140.00</td>\n",
              "      <td>120.00</td>\n",
              "      <td>140.00</td>\n",
              "      <td>680.00</td>\n",
              "      <td>E</td>\n",
              "      <td>E</td>\n",
              "      <td>B</td>\n",
              "      <td>B</td>\n",
              "      <td>4</td>\n",
              "      <td>I</td>\n",
              "      <td>A</td>\n",
              "      <td>B</td>\n",
              "      <td>C</td>\n",
              "      <td>A</td>\n",
              "      <td>A</td>\n",
              "      <td>B</td>\n",
              "      <td>B</td>\n",
              "      <td>B</td>\n",
              "      <td>A</td>\n",
              "      <td>B</td>\n",
              "      <td>A</td>\n",
              "      <td>A</td>\n",
              "      <td>B</td>\n",
              "      <td>A</td>\n",
              "      <td>B</td>\n",
              "      <td>E</td>\n",
              "      <td>B</td>\n",
              "      <td>B</td>\n",
              "      <td>B</td>\n",
              "    </tr>\n",
              "    <tr>\n",
              "      <th>2</th>\n",
              "      <td>3432726</td>\n",
              "      <td>190004261548</td>\n",
              "      <td>2019</td>\n",
              "      <td>3552106</td>\n",
              "      <td>Socorro</td>\n",
              "      <td>35</td>\n",
              "      <td>SP</td>\n",
              "      <td>16.00</td>\n",
              "      <td>F</td>\n",
              "      <td>1</td>\n",
              "      <td>1</td>\n",
              "      <td>1</td>\n",
              "      <td>3552106.00</td>\n",
              "      <td>Socorro</td>\n",
              "      <td>35.00</td>\n",
              "      <td>SP</td>\n",
              "      <td>3</td>\n",
              "      <td>0</td>\n",
              "      <td>1</td>\n",
              "      <td>NaN</td>\n",
              "      <td>1</td>\n",
              "      <td>NaN</td>\n",
              "      <td>NaN</td>\n",
              "      <td>None</td>\n",
              "      <td>NaN</td>\n",
              "      <td>None</td>\n",
              "      <td>NaN</td>\n",
              "      <td>NaN</td>\n",
              "      <td>NaN</td>\n",
              "      <td>0</td>\n",
              "      <td>0</td>\n",
              "      <td>0</td>\n",
              "      <td>0</td>\n",
              "      <td>0</td>\n",
              "      <td>0</td>\n",
              "      <td>0</td>\n",
              "      <td>0</td>\n",
              "      <td>0</td>\n",
              "      <td>0</td>\n",
              "      <td>0</td>\n",
              "      <td>0</td>\n",
              "      <td>0</td>\n",
              "      <td>0</td>\n",
              "      <td>0</td>\n",
              "      <td>0</td>\n",
              "      <td>0</td>\n",
              "      <td>0</td>\n",
              "      <td>0</td>\n",
              "      <td>0</td>\n",
              "      <td>0</td>\n",
              "      <td>0</td>\n",
              "      <td>0</td>\n",
              "      <td>0</td>\n",
              "      <td>0</td>\n",
              "      <td>0</td>\n",
              "      <td>0</td>\n",
              "      <td>0</td>\n",
              "      <td>0</td>\n",
              "      <td>0</td>\n",
              "      <td>0</td>\n",
              "      <td>0</td>\n",
              "      <td>0</td>\n",
              "      <td>0</td>\n",
              "      <td>0</td>\n",
              "      <td>0</td>\n",
              "      <td>0</td>\n",
              "      <td>0</td>\n",
              "      <td>0</td>\n",
              "      <td>0</td>\n",
              "      <td>0</td>\n",
              "      <td>0</td>\n",
              "      <td>0</td>\n",
              "      <td>0</td>\n",
              "      <td>0</td>\n",
              "      <td>0</td>\n",
              "      <td>0</td>\n",
              "      <td>0</td>\n",
              "      <td>0</td>\n",
              "      <td>0</td>\n",
              "      <td>0</td>\n",
              "      <td>3552106</td>\n",
              "      <td>Socorro</td>\n",
              "      <td>35</td>\n",
              "      <td>SP</td>\n",
              "      <td>1</td>\n",
              "      <td>1</td>\n",
              "      <td>1</td>\n",
              "      <td>1</td>\n",
              "      <td>504.00</td>\n",
              "      <td>509.00</td>\n",
              "      <td>514.00</td>\n",
              "      <td>516.00</td>\n",
              "      <td>406.10</td>\n",
              "      <td>521.20</td>\n",
              "      <td>549.20</td>\n",
              "      <td>510.50</td>\n",
              "      <td>ADCAEDAEADACDCBACEDEABCEBBAEBABBACEEDEACAABCD</td>\n",
              "      <td>ADACCCACDBAABBBDBAEABCCEACAABDEBAECAEDAEDAACE</td>\n",
              "      <td>99999ABCABBAEBCDEDEBDAADCEDCDECBDBDBBECAEDCCBC...</td>\n",
              "      <td>BECACAABACBCABCACDACBDCCDACAAEBCECAECEBCAECEE</td>\n",
              "      <td>1</td>\n",
              "      <td>BEEAAEBEEBADEADDADAEABCEDDDBCBCBCCACBCDADCCEB</td>\n",
              "      <td>ACACEEBCCBABADBBBACDBBACCCCADCEBADCBEEDBBEADB</td>\n",
              "      <td>EBBADCABDABACBCEBDEEAAADDBECDECDDBADBCDAAECBCC...</td>\n",
              "      <td>BEDEEEAADBEBACABCDBABECECACADCBDCCEDCDABECDDD</td>\n",
              "      <td>1.00</td>\n",
              "      <td>120.00</td>\n",
              "      <td>120.00</td>\n",
              "      <td>120.00</td>\n",
              "      <td>120.00</td>\n",
              "      <td>0.00</td>\n",
              "      <td>480.00</td>\n",
              "      <td>F</td>\n",
              "      <td>F</td>\n",
              "      <td>B</td>\n",
              "      <td>D</td>\n",
              "      <td>4</td>\n",
              "      <td>I</td>\n",
              "      <td>A</td>\n",
              "      <td>C</td>\n",
              "      <td>D</td>\n",
              "      <td>B</td>\n",
              "      <td>A</td>\n",
              "      <td>B</td>\n",
              "      <td>A</td>\n",
              "      <td>B</td>\n",
              "      <td>A</td>\n",
              "      <td>B</td>\n",
              "      <td>A</td>\n",
              "      <td>B</td>\n",
              "      <td>C</td>\n",
              "      <td>A</td>\n",
              "      <td>A</td>\n",
              "      <td>E</td>\n",
              "      <td>A</td>\n",
              "      <td>B</td>\n",
              "      <td>B</td>\n",
              "    </tr>\n",
              "  </tbody>\n",
              "</table>\n",
              "</div>\n",
              "      <button class=\"colab-df-convert\" onclick=\"convertToInteractive('df-c39eaeed-0735-4b8e-ad2b-a0d77bbbe3de')\"\n",
              "              title=\"Convert this dataframe to an interactive table.\"\n",
              "              style=\"display:none;\">\n",
              "        \n",
              "  <svg xmlns=\"http://www.w3.org/2000/svg\" height=\"24px\"viewBox=\"0 0 24 24\"\n",
              "       width=\"24px\">\n",
              "    <path d=\"M0 0h24v24H0V0z\" fill=\"none\"/>\n",
              "    <path d=\"M18.56 5.44l.94 2.06.94-2.06 2.06-.94-2.06-.94-.94-2.06-.94 2.06-2.06.94zm-11 1L8.5 8.5l.94-2.06 2.06-.94-2.06-.94L8.5 2.5l-.94 2.06-2.06.94zm10 10l.94 2.06.94-2.06 2.06-.94-2.06-.94-.94-2.06-.94 2.06-2.06.94z\"/><path d=\"M17.41 7.96l-1.37-1.37c-.4-.4-.92-.59-1.43-.59-.52 0-1.04.2-1.43.59L10.3 9.45l-7.72 7.72c-.78.78-.78 2.05 0 2.83L4 21.41c.39.39.9.59 1.41.59.51 0 1.02-.2 1.41-.59l7.78-7.78 2.81-2.81c.8-.78.8-2.07 0-2.86zM5.41 20L4 18.59l7.72-7.72 1.47 1.35L5.41 20z\"/>\n",
              "  </svg>\n",
              "      </button>\n",
              "      \n",
              "  <style>\n",
              "    .colab-df-container {\n",
              "      display:flex;\n",
              "      flex-wrap:wrap;\n",
              "      gap: 12px;\n",
              "    }\n",
              "\n",
              "    .colab-df-convert {\n",
              "      background-color: #E8F0FE;\n",
              "      border: none;\n",
              "      border-radius: 50%;\n",
              "      cursor: pointer;\n",
              "      display: none;\n",
              "      fill: #1967D2;\n",
              "      height: 32px;\n",
              "      padding: 0 0 0 0;\n",
              "      width: 32px;\n",
              "    }\n",
              "\n",
              "    .colab-df-convert:hover {\n",
              "      background-color: #E2EBFA;\n",
              "      box-shadow: 0px 1px 2px rgba(60, 64, 67, 0.3), 0px 1px 3px 1px rgba(60, 64, 67, 0.15);\n",
              "      fill: #174EA6;\n",
              "    }\n",
              "\n",
              "    [theme=dark] .colab-df-convert {\n",
              "      background-color: #3B4455;\n",
              "      fill: #D2E3FC;\n",
              "    }\n",
              "\n",
              "    [theme=dark] .colab-df-convert:hover {\n",
              "      background-color: #434B5C;\n",
              "      box-shadow: 0px 1px 3px 1px rgba(0, 0, 0, 0.15);\n",
              "      filter: drop-shadow(0px 1px 2px rgba(0, 0, 0, 0.3));\n",
              "      fill: #FFFFFF;\n",
              "    }\n",
              "  </style>\n",
              "\n",
              "      <script>\n",
              "        const buttonEl =\n",
              "          document.querySelector('#df-c39eaeed-0735-4b8e-ad2b-a0d77bbbe3de button.colab-df-convert');\n",
              "        buttonEl.style.display =\n",
              "          google.colab.kernel.accessAllowed ? 'block' : 'none';\n",
              "\n",
              "        async function convertToInteractive(key) {\n",
              "          const element = document.querySelector('#df-c39eaeed-0735-4b8e-ad2b-a0d77bbbe3de');\n",
              "          const dataTable =\n",
              "            await google.colab.kernel.invokeFunction('convertToInteractive',\n",
              "                                                     [key], {});\n",
              "          if (!dataTable) return;\n",
              "\n",
              "          const docLinkHtml = 'Like what you see? Visit the ' +\n",
              "            '<a target=\"_blank\" href=https://colab.research.google.com/notebooks/data_table.ipynb>data table notebook</a>'\n",
              "            + ' to learn more about interactive tables.';\n",
              "          element.innerHTML = '';\n",
              "          dataTable['output_type'] = 'display_data';\n",
              "          await google.colab.output.renderOutput(dataTable, element);\n",
              "          const docLink = document.createElement('div');\n",
              "          docLink.innerHTML = docLinkHtml;\n",
              "          element.appendChild(docLink);\n",
              "        }\n",
              "      </script>\n",
              "    </div>\n",
              "  </div>\n",
              "  "
            ]
          },
          "metadata": {},
          "execution_count": 302
        }
      ]
    },
    {
      "cell_type": "code",
      "source": [
        "# Resetando e Renomeado Index:\n",
        "\n",
        "df = df.reset_index( drop = True )\n",
        "df.rename(columns={'Unnamed: 0': 'INDEX'}, inplace = True)"
      ],
      "metadata": {
        "id": "ZoKgNrJDCHfS"
      },
      "execution_count": 303,
      "outputs": []
    },
    {
      "cell_type": "code",
      "source": [
        "print( \"Linhas:\" , df_enem.shape[0] ) \n",
        "print( \"Colunas:\" , df_enem.shape[1] )"
      ],
      "metadata": {
        "colab": {
          "base_uri": "https://localhost:8080/"
        },
        "id": "i0KMUSvZByhL",
        "outputId": "2cfeab08-662c-4ab0-d8ed-fda77dd082fb"
      },
      "execution_count": 304,
      "outputs": [
        {
          "output_type": "stream",
          "name": "stdout",
          "text": [
            "Linhas: 509527\n",
            "Colunas: 137\n"
          ]
        }
      ]
    },
    {
      "cell_type": "code",
      "source": [
        "print(\"Dados do Ano:\", df['NU_ANO'].unique())"
      ],
      "metadata": {
        "id": "CD6W5ClqCW2X",
        "colab": {
          "base_uri": "https://localhost:8080/"
        },
        "outputId": "7f87cafc-9fdb-4afc-9136-24af5833a06b"
      },
      "execution_count": 305,
      "outputs": [
        {
          "output_type": "stream",
          "name": "stdout",
          "text": [
            "Dados do Ano: [2019]\n"
          ]
        }
      ]
    },
    {
      "cell_type": "code",
      "source": [
        "# Visualização dos Tipos de Dados:\n",
        "\n",
        "df.dtypes"
      ],
      "metadata": {
        "colab": {
          "base_uri": "https://localhost:8080/"
        },
        "id": "ZEAAvKy7Cjfa",
        "outputId": "b433aec7-bf9e-4772-e86a-6c4bf8197575"
      },
      "execution_count": 306,
      "outputs": [
        {
          "output_type": "execute_result",
          "data": {
            "text/plain": [
              "INDEX                            int64\n",
              "NU_INSCRICAO                     int64\n",
              "NU_ANO                           int64\n",
              "CO_MUNICIPIO_RESIDENCIA          int64\n",
              "NO_MUNICIPIO_RESIDENCIA         object\n",
              "CO_UF_RESIDENCIA                 int64\n",
              "SG_UF_RESIDENCIA                object\n",
              "NU_IDADE                       float64\n",
              "TP_SEXO                         object\n",
              "TP_ESTADO_CIVIL                  int64\n",
              "TP_COR_RACA                      int64\n",
              "TP_NACIONALIDADE                 int64\n",
              "CO_MUNICIPIO_NASCIMENTO        float64\n",
              "NO_MUNICIPIO_NASCIMENTO         object\n",
              "CO_UF_NASCIMENTO               float64\n",
              "SG_UF_NASCIMENTO                object\n",
              "TP_ST_CONCLUSAO                  int64\n",
              "TP_ANO_CONCLUIU                  int64\n",
              "TP_ESCOLA                        int64\n",
              "TP_ENSINO                      float64\n",
              "IN_TREINEIRO                     int64\n",
              "CO_ESCOLA                      float64\n",
              "CO_MUNICIPIO_ESC               float64\n",
              "NO_MUNICIPIO_ESC                object\n",
              "CO_UF_ESC                      float64\n",
              "SG_UF_ESC                       object\n",
              "TP_DEPENDENCIA_ADM_ESC         float64\n",
              "TP_LOCALIZACAO_ESC             float64\n",
              "TP_SIT_FUNC_ESC                float64\n",
              "IN_BAIXA_VISAO                   int64\n",
              "IN_CEGUEIRA                      int64\n",
              "IN_SURDEZ                        int64\n",
              "IN_DEFICIENCIA_AUDITIVA          int64\n",
              "IN_SURDO_CEGUEIRA                int64\n",
              "IN_DEFICIENCIA_FISICA            int64\n",
              "IN_DEFICIENCIA_MENTAL            int64\n",
              "IN_DEFICIT_ATENCAO               int64\n",
              "IN_DISLEXIA                      int64\n",
              "IN_DISCALCULIA                   int64\n",
              "IN_AUTISMO                       int64\n",
              "IN_VISAO_MONOCULAR               int64\n",
              "IN_OUTRA_DEF                     int64\n",
              "IN_GESTANTE                      int64\n",
              "IN_LACTANTE                      int64\n",
              "IN_IDOSO                         int64\n",
              "IN_ESTUDA_CLASSE_HOSPITALAR      int64\n",
              "IN_SEM_RECURSO                   int64\n",
              "IN_BRAILLE                       int64\n",
              "IN_AMPLIADA_24                   int64\n",
              "IN_AMPLIADA_18                   int64\n",
              "IN_LEDOR                         int64\n",
              "IN_ACESSO                        int64\n",
              "IN_TRANSCRICAO                   int64\n",
              "IN_LIBRAS                        int64\n",
              "IN_TEMPO_ADICIONAL               int64\n",
              "IN_LEITURA_LABIAL                int64\n",
              "IN_MESA_CADEIRA_RODAS            int64\n",
              "IN_MESA_CADEIRA_SEPARADA         int64\n",
              "IN_APOIO_PERNA                   int64\n",
              "IN_GUIA_INTERPRETE               int64\n",
              "IN_COMPUTADOR                    int64\n",
              "IN_CADEIRA_ESPECIAL              int64\n",
              "IN_CADEIRA_CANHOTO               int64\n",
              "IN_CADEIRA_ACOLCHOADA            int64\n",
              "IN_PROVA_DEITADO                 int64\n",
              "IN_MOBILIARIO_OBESO              int64\n",
              "IN_LAMINA_OVERLAY                int64\n",
              "IN_PROTETOR_AURICULAR            int64\n",
              "IN_MEDIDOR_GLICOSE               int64\n",
              "IN_MAQUINA_BRAILE                int64\n",
              "IN_SOROBAN                       int64\n",
              "IN_MARCA_PASSO                   int64\n",
              "IN_SONDA                         int64\n",
              "IN_MEDICAMENTOS                  int64\n",
              "IN_SALA_INDIVIDUAL               int64\n",
              "IN_SALA_ESPECIAL                 int64\n",
              "IN_SALA_ACOMPANHANTE             int64\n",
              "IN_MOBILIARIO_ESPECIFICO         int64\n",
              "IN_MATERIAL_ESPECIFICO           int64\n",
              "IN_NOME_SOCIAL                   int64\n",
              "CO_MUNICIPIO_PROVA               int64\n",
              "NO_MUNICIPIO_PROVA              object\n",
              "CO_UF_PROVA                      int64\n",
              "SG_UF_PROVA                     object\n",
              "TP_PRESENCA_CN                   int64\n",
              "TP_PRESENCA_CH                   int64\n",
              "TP_PRESENCA_LC                   int64\n",
              "TP_PRESENCA_MT                   int64\n",
              "CO_PROVA_CN                    float64\n",
              "CO_PROVA_CH                    float64\n",
              "CO_PROVA_LC                    float64\n",
              "CO_PROVA_MT                    float64\n",
              "NU_NOTA_CN                     float64\n",
              "NU_NOTA_CH                     float64\n",
              "NU_NOTA_LC                     float64\n",
              "NU_NOTA_MT                     float64\n",
              "TX_RESPOSTAS_CN                 object\n",
              "TX_RESPOSTAS_CH                 object\n",
              "TX_RESPOSTAS_LC                 object\n",
              "TX_RESPOSTAS_MT                 object\n",
              "TP_LINGUA                        int64\n",
              "TX_GABARITO_CN                  object\n",
              "TX_GABARITO_CH                  object\n",
              "TX_GABARITO_LC                  object\n",
              "TX_GABARITO_MT                  object\n",
              "TP_STATUS_REDACAO              float64\n",
              "NU_NOTA_COMP1                  float64\n",
              "NU_NOTA_COMP2                  float64\n",
              "NU_NOTA_COMP3                  float64\n",
              "NU_NOTA_COMP4                  float64\n",
              "NU_NOTA_COMP5                  float64\n",
              "NU_NOTA_REDACAO                float64\n",
              "Q001                            object\n",
              "Q002                            object\n",
              "Q003                            object\n",
              "Q004                            object\n",
              "Q005                             int64\n",
              "Q006                            object\n",
              "Q007                            object\n",
              "Q008                            object\n",
              "Q009                            object\n",
              "Q010                            object\n",
              "Q011                            object\n",
              "Q012                            object\n",
              "Q013                            object\n",
              "Q014                            object\n",
              "Q015                            object\n",
              "Q016                            object\n",
              "Q017                            object\n",
              "Q018                            object\n",
              "Q019                            object\n",
              "Q020                            object\n",
              "Q021                            object\n",
              "Q022                            object\n",
              "Q023                            object\n",
              "Q024                            object\n",
              "Q025                            object\n",
              "dtype: object"
            ]
          },
          "metadata": {},
          "execution_count": 306
        }
      ]
    },
    {
      "cell_type": "markdown",
      "source": [
        "## Remoção de Colunas:"
      ],
      "metadata": {
        "id": "Ox3onFkoElDq"
      }
    },
    {
      "cell_type": "markdown",
      "source": [
        "Temos colunas que não são importantes para nossa análise. \n",
        "\n",
        "Então, removerei algumas colunas para economizar memória e ganhar velocidade de processamento. "
      ],
      "metadata": {
        "id": "WOKufwGpEoZW"
      }
    },
    {
      "cell_type": "code",
      "source": [
        "colunas_questão = [coluna for coluna in df.columns if coluna.startswith( 'TX_' ) ] \n",
        "colunas_codigos = [ coluna for coluna in df.columns if coluna.startswith( 'CO_' ) ]\n",
        "colunas_municipios = [ coluna for coluna in df.columns if 'MUNICIPIO' in coluna]\n",
        "\n",
        "outras_colunas =  ['NU_ANO', 'SG_UF_NASCIMENTO', 'TP_ST_CONCLUSAO', 'TP_ANO_CONCLUIU', 'TP_ENSINO', 'IN_TREINEIRO', 'SG_UF_ESC', 'TP_DEPENDENCIA_ADM_ESC', 'TP_LOCALIZACAO_ESC', 'TP_SIT_FUNC_ESC', \n",
        "                  'IN_GESTANTE', 'IN_LACTANTE', 'IN_IDOSO', 'IN_ESTUDA_CLASSE_HOSPITALAR', 'IN_SEM_RECURSO', 'IN_BRAILLE', 'IN_AMPLIADA_24', 'IN_AMPLIADA_18', 'IN_LEDOR', 'IN_ACESSO', 'IN_TRANSCRICAO', \n",
        "                  'IN_LIBRAS', 'IN_TEMPO_ADICIONAL', 'IN_LEITURA_LABIAL', 'IN_MESA_CADEIRA_RODAS', 'IN_MESA_CADEIRA_SEPARADA', 'IN_APOIO_PERNA', 'IN_GUIA_INTERPRETE', 'IN_COMPUTADOR', 'IN_CADEIRA_ESPECIAL', \n",
        "                  'IN_CADEIRA_CANHOTO', 'IN_CADEIRA_ACOLCHOADA','IN_PROVA_DEITADO', 'IN_MOBILIARIO_OBESO', 'IN_LAMINA_OVERLAY', 'IN_PROTETOR_AURICULAR', 'IN_MEDIDOR_GLICOSE', 'IN_MAQUINA_BRAILE', 'IN_SOROBAN',\n",
        "                  'IN_MARCA_PASSO', 'IN_SONDA', 'IN_MEDICAMENTOS', 'IN_SALA_INDIVIDUAL', 'IN_SALA_ESPECIAL', 'IN_SALA_ACOMPANHANTE', 'IN_MOBILIARIO_ESPECIFICO', 'IN_MATERIAL_ESPECIFICO', 'IN_NOME_SOCIAL', 'SG_UF_PROVA', \n",
        "                  'TP_PRESENCA_CN', 'TP_PRESENCA_CH', 'TP_PRESENCA_LC', 'TP_PRESENCA_MT','TP_LINGUA', 'TP_STATUS_REDACAO', 'NU_NOTA_COMP1', 'NU_NOTA_COMP2', 'NU_NOTA_COMP3', 'NU_NOTA_COMP4','NU_NOTA_COMP5']\n",
        "\n",
        "colunas_remover = colunas_questão + colunas_codigos + colunas_municipios + outras_colunas"
      ],
      "metadata": {
        "id": "i_SniQS6DnJh"
      },
      "execution_count": 307,
      "outputs": []
    },
    {
      "cell_type": "code",
      "source": [
        "df = df.drop( colunas_remover , axis= 1 ) "
      ],
      "metadata": {
        "id": "50mCrtn-HSWT"
      },
      "execution_count": 308,
      "outputs": []
    },
    {
      "cell_type": "markdown",
      "source": [
        "Foram reduzidos 40,14% das colunas."
      ],
      "metadata": {
        "id": "C7pXCbpDfFa_"
      }
    },
    {
      "cell_type": "markdown",
      "source": [
        "## Estatítica Descritiva:"
      ],
      "metadata": {
        "id": "40t2v_TYIOmK"
      }
    },
    {
      "cell_type": "code",
      "source": [
        "df.describe()"
      ],
      "metadata": {
        "colab": {
          "base_uri": "https://localhost:8080/",
          "height": 364
        },
        "id": "vOdwxi3WIS3b",
        "outputId": "b2e5d590-62d6-4c94-98bd-a6fb65b390eb"
      },
      "execution_count": 309,
      "outputs": [
        {
          "output_type": "execute_result",
          "data": {
            "text/plain": [
              "           INDEX    NU_INSCRICAO  NU_IDADE  TP_ESTADO_CIVIL  TP_COR_RACA  \\\n",
              "count  509527.00       509527.00 509519.00        509527.00    509527.00   \n",
              "mean  2546050.54 190003550908.19     22.10             1.08         2.13   \n",
              "std   1470141.84      1471186.69      7.47             0.44         1.02   \n",
              "min         8.00 190001004657.00     12.00             0.00         0.00   \n",
              "25%   1271267.00 190002276570.50     18.00             1.00         1.00   \n",
              "50%   2548061.00 190003552273.00     19.00             1.00         2.00   \n",
              "75%   3816330.00 190004822237.00     24.00             1.00         3.00   \n",
              "max   5095250.00 190006120178.00     86.00             4.00         5.00   \n",
              "\n",
              "       TP_NACIONALIDADE  TP_ESCOLA  IN_BAIXA_VISAO  IN_CEGUEIRA  IN_SURDEZ  \\\n",
              "count         509527.00  509527.00       509527.00    509527.00  509527.00   \n",
              "mean               1.03       1.33            0.00         0.00       0.00   \n",
              "std                0.21       0.55            0.04         0.01       0.02   \n",
              "min                0.00       1.00            0.00         0.00       0.00   \n",
              "25%                1.00       1.00            0.00         0.00       0.00   \n",
              "50%                1.00       1.00            0.00         0.00       0.00   \n",
              "75%                1.00       2.00            0.00         0.00       0.00   \n",
              "max                4.00       3.00            1.00         1.00       1.00   \n",
              "\n",
              "       IN_DEFICIENCIA_AUDITIVA  IN_SURDO_CEGUEIRA  IN_DEFICIENCIA_FISICA  \\\n",
              "count                509527.00          509527.00              509527.00   \n",
              "mean                      0.00               0.00                   0.00   \n",
              "std                       0.02               0.00                   0.04   \n",
              "min                       0.00               0.00                   0.00   \n",
              "25%                       0.00               0.00                   0.00   \n",
              "50%                       0.00               0.00                   0.00   \n",
              "75%                       0.00               0.00                   0.00   \n",
              "max                       1.00               1.00                   1.00   \n",
              "\n",
              "       IN_DEFICIENCIA_MENTAL  IN_DEFICIT_ATENCAO  IN_DISLEXIA  IN_DISCALCULIA  \\\n",
              "count              509527.00           509527.00    509527.00       509527.00   \n",
              "mean                    0.00                0.00         0.00            0.00   \n",
              "std                     0.02                0.04         0.02            0.01   \n",
              "min                     0.00                0.00         0.00            0.00   \n",
              "25%                     0.00                0.00         0.00            0.00   \n",
              "50%                     0.00                0.00         0.00            0.00   \n",
              "75%                     0.00                0.00         0.00            0.00   \n",
              "max                     1.00                1.00         1.00            1.00   \n",
              "\n",
              "       IN_AUTISMO  IN_VISAO_MONOCULAR  IN_OUTRA_DEF  NU_NOTA_CN  NU_NOTA_CH  \\\n",
              "count   509527.00           509527.00     509527.00   371475.00   392613.00   \n",
              "mean         0.00                0.00          0.00      477.66      507.25   \n",
              "std          0.02                0.01          0.02       76.00       82.22   \n",
              "min          0.00                0.00          0.00        0.00        0.00   \n",
              "25%          0.00                0.00          0.00      417.80      448.00   \n",
              "50%          0.00                0.00          0.00      470.20      510.70   \n",
              "75%          0.00                0.00          0.00      532.90      566.50   \n",
              "max          1.00                1.00          1.00      860.90      811.90   \n",
              "\n",
              "       NU_NOTA_LC  NU_NOTA_MT  NU_NOTA_REDACAO      Q005  \n",
              "count   392613.00   371475.00        392613.00 509527.00  \n",
              "mean       520.46      522.92           571.30      3.87  \n",
              "std         64.02      108.94           188.74      1.48  \n",
              "min          0.00        0.00             0.00      1.00  \n",
              "25%        483.50      435.10           480.00      3.00  \n",
              "50%        526.10      500.90           580.00      4.00  \n",
              "75%        565.20      597.10           680.00      5.00  \n",
              "max        801.70      985.00          1000.00     20.00  "
            ],
            "text/html": [
              "\n",
              "  <div id=\"df-ade3d675-8965-4eea-a431-28018b7e0a56\">\n",
              "    <div class=\"colab-df-container\">\n",
              "      <div>\n",
              "<style scoped>\n",
              "    .dataframe tbody tr th:only-of-type {\n",
              "        vertical-align: middle;\n",
              "    }\n",
              "\n",
              "    .dataframe tbody tr th {\n",
              "        vertical-align: top;\n",
              "    }\n",
              "\n",
              "    .dataframe thead th {\n",
              "        text-align: right;\n",
              "    }\n",
              "</style>\n",
              "<table border=\"1\" class=\"dataframe\">\n",
              "  <thead>\n",
              "    <tr style=\"text-align: right;\">\n",
              "      <th></th>\n",
              "      <th>INDEX</th>\n",
              "      <th>NU_INSCRICAO</th>\n",
              "      <th>NU_IDADE</th>\n",
              "      <th>TP_ESTADO_CIVIL</th>\n",
              "      <th>TP_COR_RACA</th>\n",
              "      <th>TP_NACIONALIDADE</th>\n",
              "      <th>TP_ESCOLA</th>\n",
              "      <th>IN_BAIXA_VISAO</th>\n",
              "      <th>IN_CEGUEIRA</th>\n",
              "      <th>IN_SURDEZ</th>\n",
              "      <th>IN_DEFICIENCIA_AUDITIVA</th>\n",
              "      <th>IN_SURDO_CEGUEIRA</th>\n",
              "      <th>IN_DEFICIENCIA_FISICA</th>\n",
              "      <th>IN_DEFICIENCIA_MENTAL</th>\n",
              "      <th>IN_DEFICIT_ATENCAO</th>\n",
              "      <th>IN_DISLEXIA</th>\n",
              "      <th>IN_DISCALCULIA</th>\n",
              "      <th>IN_AUTISMO</th>\n",
              "      <th>IN_VISAO_MONOCULAR</th>\n",
              "      <th>IN_OUTRA_DEF</th>\n",
              "      <th>NU_NOTA_CN</th>\n",
              "      <th>NU_NOTA_CH</th>\n",
              "      <th>NU_NOTA_LC</th>\n",
              "      <th>NU_NOTA_MT</th>\n",
              "      <th>NU_NOTA_REDACAO</th>\n",
              "      <th>Q005</th>\n",
              "    </tr>\n",
              "  </thead>\n",
              "  <tbody>\n",
              "    <tr>\n",
              "      <th>count</th>\n",
              "      <td>509527.00</td>\n",
              "      <td>509527.00</td>\n",
              "      <td>509519.00</td>\n",
              "      <td>509527.00</td>\n",
              "      <td>509527.00</td>\n",
              "      <td>509527.00</td>\n",
              "      <td>509527.00</td>\n",
              "      <td>509527.00</td>\n",
              "      <td>509527.00</td>\n",
              "      <td>509527.00</td>\n",
              "      <td>509527.00</td>\n",
              "      <td>509527.00</td>\n",
              "      <td>509527.00</td>\n",
              "      <td>509527.00</td>\n",
              "      <td>509527.00</td>\n",
              "      <td>509527.00</td>\n",
              "      <td>509527.00</td>\n",
              "      <td>509527.00</td>\n",
              "      <td>509527.00</td>\n",
              "      <td>509527.00</td>\n",
              "      <td>371475.00</td>\n",
              "      <td>392613.00</td>\n",
              "      <td>392613.00</td>\n",
              "      <td>371475.00</td>\n",
              "      <td>392613.00</td>\n",
              "      <td>509527.00</td>\n",
              "    </tr>\n",
              "    <tr>\n",
              "      <th>mean</th>\n",
              "      <td>2546050.54</td>\n",
              "      <td>190003550908.19</td>\n",
              "      <td>22.10</td>\n",
              "      <td>1.08</td>\n",
              "      <td>2.13</td>\n",
              "      <td>1.03</td>\n",
              "      <td>1.33</td>\n",
              "      <td>0.00</td>\n",
              "      <td>0.00</td>\n",
              "      <td>0.00</td>\n",
              "      <td>0.00</td>\n",
              "      <td>0.00</td>\n",
              "      <td>0.00</td>\n",
              "      <td>0.00</td>\n",
              "      <td>0.00</td>\n",
              "      <td>0.00</td>\n",
              "      <td>0.00</td>\n",
              "      <td>0.00</td>\n",
              "      <td>0.00</td>\n",
              "      <td>0.00</td>\n",
              "      <td>477.66</td>\n",
              "      <td>507.25</td>\n",
              "      <td>520.46</td>\n",
              "      <td>522.92</td>\n",
              "      <td>571.30</td>\n",
              "      <td>3.87</td>\n",
              "    </tr>\n",
              "    <tr>\n",
              "      <th>std</th>\n",
              "      <td>1470141.84</td>\n",
              "      <td>1471186.69</td>\n",
              "      <td>7.47</td>\n",
              "      <td>0.44</td>\n",
              "      <td>1.02</td>\n",
              "      <td>0.21</td>\n",
              "      <td>0.55</td>\n",
              "      <td>0.04</td>\n",
              "      <td>0.01</td>\n",
              "      <td>0.02</td>\n",
              "      <td>0.02</td>\n",
              "      <td>0.00</td>\n",
              "      <td>0.04</td>\n",
              "      <td>0.02</td>\n",
              "      <td>0.04</td>\n",
              "      <td>0.02</td>\n",
              "      <td>0.01</td>\n",
              "      <td>0.02</td>\n",
              "      <td>0.01</td>\n",
              "      <td>0.02</td>\n",
              "      <td>76.00</td>\n",
              "      <td>82.22</td>\n",
              "      <td>64.02</td>\n",
              "      <td>108.94</td>\n",
              "      <td>188.74</td>\n",
              "      <td>1.48</td>\n",
              "    </tr>\n",
              "    <tr>\n",
              "      <th>min</th>\n",
              "      <td>8.00</td>\n",
              "      <td>190001004657.00</td>\n",
              "      <td>12.00</td>\n",
              "      <td>0.00</td>\n",
              "      <td>0.00</td>\n",
              "      <td>0.00</td>\n",
              "      <td>1.00</td>\n",
              "      <td>0.00</td>\n",
              "      <td>0.00</td>\n",
              "      <td>0.00</td>\n",
              "      <td>0.00</td>\n",
              "      <td>0.00</td>\n",
              "      <td>0.00</td>\n",
              "      <td>0.00</td>\n",
              "      <td>0.00</td>\n",
              "      <td>0.00</td>\n",
              "      <td>0.00</td>\n",
              "      <td>0.00</td>\n",
              "      <td>0.00</td>\n",
              "      <td>0.00</td>\n",
              "      <td>0.00</td>\n",
              "      <td>0.00</td>\n",
              "      <td>0.00</td>\n",
              "      <td>0.00</td>\n",
              "      <td>0.00</td>\n",
              "      <td>1.00</td>\n",
              "    </tr>\n",
              "    <tr>\n",
              "      <th>25%</th>\n",
              "      <td>1271267.00</td>\n",
              "      <td>190002276570.50</td>\n",
              "      <td>18.00</td>\n",
              "      <td>1.00</td>\n",
              "      <td>1.00</td>\n",
              "      <td>1.00</td>\n",
              "      <td>1.00</td>\n",
              "      <td>0.00</td>\n",
              "      <td>0.00</td>\n",
              "      <td>0.00</td>\n",
              "      <td>0.00</td>\n",
              "      <td>0.00</td>\n",
              "      <td>0.00</td>\n",
              "      <td>0.00</td>\n",
              "      <td>0.00</td>\n",
              "      <td>0.00</td>\n",
              "      <td>0.00</td>\n",
              "      <td>0.00</td>\n",
              "      <td>0.00</td>\n",
              "      <td>0.00</td>\n",
              "      <td>417.80</td>\n",
              "      <td>448.00</td>\n",
              "      <td>483.50</td>\n",
              "      <td>435.10</td>\n",
              "      <td>480.00</td>\n",
              "      <td>3.00</td>\n",
              "    </tr>\n",
              "    <tr>\n",
              "      <th>50%</th>\n",
              "      <td>2548061.00</td>\n",
              "      <td>190003552273.00</td>\n",
              "      <td>19.00</td>\n",
              "      <td>1.00</td>\n",
              "      <td>2.00</td>\n",
              "      <td>1.00</td>\n",
              "      <td>1.00</td>\n",
              "      <td>0.00</td>\n",
              "      <td>0.00</td>\n",
              "      <td>0.00</td>\n",
              "      <td>0.00</td>\n",
              "      <td>0.00</td>\n",
              "      <td>0.00</td>\n",
              "      <td>0.00</td>\n",
              "      <td>0.00</td>\n",
              "      <td>0.00</td>\n",
              "      <td>0.00</td>\n",
              "      <td>0.00</td>\n",
              "      <td>0.00</td>\n",
              "      <td>0.00</td>\n",
              "      <td>470.20</td>\n",
              "      <td>510.70</td>\n",
              "      <td>526.10</td>\n",
              "      <td>500.90</td>\n",
              "      <td>580.00</td>\n",
              "      <td>4.00</td>\n",
              "    </tr>\n",
              "    <tr>\n",
              "      <th>75%</th>\n",
              "      <td>3816330.00</td>\n",
              "      <td>190004822237.00</td>\n",
              "      <td>24.00</td>\n",
              "      <td>1.00</td>\n",
              "      <td>3.00</td>\n",
              "      <td>1.00</td>\n",
              "      <td>2.00</td>\n",
              "      <td>0.00</td>\n",
              "      <td>0.00</td>\n",
              "      <td>0.00</td>\n",
              "      <td>0.00</td>\n",
              "      <td>0.00</td>\n",
              "      <td>0.00</td>\n",
              "      <td>0.00</td>\n",
              "      <td>0.00</td>\n",
              "      <td>0.00</td>\n",
              "      <td>0.00</td>\n",
              "      <td>0.00</td>\n",
              "      <td>0.00</td>\n",
              "      <td>0.00</td>\n",
              "      <td>532.90</td>\n",
              "      <td>566.50</td>\n",
              "      <td>565.20</td>\n",
              "      <td>597.10</td>\n",
              "      <td>680.00</td>\n",
              "      <td>5.00</td>\n",
              "    </tr>\n",
              "    <tr>\n",
              "      <th>max</th>\n",
              "      <td>5095250.00</td>\n",
              "      <td>190006120178.00</td>\n",
              "      <td>86.00</td>\n",
              "      <td>4.00</td>\n",
              "      <td>5.00</td>\n",
              "      <td>4.00</td>\n",
              "      <td>3.00</td>\n",
              "      <td>1.00</td>\n",
              "      <td>1.00</td>\n",
              "      <td>1.00</td>\n",
              "      <td>1.00</td>\n",
              "      <td>1.00</td>\n",
              "      <td>1.00</td>\n",
              "      <td>1.00</td>\n",
              "      <td>1.00</td>\n",
              "      <td>1.00</td>\n",
              "      <td>1.00</td>\n",
              "      <td>1.00</td>\n",
              "      <td>1.00</td>\n",
              "      <td>1.00</td>\n",
              "      <td>860.90</td>\n",
              "      <td>811.90</td>\n",
              "      <td>801.70</td>\n",
              "      <td>985.00</td>\n",
              "      <td>1000.00</td>\n",
              "      <td>20.00</td>\n",
              "    </tr>\n",
              "  </tbody>\n",
              "</table>\n",
              "</div>\n",
              "      <button class=\"colab-df-convert\" onclick=\"convertToInteractive('df-ade3d675-8965-4eea-a431-28018b7e0a56')\"\n",
              "              title=\"Convert this dataframe to an interactive table.\"\n",
              "              style=\"display:none;\">\n",
              "        \n",
              "  <svg xmlns=\"http://www.w3.org/2000/svg\" height=\"24px\"viewBox=\"0 0 24 24\"\n",
              "       width=\"24px\">\n",
              "    <path d=\"M0 0h24v24H0V0z\" fill=\"none\"/>\n",
              "    <path d=\"M18.56 5.44l.94 2.06.94-2.06 2.06-.94-2.06-.94-.94-2.06-.94 2.06-2.06.94zm-11 1L8.5 8.5l.94-2.06 2.06-.94-2.06-.94L8.5 2.5l-.94 2.06-2.06.94zm10 10l.94 2.06.94-2.06 2.06-.94-2.06-.94-.94-2.06-.94 2.06-2.06.94z\"/><path d=\"M17.41 7.96l-1.37-1.37c-.4-.4-.92-.59-1.43-.59-.52 0-1.04.2-1.43.59L10.3 9.45l-7.72 7.72c-.78.78-.78 2.05 0 2.83L4 21.41c.39.39.9.59 1.41.59.51 0 1.02-.2 1.41-.59l7.78-7.78 2.81-2.81c.8-.78.8-2.07 0-2.86zM5.41 20L4 18.59l7.72-7.72 1.47 1.35L5.41 20z\"/>\n",
              "  </svg>\n",
              "      </button>\n",
              "      \n",
              "  <style>\n",
              "    .colab-df-container {\n",
              "      display:flex;\n",
              "      flex-wrap:wrap;\n",
              "      gap: 12px;\n",
              "    }\n",
              "\n",
              "    .colab-df-convert {\n",
              "      background-color: #E8F0FE;\n",
              "      border: none;\n",
              "      border-radius: 50%;\n",
              "      cursor: pointer;\n",
              "      display: none;\n",
              "      fill: #1967D2;\n",
              "      height: 32px;\n",
              "      padding: 0 0 0 0;\n",
              "      width: 32px;\n",
              "    }\n",
              "\n",
              "    .colab-df-convert:hover {\n",
              "      background-color: #E2EBFA;\n",
              "      box-shadow: 0px 1px 2px rgba(60, 64, 67, 0.3), 0px 1px 3px 1px rgba(60, 64, 67, 0.15);\n",
              "      fill: #174EA6;\n",
              "    }\n",
              "\n",
              "    [theme=dark] .colab-df-convert {\n",
              "      background-color: #3B4455;\n",
              "      fill: #D2E3FC;\n",
              "    }\n",
              "\n",
              "    [theme=dark] .colab-df-convert:hover {\n",
              "      background-color: #434B5C;\n",
              "      box-shadow: 0px 1px 3px 1px rgba(0, 0, 0, 0.15);\n",
              "      filter: drop-shadow(0px 1px 2px rgba(0, 0, 0, 0.3));\n",
              "      fill: #FFFFFF;\n",
              "    }\n",
              "  </style>\n",
              "\n",
              "      <script>\n",
              "        const buttonEl =\n",
              "          document.querySelector('#df-ade3d675-8965-4eea-a431-28018b7e0a56 button.colab-df-convert');\n",
              "        buttonEl.style.display =\n",
              "          google.colab.kernel.accessAllowed ? 'block' : 'none';\n",
              "\n",
              "        async function convertToInteractive(key) {\n",
              "          const element = document.querySelector('#df-ade3d675-8965-4eea-a431-28018b7e0a56');\n",
              "          const dataTable =\n",
              "            await google.colab.kernel.invokeFunction('convertToInteractive',\n",
              "                                                     [key], {});\n",
              "          if (!dataTable) return;\n",
              "\n",
              "          const docLinkHtml = 'Like what you see? Visit the ' +\n",
              "            '<a target=\"_blank\" href=https://colab.research.google.com/notebooks/data_table.ipynb>data table notebook</a>'\n",
              "            + ' to learn more about interactive tables.';\n",
              "          element.innerHTML = '';\n",
              "          dataTable['output_type'] = 'display_data';\n",
              "          await google.colab.output.renderOutput(dataTable, element);\n",
              "          const docLink = document.createElement('div');\n",
              "          docLink.innerHTML = docLinkHtml;\n",
              "          element.appendChild(docLink);\n",
              "        }\n",
              "      </script>\n",
              "    </div>\n",
              "  </div>\n",
              "  "
            ]
          },
          "metadata": {},
          "execution_count": 309
        }
      ]
    },
    {
      "cell_type": "code",
      "source": [
        "colunas_notas = [ coluna for coluna in df if 'NOTA' in coluna ]\n",
        "\n",
        "colunas_notas"
      ],
      "metadata": {
        "colab": {
          "base_uri": "https://localhost:8080/"
        },
        "id": "bAK0Nmn-IdZI",
        "outputId": "21da07da-568d-4ab2-d2b4-f58d08835eb4"
      },
      "execution_count": 310,
      "outputs": [
        {
          "output_type": "execute_result",
          "data": {
            "text/plain": [
              "['NU_NOTA_CN', 'NU_NOTA_CH', 'NU_NOTA_LC', 'NU_NOTA_MT', 'NU_NOTA_REDACAO']"
            ]
          },
          "metadata": {},
          "execution_count": 310
        }
      ]
    },
    {
      "cell_type": "code",
      "source": [
        "# Analisando as Notas:\n",
        "\n",
        "sns.set_style( \"darkgrid\" ) \n",
        "\n",
        "figura, graficos = plt.subplots( 1 , 4 , sharey = True , figsize = ( 8 , 6 ) )\n",
        "\n",
        "plt.tight_layout()\n",
        "\n",
        "cores = [ '#2573bb','#bf67bf','#ff6479','#ffa600' ]\n",
        "\n",
        "for i in range(4):\n",
        "    coluna_1 = colunas_notas[i]\n",
        "    sns.boxplot( data = df , y = coluna_1 , ax = graficos[i] , color=cores[i] )"
      ],
      "metadata": {
        "colab": {
          "base_uri": "https://localhost:8080/",
          "height": 418
        },
        "id": "3YG1vzPvIlET",
        "outputId": "d120ccc9-4a76-4d7d-cda7-63c23927da97"
      },
      "execution_count": 311,
      "outputs": [
        {
          "output_type": "display_data",
          "data": {
            "text/plain": [
              "<Figure size 576x432 with 4 Axes>"
            ],
            "image/png": "[encoded data removed]"
          },
          "metadata": {}
        }
      ]
    },
    {
      "cell_type": "code",
      "source": [
        "# Analisando as distribuições das notas:\n",
        "\n",
        "sns.set_style( \"darkgrid\" )\n",
        "\n",
        "figura, graficos = plt.subplots ( 4 , 1 , sharex = True , tight_layout=True, figsize = ( 8 , 6 ) )\n",
        "\n",
        "cores = [ '#024873' , '#012840' ,'#011826' , '#5888A6' ]\n",
        "\n",
        "plt.tight_layout()\n",
        "\n",
        "for i in range(4):\n",
        "    coluna_1 = colunas_notas[i]\n",
        "    sns.histplot ( data = df[coluna_1] , ax = graficos[i] , color=cores[i] ).set_title( coluna_1 )"
      ],
      "metadata": {
        "colab": {
          "base_uri": "https://localhost:8080/",
          "height": 440
        },
        "id": "nPaFyreMIp4U",
        "outputId": "be4b4448-285e-46e4-db61-6691c2c51f67"
      },
      "execution_count": 312,
      "outputs": [
        {
          "output_type": "display_data",
          "data": {
            "text/plain": [
              "<Figure size 576x432 with 4 Axes>"
            ],
            "image/png": "[encoded data removed]"
          },
          "metadata": {}
        }
      ]
    },
    {
      "cell_type": "code",
      "source": [
        "# Analisando a nota da redação:\n",
        "\n",
        "sns.set( rc = { 'figure.figsize' : ( 8 , 6 ) } )\n",
        "\n",
        "sns.histplot( data = df[ 'NU_NOTA_REDACAO' ] , color = '#01403A' ).set_title( 'NU_NOTA_REDACAO' ) "
      ],
      "metadata": {
        "colab": {
          "base_uri": "https://localhost:8080/",
          "height": 427
        },
        "id": "F4rQ56L-Iu51",
        "outputId": "3e2a1f2a-e201-412a-ee0c-22622e32185a"
      },
      "execution_count": 313,
      "outputs": [
        {
          "output_type": "execute_result",
          "data": {
            "text/plain": [
              "Text(0.5, 1.0, 'NU_NOTA_REDACAO')"
            ]
          },
          "metadata": {},
          "execution_count": 313
        },
        {
          "output_type": "display_data",
          "data": {
            "text/plain": [
              "<Figure size 576x432 with 1 Axes>"
            ],
            "image/png": "[encoded data removed]"
          },
          "metadata": {}
        }
      ]
    },
    {
      "cell_type": "code",
      "source": [
        "# Os dados do histograma de Redação está muito esparso. Por isso, usei o gráfico de densidade.\n",
        "\n",
        "sns.set( rc = { 'figure.figsize' : ( 8 , 6 ) } )\n",
        "\n",
        "sns.kdeplot( data = df[ 'NU_NOTA_REDACAO' ] , color = '#01403A' ).set_title( 'NU_NOTA_REDACAO' ) "
      ],
      "metadata": {
        "colab": {
          "base_uri": "https://localhost:8080/",
          "height": 427
        },
        "id": "x2F27NA6Iw6y",
        "outputId": "9822bfa5-9ba5-4126-ddb3-bcc3c05b928a"
      },
      "execution_count": 314,
      "outputs": [
        {
          "output_type": "execute_result",
          "data": {
            "text/plain": [
              "Text(0.5, 1.0, 'NU_NOTA_REDACAO')"
            ]
          },
          "metadata": {},
          "execution_count": 314
        },
        {
          "output_type": "display_data",
          "data": {
            "text/plain": [
              "<Figure size 576x432 with 1 Axes>"
            ],
            "image/png": "[encoded data removed]"
          },
          "metadata": {}
        }
      ]
    },
    {
      "cell_type": "markdown",
      "source": [
        "# Dados Demográficos:"
      ],
      "metadata": {
        "id": "3lMMQgUJJDzx"
      }
    },
    {
      "cell_type": "code",
      "source": [
        "# Analisando IDADE:\n",
        "\n",
        "df[ 'NU_IDADE' ].value_counts().sort_index()"
      ],
      "metadata": {
        "colab": {
          "base_uri": "https://localhost:8080/"
        },
        "id": "dABD5GWlJNPu",
        "outputId": "95f58e13-67f5-4d10-edce-3c0b8b47705e"
      },
      "execution_count": 315,
      "outputs": [
        {
          "output_type": "execute_result",
          "data": {
            "text/plain": [
              "12.00        6\n",
              "13.00       23\n",
              "14.00      529\n",
              "15.00     7824\n",
              "16.00    31369\n",
              "17.00    84619\n",
              "18.00    86634\n",
              "19.00    57786\n",
              "20.00    41133\n",
              "21.00    28944\n",
              "22.00    23356\n",
              "23.00    18516\n",
              "24.00    15612\n",
              "25.00    12823\n",
              "26.00    10792\n",
              "27.00     9046\n",
              "28.00     7746\n",
              "29.00     6816\n",
              "30.00     6178\n",
              "31.00     5637\n",
              "32.00     4950\n",
              "33.00     4697\n",
              "34.00     4288\n",
              "35.00     3889\n",
              "36.00     3601\n",
              "37.00     3463\n",
              "38.00     3339\n",
              "39.00     2915\n",
              "40.00     2572\n",
              "41.00     2329\n",
              "42.00     2088\n",
              "43.00     1857\n",
              "44.00     1581\n",
              "45.00     1570\n",
              "46.00     1369\n",
              "47.00     1276\n",
              "48.00     1025\n",
              "49.00      974\n",
              "50.00      849\n",
              "51.00      740\n",
              "52.00      712\n",
              "53.00      603\n",
              "54.00      577\n",
              "55.00      480\n",
              "56.00      412\n",
              "57.00      358\n",
              "58.00      315\n",
              "59.00      239\n",
              "60.00      200\n",
              "61.00      159\n",
              "62.00      141\n",
              "63.00      106\n",
              "64.00      105\n",
              "65.00       64\n",
              "66.00       55\n",
              "67.00       63\n",
              "68.00       35\n",
              "69.00       31\n",
              "70.00       27\n",
              "71.00       18\n",
              "72.00       12\n",
              "73.00        8\n",
              "74.00       10\n",
              "75.00        7\n",
              "76.00        3\n",
              "77.00        1\n",
              "78.00        5\n",
              "79.00        1\n",
              "80.00        5\n",
              "82.00        2\n",
              "83.00        1\n",
              "84.00        1\n",
              "85.00        1\n",
              "86.00        1\n",
              "Name: NU_IDADE, dtype: int64"
            ]
          },
          "metadata": {},
          "execution_count": 315
        }
      ]
    },
    {
      "cell_type": "code",
      "source": [
        "sns.set( rc = { 'figure.figsize' : ( 8 , 6 ) } )\n",
        "\n",
        "sns.kdeplot( data = df, x = 'NU_IDADE' , color = '#01403A' )"
      ],
      "metadata": {
        "colab": {
          "base_uri": "https://localhost:8080/",
          "height": 411
        },
        "id": "ycqimWzQJPhy",
        "outputId": "17acffa5-9b1f-49fc-8d6f-8e4523e515bf"
      },
      "execution_count": 316,
      "outputs": [
        {
          "output_type": "execute_result",
          "data": {
            "text/plain": [
              "<matplotlib.axes._subplots.AxesSubplot at 0x7f3b93b7cd10>"
            ]
          },
          "metadata": {},
          "execution_count": 316
        },
        {
          "output_type": "display_data",
          "data": {
            "text/plain": [
              "<Figure size 576x432 with 1 Axes>"
            ],
            "image/png": "[encoded data removed]"
          },
          "metadata": {}
        }
      ]
    },
    {
      "cell_type": "code",
      "source": [
        "df[ 'TP_SEXO' ].value_counts()"
      ],
      "metadata": {
        "colab": {
          "base_uri": "https://localhost:8080/"
        },
        "id": "qbDBxBzfJTXS",
        "outputId": "3bf35a6f-5a8a-450a-a9c0-b55bb28e3a8b"
      },
      "execution_count": 317,
      "outputs": [
        {
          "output_type": "execute_result",
          "data": {
            "text/plain": [
              "F    303139\n",
              "M    206388\n",
              "Name: TP_SEXO, dtype: int64"
            ]
          },
          "metadata": {},
          "execution_count": 317
        }
      ]
    },
    {
      "cell_type": "code",
      "source": [
        "df[ 'TP_SEXO' ].value_counts( normalize = True ) * 100"
      ],
      "metadata": {
        "colab": {
          "base_uri": "https://localhost:8080/"
        },
        "id": "QUW7YRCIJVCq",
        "outputId": "250de953-9f17-4b8e-88b2-74571d18b90a"
      },
      "execution_count": 318,
      "outputs": [
        {
          "output_type": "execute_result",
          "data": {
            "text/plain": [
              "F   59.49\n",
              "M   40.51\n",
              "Name: TP_SEXO, dtype: float64"
            ]
          },
          "metadata": {},
          "execution_count": 318
        }
      ]
    },
    {
      "cell_type": "code",
      "source": [
        "sns.set( rc = { 'figure.figsize' : ( 8 , 6 ) } )\n",
        "\n",
        "sns.countplot( data = df , x = 'TP_SEXO' , palette = 'mako' )"
      ],
      "metadata": {
        "colab": {
          "base_uri": "https://localhost:8080/",
          "height": 411
        },
        "id": "NBmWl51LJXQT",
        "outputId": "3c592765-452f-45ea-c5e3-6775312a2c6a"
      },
      "execution_count": 319,
      "outputs": [
        {
          "output_type": "execute_result",
          "data": {
            "text/plain": [
              "<matplotlib.axes._subplots.AxesSubplot at 0x7f3bccfb7d50>"
            ]
          },
          "metadata": {},
          "execution_count": 319
        },
        {
          "output_type": "display_data",
          "data": {
            "text/plain": [
              "<Figure size 576x432 with 1 Axes>"
            ],
            "image/png": "[encoded data removed]"
          },
          "metadata": {}
        }
      ]
    },
    {
      "cell_type": "code",
      "source": [
        "'''\n",
        "\n",
        "0 Não informado\n",
        "1 Solteiro(a)\n",
        "2 Casado(a)/Mora com companheiro(a)\n",
        "3 Divorciado(a)/Desquitado(a)/Separado(a)\n",
        "4 Viúvo(a)\n",
        "\n",
        "'''\n",
        "\n",
        "df[ 'TP_ESTADO_CIVIL' ].value_counts().sort_index()"
      ],
      "metadata": {
        "colab": {
          "base_uri": "https://localhost:8080/"
        },
        "id": "dmMD7cu0Jacc",
        "outputId": "8415baac-7810-463c-8dad-c024b39bbc7e"
      },
      "execution_count": 320,
      "outputs": [
        {
          "output_type": "execute_result",
          "data": {
            "text/plain": [
              "0     20345\n",
              "1    439950\n",
              "2     39834\n",
              "3      8763\n",
              "4       635\n",
              "Name: TP_ESTADO_CIVIL, dtype: int64"
            ]
          },
          "metadata": {},
          "execution_count": 320
        }
      ]
    },
    {
      "cell_type": "code",
      "source": [
        "sns.set( rc = { 'figure.figsize' : ( 8 , 6 ) } )\n",
        "\n",
        "sns.countplot( data = df , x = 'TP_ESTADO_CIVIL' ,  palette = 'mako' )"
      ],
      "metadata": {
        "colab": {
          "base_uri": "https://localhost:8080/",
          "height": 411
        },
        "id": "ta6Qok9KJgIj",
        "outputId": "cdf303c5-1af2-4c8e-db9e-7b08b0099238"
      },
      "execution_count": 321,
      "outputs": [
        {
          "output_type": "execute_result",
          "data": {
            "text/plain": [
              "<matplotlib.axes._subplots.AxesSubplot at 0x7f3bce45b4d0>"
            ]
          },
          "metadata": {},
          "execution_count": 321
        },
        {
          "output_type": "display_data",
          "data": {
            "text/plain": [
              "<Figure size 576x432 with 1 Axes>"
            ],
            "image/png": "[encoded data removed]"
          },
          "metadata": {}
        }
      ]
    },
    {
      "cell_type": "code",
      "source": [
        "'''\n",
        "\n",
        "0 Não declarado\n",
        "1 Branca\n",
        "2 Preta\n",
        "3 Parda\n",
        "4 Amarela\n",
        "5 Indígena\n",
        "\n",
        "'''\n",
        "\n",
        "df[ 'TP_COR_RACA' ].value_counts().sort_index()"
      ],
      "metadata": {
        "colab": {
          "base_uri": "https://localhost:8080/"
        },
        "id": "y60lbTUxJiLL",
        "outputId": "4e074425-2ace-4234-c84c-5ab3e7fab469"
      },
      "execution_count": 322,
      "outputs": [
        {
          "output_type": "execute_result",
          "data": {
            "text/plain": [
              "0     10446\n",
              "1    183179\n",
              "2     64694\n",
              "3    236369\n",
              "4     11616\n",
              "5      3223\n",
              "Name: TP_COR_RACA, dtype: int64"
            ]
          },
          "metadata": {},
          "execution_count": 322
        }
      ]
    },
    {
      "cell_type": "code",
      "source": [
        "sns.set( rc = { 'figure.figsize' : ( 8 , 6 ) } )\n",
        "\n",
        "sns.countplot( data = df , x = 'TP_COR_RACA' ,  palette = 'mako' )"
      ],
      "metadata": {
        "colab": {
          "base_uri": "https://localhost:8080/",
          "height": 411
        },
        "id": "4uSQzmzQJkOi",
        "outputId": "ca9a71be-f3ea-4293-e0aa-9d6ee3c611cf"
      },
      "execution_count": 323,
      "outputs": [
        {
          "output_type": "execute_result",
          "data": {
            "text/plain": [
              "<matplotlib.axes._subplots.AxesSubplot at 0x7f3bc7c84ed0>"
            ]
          },
          "metadata": {},
          "execution_count": 323
        },
        {
          "output_type": "display_data",
          "data": {
            "text/plain": [
              "<Figure size 576x432 with 1 Axes>"
            ],
            "image/png": "[encoded data removed]"
          },
          "metadata": {}
        }
      ]
    },
    {
      "cell_type": "code",
      "source": [
        "ufs = df ['SG_UF_RESIDENCIA' ].value_counts().sort_index()\n",
        "\n",
        "ufs"
      ],
      "metadata": {
        "colab": {
          "base_uri": "https://localhost:8080/"
        },
        "id": "fojE9XeBJmPS",
        "outputId": "8a7441ce-4542-4494-cbb1-5fdbc0c7b04e"
      },
      "execution_count": 324,
      "outputs": [
        {
          "output_type": "execute_result",
          "data": {
            "text/plain": [
              "AC     3955\n",
              "AL     9283\n",
              "AM    11737\n",
              "AP     4319\n",
              "BA    39880\n",
              "CE    29581\n",
              "DF     9485\n",
              "ES    10239\n",
              "GO    17074\n",
              "MA    22157\n",
              "MG    53702\n",
              "MS     7057\n",
              "MT     8757\n",
              "PA    27861\n",
              "PB    14891\n",
              "PE    27051\n",
              "PI    12134\n",
              "PR    20829\n",
              "RJ    34042\n",
              "RN    11781\n",
              "RO     5804\n",
              "RR     1283\n",
              "RS    21989\n",
              "SC    10896\n",
              "SE     7714\n",
              "SP    81333\n",
              "TO     4693\n",
              "Name: SG_UF_RESIDENCIA, dtype: int64"
            ]
          },
          "metadata": {},
          "execution_count": 324
        }
      ]
    },
    {
      "cell_type": "code",
      "source": [
        "df_ufs = pd.DataFrame( { 'UF' : ufs.index , 'CANDIDATOS' : ufs.values } )\n",
        "\n",
        "df_ufs.head()"
      ],
      "metadata": {
        "colab": {
          "base_uri": "https://localhost:8080/",
          "height": 205
        },
        "id": "isUvrcY7JoqM",
        "outputId": "56095784-f685-4e50-ebc6-de51f6dc63f5"
      },
      "execution_count": 325,
      "outputs": [
        {
          "output_type": "execute_result",
          "data": {
            "text/plain": [
              "   UF  CANDIDATOS\n",
              "0  AC        3955\n",
              "1  AL        9283\n",
              "2  AM       11737\n",
              "3  AP        4319\n",
              "4  BA       39880"
            ],
            "text/html": [
              "\n",
              "  <div id=\"df-e0267081-3282-4892-97a7-95c3676eea96\">\n",
              "    <div class=\"colab-df-container\">\n",
              "      <div>\n",
              "<style scoped>\n",
              "    .dataframe tbody tr th:only-of-type {\n",
              "        vertical-align: middle;\n",
              "    }\n",
              "\n",
              "    .dataframe tbody tr th {\n",
              "        vertical-align: top;\n",
              "    }\n",
              "\n",
              "    .dataframe thead th {\n",
              "        text-align: right;\n",
              "    }\n",
              "</style>\n",
              "<table border=\"1\" class=\"dataframe\">\n",
              "  <thead>\n",
              "    <tr style=\"text-align: right;\">\n",
              "      <th></th>\n",
              "      <th>UF</th>\n",
              "      <th>CANDIDATOS</th>\n",
              "    </tr>\n",
              "  </thead>\n",
              "  <tbody>\n",
              "    <tr>\n",
              "      <th>0</th>\n",
              "      <td>AC</td>\n",
              "      <td>3955</td>\n",
              "    </tr>\n",
              "    <tr>\n",
              "      <th>1</th>\n",
              "      <td>AL</td>\n",
              "      <td>9283</td>\n",
              "    </tr>\n",
              "    <tr>\n",
              "      <th>2</th>\n",
              "      <td>AM</td>\n",
              "      <td>11737</td>\n",
              "    </tr>\n",
              "    <tr>\n",
              "      <th>3</th>\n",
              "      <td>AP</td>\n",
              "      <td>4319</td>\n",
              "    </tr>\n",
              "    <tr>\n",
              "      <th>4</th>\n",
              "      <td>BA</td>\n",
              "      <td>39880</td>\n",
              "    </tr>\n",
              "  </tbody>\n",
              "</table>\n",
              "</div>\n",
              "      <button class=\"colab-df-convert\" onclick=\"convertToInteractive('df-e0267081-3282-4892-97a7-95c3676eea96')\"\n",
              "              title=\"Convert this dataframe to an interactive table.\"\n",
              "              style=\"display:none;\">\n",
              "        \n",
              "  <svg xmlns=\"http://www.w3.org/2000/svg\" height=\"24px\"viewBox=\"0 0 24 24\"\n",
              "       width=\"24px\">\n",
              "    <path d=\"M0 0h24v24H0V0z\" fill=\"none\"/>\n",
              "    <path d=\"M18.56 5.44l.94 2.06.94-2.06 2.06-.94-2.06-.94-.94-2.06-.94 2.06-2.06.94zm-11 1L8.5 8.5l.94-2.06 2.06-.94-2.06-.94L8.5 2.5l-.94 2.06-2.06.94zm10 10l.94 2.06.94-2.06 2.06-.94-2.06-.94-.94-2.06-.94 2.06-2.06.94z\"/><path d=\"M17.41 7.96l-1.37-1.37c-.4-.4-.92-.59-1.43-.59-.52 0-1.04.2-1.43.59L10.3 9.45l-7.72 7.72c-.78.78-.78 2.05 0 2.83L4 21.41c.39.39.9.59 1.41.59.51 0 1.02-.2 1.41-.59l7.78-7.78 2.81-2.81c.8-.78.8-2.07 0-2.86zM5.41 20L4 18.59l7.72-7.72 1.47 1.35L5.41 20z\"/>\n",
              "  </svg>\n",
              "      </button>\n",
              "      \n",
              "  <style>\n",
              "    .colab-df-container {\n",
              "      display:flex;\n",
              "      flex-wrap:wrap;\n",
              "      gap: 12px;\n",
              "    }\n",
              "\n",
              "    .colab-df-convert {\n",
              "      background-color: #E8F0FE;\n",
              "      border: none;\n",
              "      border-radius: 50%;\n",
              "      cursor: pointer;\n",
              "      display: none;\n",
              "      fill: #1967D2;\n",
              "      height: 32px;\n",
              "      padding: 0 0 0 0;\n",
              "      width: 32px;\n",
              "    }\n",
              "\n",
              "    .colab-df-convert:hover {\n",
              "      background-color: #E2EBFA;\n",
              "      box-shadow: 0px 1px 2px rgba(60, 64, 67, 0.3), 0px 1px 3px 1px rgba(60, 64, 67, 0.15);\n",
              "      fill: #174EA6;\n",
              "    }\n",
              "\n",
              "    [theme=dark] .colab-df-convert {\n",
              "      background-color: #3B4455;\n",
              "      fill: #D2E3FC;\n",
              "    }\n",
              "\n",
              "    [theme=dark] .colab-df-convert:hover {\n",
              "      background-color: #434B5C;\n",
              "      box-shadow: 0px 1px 3px 1px rgba(0, 0, 0, 0.15);\n",
              "      filter: drop-shadow(0px 1px 2px rgba(0, 0, 0, 0.3));\n",
              "      fill: #FFFFFF;\n",
              "    }\n",
              "  </style>\n",
              "\n",
              "      <script>\n",
              "        const buttonEl =\n",
              "          document.querySelector('#df-e0267081-3282-4892-97a7-95c3676eea96 button.colab-df-convert');\n",
              "        buttonEl.style.display =\n",
              "          google.colab.kernel.accessAllowed ? 'block' : 'none';\n",
              "\n",
              "        async function convertToInteractive(key) {\n",
              "          const element = document.querySelector('#df-e0267081-3282-4892-97a7-95c3676eea96');\n",
              "          const dataTable =\n",
              "            await google.colab.kernel.invokeFunction('convertToInteractive',\n",
              "                                                     [key], {});\n",
              "          if (!dataTable) return;\n",
              "\n",
              "          const docLinkHtml = 'Like what you see? Visit the ' +\n",
              "            '<a target=\"_blank\" href=https://colab.research.google.com/notebooks/data_table.ipynb>data table notebook</a>'\n",
              "            + ' to learn more about interactive tables.';\n",
              "          element.innerHTML = '';\n",
              "          dataTable['output_type'] = 'display_data';\n",
              "          await google.colab.output.renderOutput(dataTable, element);\n",
              "          const docLink = document.createElement('div');\n",
              "          docLink.innerHTML = docLinkHtml;\n",
              "          element.appendChild(docLink);\n",
              "        }\n",
              "      </script>\n",
              "    </div>\n",
              "  </div>\n",
              "  "
            ]
          },
          "metadata": {},
          "execution_count": 325
        }
      ]
    },
    {
      "cell_type": "code",
      "source": [
        "fig = px.treemap( data_frame = df_ufs, path = ['UF'], values = 'CANDIDATOS' )\n",
        "\n",
        "fig.update_traces( root_color = \"lightgrey\" )\n",
        "\n",
        "fig.update_layout( margin = dict(t=50 , l=25, r=25, b=25) )\n",
        "\n",
        "fig.show()"
      ],
      "metadata": {
        "colab": {
          "base_uri": "https://localhost:8080/",
          "height": 541
        },
        "id": "5yRmyNGoJ1U7",
        "outputId": "5712288e-76da-4d09-cff9-206497f2e233"
      },
      "execution_count": 326,
      "outputs": [
        {
          "output_type": "display_data",
          "data": {
            "text/html": [
              "<html>\n",
              "<head><meta charset=\"utf-8\" /></head>\n",
              "<body>\n",
              "    <div>            <script src=\"https://cdnjs.cloudflare.com/ajax/libs/mathjax/2.7.5/MathJax.js?config=TeX-AMS-MML_SVG\"></script><script type=\"text/javascript\">if (window.MathJax) {MathJax.Hub.Config({SVG: {font: \"STIX-Web\"}});}</script>                <script type=\"text/javascript\">window.PlotlyConfig = {MathJaxConfig: 'local'};</script>\n",
              "        <script src=\"https://cdn.plot.ly/plotly-2.8.3.min.js\"></script>                <div id=\"464cb114-8deb-4aeb-b6db-fd05cd12c74b\" class=\"plotly-graph-div\" style=\"height:525px; width:100%;\"></div>            <script type=\"text/javascript\">                                    window.PLOTLYENV=window.PLOTLYENV || {};                                    if (document.getElementById(\"464cb114-8deb-4aeb-b6db-fd05cd12c74b\")) {                    Plotly.newPlot(                        \"464cb114-8deb-4aeb-b6db-fd05cd12c74b\",                        [{\"branchvalues\":\"total\",\"domain\":{\"x\":[0.0,1.0],\"y\":[0.0,1.0]},\"hovertemplate\":\"labels=%{label}<br>CANDIDATOS=%{value}<br>parent=%{parent}<br>id=%{id}<extra></extra>\",\"ids\":[\"AC\",\"AL\",\"AM\",\"AP\",\"BA\",\"CE\",\"DF\",\"ES\",\"GO\",\"MA\",\"MG\",\"MS\",\"MT\",\"PA\",\"PB\",\"PE\",\"PI\",\"PR\",\"RJ\",\"RN\",\"RO\",\"RR\",\"RS\",\"SC\",\"SE\",\"SP\",\"TO\"],\"labels\":[\"AC\",\"AL\",\"AM\",\"AP\",\"BA\",\"CE\",\"DF\",\"ES\",\"GO\",\"MA\",\"MG\",\"MS\",\"MT\",\"PA\",\"PB\",\"PE\",\"PI\",\"PR\",\"RJ\",\"RN\",\"RO\",\"RR\",\"RS\",\"SC\",\"SE\",\"SP\",\"TO\"],\"name\":\"\",\"parents\":[\"\",\"\",\"\",\"\",\"\",\"\",\"\",\"\",\"\",\"\",\"\",\"\",\"\",\"\",\"\",\"\",\"\",\"\",\"\",\"\",\"\",\"\",\"\",\"\",\"\",\"\",\"\"],\"values\":[3955,9283,11737,4319,39880,29581,9485,10239,17074,22157,53702,7057,8757,27861,14891,27051,12134,20829,34042,11781,5804,1283,21989,10896,7714,81333,4693],\"type\":\"treemap\",\"root\":{\"color\":\"lightgrey\"}}],                        {\"template\":{\"data\":{\"bar\":[{\"error_x\":{\"color\":\"#2a3f5f\"},\"error_y\":{\"color\":\"#2a3f5f\"},\"marker\":{\"line\":{\"color\":\"#E5ECF6\",\"width\":0.5},\"pattern\":{\"fillmode\":\"overlay\",\"size\":10,\"solidity\":0.2}},\"type\":\"bar\"}],\"barpolar\":[{\"marker\":{\"line\":{\"color\":\"#E5ECF6\",\"width\":0.5},\"pattern\":{\"fillmode\":\"overlay\",\"size\":10,\"solidity\":0.2}},\"type\":\"barpolar\"}],\"carpet\":[{\"aaxis\":{\"endlinecolor\":\"#2a3f5f\",\"gridcolor\":\"white\",\"linecolor\":\"white\",\"minorgridcolor\":\"white\",\"startlinecolor\":\"#2a3f5f\"},\"baxis\":{\"endlinecolor\":\"#2a3f5f\",\"gridcolor\":\"white\",\"linecolor\":\"white\",\"minorgridcolor\":\"white\",\"startlinecolor\":\"#2a3f5f\"},\"type\":\"carpet\"}],\"choropleth\":[{\"colorbar\":{\"outlinewidth\":0,\"ticks\":\"\"},\"type\":\"choropleth\"}],\"contour\":[{\"colorbar\":{\"outlinewidth\":0,\"ticks\":\"\"},\"colorscale\":[[0.0,\"#0d0887\"],[0.1111111111111111,\"#46039f\"],[0.2222222222222222,\"#7201a8\"],[0.3333333333333333,\"#9c179e\"],[0.4444444444444444,\"#bd3786\"],[0.5555555555555556,\"#d8576b\"],[0.6666666666666666,\"#ed7953\"],[0.7777777777777778,\"#fb9f3a\"],[0.8888888888888888,\"#fdca26\"],[1.0,\"#f0f921\"]],\"type\":\"contour\"}],\"contourcarpet\":[{\"colorbar\":{\"outlinewidth\":0,\"ticks\":\"\"},\"type\":\"contourcarpet\"}],\"heatmap\":[{\"colorbar\":{\"outlinewidth\":0,\"ticks\":\"\"},\"colorscale\":[[0.0,\"#0d0887\"],[0.1111111111111111,\"#46039f\"],[0.2222222222222222,\"#7201a8\"],[0.3333333333333333,\"#9c179e\"],[0.4444444444444444,\"#bd3786\"],[0.5555555555555556,\"#d8576b\"],[0.6666666666666666,\"#ed7953\"],[0.7777777777777778,\"#fb9f3a\"],[0.8888888888888888,\"#fdca26\"],[1.0,\"#f0f921\"]],\"type\":\"heatmap\"}],\"heatmapgl\":[{\"colorbar\":{\"outlinewidth\":0,\"ticks\":\"\"},\"colorscale\":[[0.0,\"#0d0887\"],[0.1111111111111111,\"#46039f\"],[0.2222222222222222,\"#7201a8\"],[0.3333333333333333,\"#9c179e\"],[0.4444444444444444,\"#bd3786\"],[0.5555555555555556,\"#d8576b\"],[0.6666666666666666,\"#ed7953\"],[0.7777777777777778,\"#fb9f3a\"],[0.8888888888888888,\"#fdca26\"],[1.0,\"#f0f921\"]],\"type\":\"heatmapgl\"}],\"histogram\":[{\"marker\":{\"pattern\":{\"fillmode\":\"overlay\",\"size\":10,\"solidity\":0.2}},\"type\":\"histogram\"}],\"histogram2d\":[{\"colorbar\":{\"outlinewidth\":0,\"ticks\":\"\"},\"colorscale\":[[0.0,\"#0d0887\"],[0.1111111111111111,\"#46039f\"],[0.2222222222222222,\"#7201a8\"],[0.3333333333333333,\"#9c179e\"],[0.4444444444444444,\"#bd3786\"],[0.5555555555555556,\"#d8576b\"],[0.6666666666666666,\"#ed7953\"],[0.7777777777777778,\"#fb9f3a\"],[0.8888888888888888,\"#fdca26\"],[1.0,\"#f0f921\"]],\"type\":\"histogram2d\"}],\"histogram2dcontour\":[{\"colorbar\":{\"outlinewidth\":0,\"ticks\":\"\"},\"colorscale\":[[0.0,\"#0d0887\"],[0.1111111111111111,\"#46039f\"],[0.2222222222222222,\"#7201a8\"],[0.3333333333333333,\"#9c179e\"],[0.4444444444444444,\"#bd3786\"],[0.5555555555555556,\"#d8576b\"],[0.6666666666666666,\"#ed7953\"],[0.7777777777777778,\"#fb9f3a\"],[0.8888888888888888,\"#fdca26\"],[1.0,\"#f0f921\"]],\"type\":\"histogram2dcontour\"}],\"mesh3d\":[{\"colorbar\":{\"outlinewidth\":0,\"ticks\":\"\"},\"type\":\"mesh3d\"}],\"parcoords\":[{\"line\":{\"colorbar\":{\"outlinewidth\":0,\"ticks\":\"\"}},\"type\":\"parcoords\"}],\"pie\":[{\"automargin\":true,\"type\":\"pie\"}],\"scatter\":[{\"marker\":{\"colorbar\":{\"outlinewidth\":0,\"ticks\":\"\"}},\"type\":\"scatter\"}],\"scatter3d\":[{\"line\":{\"colorbar\":{\"outlinewidth\":0,\"ticks\":\"\"}},\"marker\":{\"colorbar\":{\"outlinewidth\":0,\"ticks\":\"\"}},\"type\":\"scatter3d\"}],\"scattercarpet\":[{\"marker\":{\"colorbar\":{\"outlinewidth\":0,\"ticks\":\"\"}},\"type\":\"scattercarpet\"}],\"scattergeo\":[{\"marker\":{\"colorbar\":{\"outlinewidth\":0,\"ticks\":\"\"}},\"type\":\"scattergeo\"}],\"scattergl\":[{\"marker\":{\"colorbar\":{\"outlinewidth\":0,\"ticks\":\"\"}},\"type\":\"scattergl\"}],\"scattermapbox\":[{\"marker\":{\"colorbar\":{\"outlinewidth\":0,\"ticks\":\"\"}},\"type\":\"scattermapbox\"}],\"scatterpolar\":[{\"marker\":{\"colorbar\":{\"outlinewidth\":0,\"ticks\":\"\"}},\"type\":\"scatterpolar\"}],\"scatterpolargl\":[{\"marker\":{\"colorbar\":{\"outlinewidth\":0,\"ticks\":\"\"}},\"type\":\"scatterpolargl\"}],\"scatterternary\":[{\"marker\":{\"colorbar\":{\"outlinewidth\":0,\"ticks\":\"\"}},\"type\":\"scatterternary\"}],\"surface\":[{\"colorbar\":{\"outlinewidth\":0,\"ticks\":\"\"},\"colorscale\":[[0.0,\"#0d0887\"],[0.1111111111111111,\"#46039f\"],[0.2222222222222222,\"#7201a8\"],[0.3333333333333333,\"#9c179e\"],[0.4444444444444444,\"#bd3786\"],[0.5555555555555556,\"#d8576b\"],[0.6666666666666666,\"#ed7953\"],[0.7777777777777778,\"#fb9f3a\"],[0.8888888888888888,\"#fdca26\"],[1.0,\"#f0f921\"]],\"type\":\"surface\"}],\"table\":[{\"cells\":{\"fill\":{\"color\":\"#EBF0F8\"},\"line\":{\"color\":\"white\"}},\"header\":{\"fill\":{\"color\":\"#C8D4E3\"},\"line\":{\"color\":\"white\"}},\"type\":\"table\"}]},\"layout\":{\"annotationdefaults\":{\"arrowcolor\":\"#2a3f5f\",\"arrowhead\":0,\"arrowwidth\":1},\"autotypenumbers\":\"strict\",\"coloraxis\":{\"colorbar\":{\"outlinewidth\":0,\"ticks\":\"\"}},\"colorscale\":{\"diverging\":[[0,\"#8e0152\"],[0.1,\"#c51b7d\"],[0.2,\"#de77ae\"],[0.3,\"#f1b6da\"],[0.4,\"#fde0ef\"],[0.5,\"#f7f7f7\"],[0.6,\"#e6f5d0\"],[0.7,\"#b8e186\"],[0.8,\"#7fbc41\"],[0.9,\"#4d9221\"],[1,\"#276419\"]],\"sequential\":[[0.0,\"#0d0887\"],[0.1111111111111111,\"#46039f\"],[0.2222222222222222,\"#7201a8\"],[0.3333333333333333,\"#9c179e\"],[0.4444444444444444,\"#bd3786\"],[0.5555555555555556,\"#d8576b\"],[0.6666666666666666,\"#ed7953\"],[0.7777777777777778,\"#fb9f3a\"],[0.8888888888888888,\"#fdca26\"],[1.0,\"#f0f921\"]],\"sequentialminus\":[[0.0,\"#0d0887\"],[0.1111111111111111,\"#46039f\"],[0.2222222222222222,\"#7201a8\"],[0.3333333333333333,\"#9c179e\"],[0.4444444444444444,\"#bd3786\"],[0.5555555555555556,\"#d8576b\"],[0.6666666666666666,\"#ed7953\"],[0.7777777777777778,\"#fb9f3a\"],[0.8888888888888888,\"#fdca26\"],[1.0,\"#f0f921\"]]},\"colorway\":[\"#636efa\",\"#EF553B\",\"#00cc96\",\"#ab63fa\",\"#FFA15A\",\"#19d3f3\",\"#FF6692\",\"#B6E880\",\"#FF97FF\",\"#FECB52\"],\"font\":{\"color\":\"#2a3f5f\"},\"geo\":{\"bgcolor\":\"white\",\"lakecolor\":\"white\",\"landcolor\":\"#E5ECF6\",\"showlakes\":true,\"showland\":true,\"subunitcolor\":\"white\"},\"hoverlabel\":{\"align\":\"left\"},\"hovermode\":\"closest\",\"mapbox\":{\"style\":\"light\"},\"paper_bgcolor\":\"white\",\"plot_bgcolor\":\"#E5ECF6\",\"polar\":{\"angularaxis\":{\"gridcolor\":\"white\",\"linecolor\":\"white\",\"ticks\":\"\"},\"bgcolor\":\"#E5ECF6\",\"radialaxis\":{\"gridcolor\":\"white\",\"linecolor\":\"white\",\"ticks\":\"\"}},\"scene\":{\"xaxis\":{\"backgroundcolor\":\"#E5ECF6\",\"gridcolor\":\"white\",\"gridwidth\":2,\"linecolor\":\"white\",\"showbackground\":true,\"ticks\":\"\",\"zerolinecolor\":\"white\"},\"yaxis\":{\"backgroundcolor\":\"#E5ECF6\",\"gridcolor\":\"white\",\"gridwidth\":2,\"linecolor\":\"white\",\"showbackground\":true,\"ticks\":\"\",\"zerolinecolor\":\"white\"},\"zaxis\":{\"backgroundcolor\":\"#E5ECF6\",\"gridcolor\":\"white\",\"gridwidth\":2,\"linecolor\":\"white\",\"showbackground\":true,\"ticks\":\"\",\"zerolinecolor\":\"white\"}},\"shapedefaults\":{\"line\":{\"color\":\"#2a3f5f\"}},\"ternary\":{\"aaxis\":{\"gridcolor\":\"white\",\"linecolor\":\"white\",\"ticks\":\"\"},\"baxis\":{\"gridcolor\":\"white\",\"linecolor\":\"white\",\"ticks\":\"\"},\"bgcolor\":\"#E5ECF6\",\"caxis\":{\"gridcolor\":\"white\",\"linecolor\":\"white\",\"ticks\":\"\"}},\"title\":{\"x\":0.05},\"xaxis\":{\"automargin\":true,\"gridcolor\":\"white\",\"linecolor\":\"white\",\"ticks\":\"\",\"title\":{\"standoff\":15},\"zerolinecolor\":\"white\",\"zerolinewidth\":2},\"yaxis\":{\"automargin\":true,\"gridcolor\":\"white\",\"linecolor\":\"white\",\"ticks\":\"\",\"title\":{\"standoff\":15},\"zerolinecolor\":\"white\",\"zerolinewidth\":2}}},\"legend\":{\"tracegroupgap\":0},\"margin\":{\"t\":50,\"l\":25,\"r\":25,\"b\":25}},                        {\"responsive\": true}                    ).then(function(){\n",
              "                            \n",
              "var gd = document.getElementById('464cb114-8deb-4aeb-b6db-fd05cd12c74b');\n",
              "var x = new MutationObserver(function (mutations, observer) {{\n",
              "        var display = window.getComputedStyle(gd).display;\n",
              "        if (!display || display === 'none') {{\n",
              "            console.log([gd, 'removed!']);\n",
              "            Plotly.purge(gd);\n",
              "            observer.disconnect();\n",
              "        }}\n",
              "}});\n",
              "\n",
              "// Listen for the removal of the full notebook cells\n",
              "var notebookContainer = gd.closest('#notebook-container');\n",
              "if (notebookContainer) {{\n",
              "    x.observe(notebookContainer, {childList: true});\n",
              "}}\n",
              "\n",
              "// Listen for the clearing of the current output cell\n",
              "var outputEl = gd.closest('.output');\n",
              "if (outputEl) {{\n",
              "    x.observe(outputEl, {childList: true});\n",
              "}}\n",
              "\n",
              "                        })                };                            </script>        </div>\n",
              "</body>\n",
              "</html>"
            ]
          },
          "metadata": {}
        }
      ]
    },
    {
      "cell_type": "markdown",
      "source": [
        "# Dados Socioeconômico:"
      ],
      "metadata": {
        "id": "qe7PsA3CKKcd"
      }
    },
    {
      "cell_type": "code",
      "source": [
        "# Escolaridade do Pai:\n",
        "\n",
        "'''\n",
        "\n",
        "A Nunca estudou.\n",
        "B Não completou a 4ª série/5º ano do Ensino Fundamental.\n",
        "C Completou a 4ª série/5º ano, mas não completou a 8ª série/9º ano do Ensino Fundamental.\n",
        "D Completou a 8ª série/9º ano do Ensino Fundamental, mas não completou o Ensino Médio.\n",
        "E Completou o Ensino Médio, mas não completou a Faculdade.\n",
        "F Completou a Faculdade, mas não completou a Pós-graduação.\n",
        "G Completou a Pós-graduação.\n",
        "H Não sei.\n",
        "\n",
        "'''\n",
        "\n",
        "df[ 'Q001' ].value_counts().sort_index()"
      ],
      "metadata": {
        "id": "YEOwYyUKKQB0",
        "colab": {
          "base_uri": "https://localhost:8080/"
        },
        "outputId": "6a8264b5-63ee-427c-8a89-735665dc5e14"
      },
      "execution_count": 327,
      "outputs": [
        {
          "output_type": "execute_result",
          "data": {
            "text/plain": [
              "A     29079\n",
              "B    113489\n",
              "C     72236\n",
              "D     58789\n",
              "E    130900\n",
              "F     37494\n",
              "G     22957\n",
              "H     44583\n",
              "Name: Q001, dtype: int64"
            ]
          },
          "metadata": {},
          "execution_count": 327
        }
      ]
    },
    {
      "cell_type": "code",
      "source": [
        "# Não sabem a Escolaridade do Pai:\n",
        "\n",
        "len( df.loc[ df[ 'Q001' ] == 'H' ] ) / df.shape[0] * 100"
      ],
      "metadata": {
        "id": "GFee7V5uKVn8",
        "colab": {
          "base_uri": "https://localhost:8080/"
        },
        "outputId": "328eea45-0f19-4dc3-d279-9d92405143ba"
      },
      "execution_count": 328,
      "outputs": [
        {
          "output_type": "execute_result",
          "data": {
            "text/plain": [
              "8.74987979047234"
            ]
          },
          "metadata": {},
          "execution_count": 328
        }
      ]
    },
    {
      "cell_type": "code",
      "source": [
        "# Escolaridade do Mãe:\n",
        "\n",
        "df[ 'Q002' ].value_counts().sort_index()"
      ],
      "metadata": {
        "id": "O30tH1sdKYob",
        "colab": {
          "base_uri": "https://localhost:8080/"
        },
        "outputId": "1b2a456c-4425-418c-c289-d3987a551672"
      },
      "execution_count": 329,
      "outputs": [
        {
          "output_type": "execute_result",
          "data": {
            "text/plain": [
              "A     19580\n",
              "B     85678\n",
              "C     68403\n",
              "D     67117\n",
              "E    162963\n",
              "F     51384\n",
              "G     39806\n",
              "H     14596\n",
              "Name: Q002, dtype: int64"
            ]
          },
          "metadata": {},
          "execution_count": 329
        }
      ]
    },
    {
      "cell_type": "code",
      "source": [
        "# Não sabem a Escolaridade do Pai:\n",
        "\n",
        "len( df.loc[ df[ 'Q002' ] == 'H' ] ) / df.shape[0] * 100"
      ],
      "metadata": {
        "id": "sTUeqo4YKa9J",
        "colab": {
          "base_uri": "https://localhost:8080/"
        },
        "outputId": "8ed5d018-6344-4dec-c891-e6d301f43753"
      },
      "execution_count": 330,
      "outputs": [
        {
          "output_type": "execute_result",
          "data": {
            "text/plain": [
              "2.8646175766936786"
            ]
          },
          "metadata": {},
          "execution_count": 330
        }
      ]
    },
    {
      "cell_type": "code",
      "source": [
        "# Variáveis para delimitar pais que possuem nível superior:\n",
        "\n",
        "df[ 'pai_possui_superior' ] = df[ 'Q001' ].isin( [ 'F' , 'G' ] )\n",
        "df[ 'mae_possui_superior' ] = df[ 'Q002' ].isin( [ 'F' , 'G' ] )\n",
        "\n",
        "df.head(1)"
      ],
      "metadata": {
        "id": "7To3fHgZKc_2",
        "colab": {
          "base_uri": "https://localhost:8080/",
          "height": 144
        },
        "outputId": "4ab73bc9-23ef-429d-fff6-e0c6b8eba865"
      },
      "execution_count": 331,
      "outputs": [
        {
          "output_type": "execute_result",
          "data": {
            "text/plain": [
              "     INDEX  NU_INSCRICAO SG_UF_RESIDENCIA  NU_IDADE TP_SEXO  TP_ESTADO_CIVIL  \\\n",
              "0  5089962  190005708034               CE     22.00       F                1   \n",
              "\n",
              "   TP_COR_RACA  TP_NACIONALIDADE  TP_ESCOLA  IN_BAIXA_VISAO  IN_CEGUEIRA  \\\n",
              "0            3                 1          1               0            0   \n",
              "\n",
              "   IN_SURDEZ  IN_DEFICIENCIA_AUDITIVA  IN_SURDO_CEGUEIRA  \\\n",
              "0          0                        0                  0   \n",
              "\n",
              "   IN_DEFICIENCIA_FISICA  IN_DEFICIENCIA_MENTAL  IN_DEFICIT_ATENCAO  \\\n",
              "0                      0                      0                   0   \n",
              "\n",
              "   IN_DISLEXIA  IN_DISCALCULIA  IN_AUTISMO  IN_VISAO_MONOCULAR  IN_OUTRA_DEF  \\\n",
              "0            0               0           0                   0             0   \n",
              "\n",
              "   NU_NOTA_CN  NU_NOTA_CH  NU_NOTA_LC  NU_NOTA_MT  NU_NOTA_REDACAO Q001 Q002  \\\n",
              "0         NaN         NaN         NaN         NaN              NaN    D    D   \n",
              "\n",
              "  Q003 Q004  Q005 Q006 Q007 Q008 Q009 Q010 Q011 Q012 Q013 Q014 Q015 Q016 Q017  \\\n",
              "0    D    B     4    B    A    B    C    A    B    B    A    A    A    A    A   \n",
              "\n",
              "  Q018 Q019 Q020 Q021 Q022 Q023 Q024 Q025  pai_possui_superior  \\\n",
              "0    A    B    B    A    B    A    B    B                False   \n",
              "\n",
              "   mae_possui_superior  \n",
              "0                False  "
            ],
            "text/html": [
              "\n",
              "  <div id=\"df-02bc469d-09ed-43d0-bf89-168da47273c3\">\n",
              "    <div class=\"colab-df-container\">\n",
              "      <div>\n",
              "<style scoped>\n",
              "    .dataframe tbody tr th:only-of-type {\n",
              "        vertical-align: middle;\n",
              "    }\n",
              "\n",
              "    .dataframe tbody tr th {\n",
              "        vertical-align: top;\n",
              "    }\n",
              "\n",
              "    .dataframe thead th {\n",
              "        text-align: right;\n",
              "    }\n",
              "</style>\n",
              "<table border=\"1\" class=\"dataframe\">\n",
              "  <thead>\n",
              "    <tr style=\"text-align: right;\">\n",
              "      <th></th>\n",
              "      <th>INDEX</th>\n",
              "      <th>NU_INSCRICAO</th>\n",
              "      <th>SG_UF_RESIDENCIA</th>\n",
              "      <th>NU_IDADE</th>\n",
              "      <th>TP_SEXO</th>\n",
              "      <th>TP_ESTADO_CIVIL</th>\n",
              "      <th>TP_COR_RACA</th>\n",
              "      <th>TP_NACIONALIDADE</th>\n",
              "      <th>TP_ESCOLA</th>\n",
              "      <th>IN_BAIXA_VISAO</th>\n",
              "      <th>IN_CEGUEIRA</th>\n",
              "      <th>IN_SURDEZ</th>\n",
              "      <th>IN_DEFICIENCIA_AUDITIVA</th>\n",
              "      <th>IN_SURDO_CEGUEIRA</th>\n",
              "      <th>IN_DEFICIENCIA_FISICA</th>\n",
              "      <th>IN_DEFICIENCIA_MENTAL</th>\n",
              "      <th>IN_DEFICIT_ATENCAO</th>\n",
              "      <th>IN_DISLEXIA</th>\n",
              "      <th>IN_DISCALCULIA</th>\n",
              "      <th>IN_AUTISMO</th>\n",
              "      <th>IN_VISAO_MONOCULAR</th>\n",
              "      <th>IN_OUTRA_DEF</th>\n",
              "      <th>NU_NOTA_CN</th>\n",
              "      <th>NU_NOTA_CH</th>\n",
              "      <th>NU_NOTA_LC</th>\n",
              "      <th>NU_NOTA_MT</th>\n",
              "      <th>NU_NOTA_REDACAO</th>\n",
              "      <th>Q001</th>\n",
              "      <th>Q002</th>\n",
              "      <th>Q003</th>\n",
              "      <th>Q004</th>\n",
              "      <th>Q005</th>\n",
              "      <th>Q006</th>\n",
              "      <th>Q007</th>\n",
              "      <th>Q008</th>\n",
              "      <th>Q009</th>\n",
              "      <th>Q010</th>\n",
              "      <th>Q011</th>\n",
              "      <th>Q012</th>\n",
              "      <th>Q013</th>\n",
              "      <th>Q014</th>\n",
              "      <th>Q015</th>\n",
              "      <th>Q016</th>\n",
              "      <th>Q017</th>\n",
              "      <th>Q018</th>\n",
              "      <th>Q019</th>\n",
              "      <th>Q020</th>\n",
              "      <th>Q021</th>\n",
              "      <th>Q022</th>\n",
              "      <th>Q023</th>\n",
              "      <th>Q024</th>\n",
              "      <th>Q025</th>\n",
              "      <th>pai_possui_superior</th>\n",
              "      <th>mae_possui_superior</th>\n",
              "    </tr>\n",
              "  </thead>\n",
              "  <tbody>\n",
              "    <tr>\n",
              "      <th>0</th>\n",
              "      <td>5089962</td>\n",
              "      <td>190005708034</td>\n",
              "      <td>CE</td>\n",
              "      <td>22.00</td>\n",
              "      <td>F</td>\n",
              "      <td>1</td>\n",
              "      <td>3</td>\n",
              "      <td>1</td>\n",
              "      <td>1</td>\n",
              "      <td>0</td>\n",
              "      <td>0</td>\n",
              "      <td>0</td>\n",
              "      <td>0</td>\n",
              "      <td>0</td>\n",
              "      <td>0</td>\n",
              "      <td>0</td>\n",
              "      <td>0</td>\n",
              "      <td>0</td>\n",
              "      <td>0</td>\n",
              "      <td>0</td>\n",
              "      <td>0</td>\n",
              "      <td>0</td>\n",
              "      <td>NaN</td>\n",
              "      <td>NaN</td>\n",
              "      <td>NaN</td>\n",
              "      <td>NaN</td>\n",
              "      <td>NaN</td>\n",
              "      <td>D</td>\n",
              "      <td>D</td>\n",
              "      <td>D</td>\n",
              "      <td>B</td>\n",
              "      <td>4</td>\n",
              "      <td>B</td>\n",
              "      <td>A</td>\n",
              "      <td>B</td>\n",
              "      <td>C</td>\n",
              "      <td>A</td>\n",
              "      <td>B</td>\n",
              "      <td>B</td>\n",
              "      <td>A</td>\n",
              "      <td>A</td>\n",
              "      <td>A</td>\n",
              "      <td>A</td>\n",
              "      <td>A</td>\n",
              "      <td>A</td>\n",
              "      <td>B</td>\n",
              "      <td>B</td>\n",
              "      <td>A</td>\n",
              "      <td>B</td>\n",
              "      <td>A</td>\n",
              "      <td>B</td>\n",
              "      <td>B</td>\n",
              "      <td>False</td>\n",
              "      <td>False</td>\n",
              "    </tr>\n",
              "  </tbody>\n",
              "</table>\n",
              "</div>\n",
              "      <button class=\"colab-df-convert\" onclick=\"convertToInteractive('df-02bc469d-09ed-43d0-bf89-168da47273c3')\"\n",
              "              title=\"Convert this dataframe to an interactive table.\"\n",
              "              style=\"display:none;\">\n",
              "        \n",
              "  <svg xmlns=\"http://www.w3.org/2000/svg\" height=\"24px\"viewBox=\"0 0 24 24\"\n",
              "       width=\"24px\">\n",
              "    <path d=\"M0 0h24v24H0V0z\" fill=\"none\"/>\n",
              "    <path d=\"M18.56 5.44l.94 2.06.94-2.06 2.06-.94-2.06-.94-.94-2.06-.94 2.06-2.06.94zm-11 1L8.5 8.5l.94-2.06 2.06-.94-2.06-.94L8.5 2.5l-.94 2.06-2.06.94zm10 10l.94 2.06.94-2.06 2.06-.94-2.06-.94-.94-2.06-.94 2.06-2.06.94z\"/><path d=\"M17.41 7.96l-1.37-1.37c-.4-.4-.92-.59-1.43-.59-.52 0-1.04.2-1.43.59L10.3 9.45l-7.72 7.72c-.78.78-.78 2.05 0 2.83L4 21.41c.39.39.9.59 1.41.59.51 0 1.02-.2 1.41-.59l7.78-7.78 2.81-2.81c.8-.78.8-2.07 0-2.86zM5.41 20L4 18.59l7.72-7.72 1.47 1.35L5.41 20z\"/>\n",
              "  </svg>\n",
              "      </button>\n",
              "      \n",
              "  <style>\n",
              "    .colab-df-container {\n",
              "      display:flex;\n",
              "      flex-wrap:wrap;\n",
              "      gap: 12px;\n",
              "    }\n",
              "\n",
              "    .colab-df-convert {\n",
              "      background-color: #E8F0FE;\n",
              "      border: none;\n",
              "      border-radius: 50%;\n",
              "      cursor: pointer;\n",
              "      display: none;\n",
              "      fill: #1967D2;\n",
              "      height: 32px;\n",
              "      padding: 0 0 0 0;\n",
              "      width: 32px;\n",
              "    }\n",
              "\n",
              "    .colab-df-convert:hover {\n",
              "      background-color: #E2EBFA;\n",
              "      box-shadow: 0px 1px 2px rgba(60, 64, 67, 0.3), 0px 1px 3px 1px rgba(60, 64, 67, 0.15);\n",
              "      fill: #174EA6;\n",
              "    }\n",
              "\n",
              "    [theme=dark] .colab-df-convert {\n",
              "      background-color: #3B4455;\n",
              "      fill: #D2E3FC;\n",
              "    }\n",
              "\n",
              "    [theme=dark] .colab-df-convert:hover {\n",
              "      background-color: #434B5C;\n",
              "      box-shadow: 0px 1px 3px 1px rgba(0, 0, 0, 0.15);\n",
              "      filter: drop-shadow(0px 1px 2px rgba(0, 0, 0, 0.3));\n",
              "      fill: #FFFFFF;\n",
              "    }\n",
              "  </style>\n",
              "\n",
              "      <script>\n",
              "        const buttonEl =\n",
              "          document.querySelector('#df-02bc469d-09ed-43d0-bf89-168da47273c3 button.colab-df-convert');\n",
              "        buttonEl.style.display =\n",
              "          google.colab.kernel.accessAllowed ? 'block' : 'none';\n",
              "\n",
              "        async function convertToInteractive(key) {\n",
              "          const element = document.querySelector('#df-02bc469d-09ed-43d0-bf89-168da47273c3');\n",
              "          const dataTable =\n",
              "            await google.colab.kernel.invokeFunction('convertToInteractive',\n",
              "                                                     [key], {});\n",
              "          if (!dataTable) return;\n",
              "\n",
              "          const docLinkHtml = 'Like what you see? Visit the ' +\n",
              "            '<a target=\"_blank\" href=https://colab.research.google.com/notebooks/data_table.ipynb>data table notebook</a>'\n",
              "            + ' to learn more about interactive tables.';\n",
              "          element.innerHTML = '';\n",
              "          dataTable['output_type'] = 'display_data';\n",
              "          await google.colab.output.renderOutput(dataTable, element);\n",
              "          const docLink = document.createElement('div');\n",
              "          docLink.innerHTML = docLinkHtml;\n",
              "          element.appendChild(docLink);\n",
              "        }\n",
              "      </script>\n",
              "    </div>\n",
              "  </div>\n",
              "  "
            ]
          },
          "metadata": {},
          "execution_count": 331
        }
      ]
    },
    {
      "cell_type": "code",
      "source": [
        "# Escolaridade do Pai (Superior):\n",
        "\n",
        "sns.set( rc = { 'figure.figsize' : ( 8 , 6 ) } )\n",
        "\n",
        "sns.countplot( data = df , x = 'pai_possui_superior' ,  palette = 'mako' )"
      ],
      "metadata": {
        "id": "sieC9ctYKlVz",
        "colab": {
          "base_uri": "https://localhost:8080/",
          "height": 411
        },
        "outputId": "13f7c27f-6c2f-4a96-c22b-31f1e708fa94"
      },
      "execution_count": 332,
      "outputs": [
        {
          "output_type": "execute_result",
          "data": {
            "text/plain": [
              "<matplotlib.axes._subplots.AxesSubplot at 0x7f3bce159c10>"
            ]
          },
          "metadata": {},
          "execution_count": 332
        },
        {
          "output_type": "display_data",
          "data": {
            "text/plain": [
              "<Figure size 576x432 with 1 Axes>"
            ],
            "image/png": "[encoded data removed]"
          },
          "metadata": {}
        }
      ]
    },
    {
      "cell_type": "code",
      "source": [
        "# Escolaridade do Pai (Superior):\n",
        "\n",
        "df[ 'pai_possui_superior' ].value_counts( normalize = True ) * 100"
      ],
      "metadata": {
        "id": "brFx82uiKnT8",
        "colab": {
          "base_uri": "https://localhost:8080/"
        },
        "outputId": "d8d2083a-d2c4-4a97-bb50-a87f48dee1f9"
      },
      "execution_count": 333,
      "outputs": [
        {
          "output_type": "execute_result",
          "data": {
            "text/plain": [
              "False   88.14\n",
              "True    11.86\n",
              "Name: pai_possui_superior, dtype: float64"
            ]
          },
          "metadata": {},
          "execution_count": 333
        }
      ]
    },
    {
      "cell_type": "code",
      "source": [
        "# Escolaridade do Mãe (Superior):\n",
        "\n",
        "sns.set( rc = { 'figure.figsize' : ( 8 , 6 ) } )\n",
        "\n",
        "sns.countplot( data = df , x = 'mae_possui_superior' , palette = 'mako' )"
      ],
      "metadata": {
        "id": "EU1gPQ0AKoNE",
        "colab": {
          "base_uri": "https://localhost:8080/",
          "height": 411
        },
        "outputId": "2dade5a8-0204-4fd5-f670-30c8430a4e2d"
      },
      "execution_count": 334,
      "outputs": [
        {
          "output_type": "execute_result",
          "data": {
            "text/plain": [
              "<matplotlib.axes._subplots.AxesSubplot at 0x7f3bbdbaa790>"
            ]
          },
          "metadata": {},
          "execution_count": 334
        },
        {
          "output_type": "display_data",
          "data": {
            "text/plain": [
              "<Figure size 576x432 with 1 Axes>"
            ],
            "image/png": "[encoded data removed]"
          },
          "metadata": {}
        }
      ]
    },
    {
      "cell_type": "code",
      "source": [
        "# Escolaridade do Mãe (Superior):\n",
        "\n",
        "df[ 'mae_possui_superior' ].value_counts( normalize = True ) * 100"
      ],
      "metadata": {
        "id": "jeH1IqoLKrW-",
        "colab": {
          "base_uri": "https://localhost:8080/"
        },
        "outputId": "875dbc25-1c09-430f-fa3d-1de9e90c7661"
      },
      "execution_count": 335,
      "outputs": [
        {
          "output_type": "execute_result",
          "data": {
            "text/plain": [
              "False   82.10\n",
              "True    17.90\n",
              "Name: mae_possui_superior, dtype: float64"
            ]
          },
          "metadata": {},
          "execution_count": 335
        }
      ]
    },
    {
      "cell_type": "code",
      "source": [
        "# Analisar a renda familiar. Vamos transformar Q006 em algo numérico?\n",
        "\n",
        "'''\n",
        "\n",
        "A Nenhuma renda.\n",
        "B Até R$ 998,00.\n",
        "C De R$ 998,01 até R$ 1.497,00.\n",
        "D De R$ 1.497,01 até R$ 1.996,00.\n",
        "E De R$ 1.996,01 até R$ 2.495,00.\n",
        "F De R$ 2.495,01 até R$ 2.994,00.\n",
        "G De R$ 2.994,01 até R$ 3.992,00.\n",
        "H De R$ 3.992,01 até R$ 4.990,00.\n",
        "I De R$ 4.990,01 até R$ 5.988,00.\n",
        "J De R$ 5.988,01 até R$ 6.986,00.\n",
        "K De R$ 6.986,01 até R$ 7.984,00.\n",
        "L De R$ 7.984,01 até R$ 8.982,00.\n",
        "M De R$ 8.982,01 até R$ 9.980,00.\n",
        "N De R$ 9.980,01 até R$ 11.976,00.\n",
        "O De R$ 11.976,01 até R$ 14.970,00.\n",
        "P De R$ 14.970,01 até R$ 19.960,00.\n",
        "Q Mais de R$ 19.960,00.\n",
        "\n",
        "'''\n",
        "\n",
        "dicionario_renda = dict()\n",
        "\n",
        "# Iterando sobre o alfabeto:\n",
        "\n",
        "for i, letra in enumerate(ascii_uppercase):\n",
        "    if i == 17:\n",
        "        break\n",
        "    dicionario_renda[letra] = i\n",
        "\n",
        "# Função de Mapeamento:\n",
        "\n",
        "df[ 'renda_familiar' ] = df[ 'Q006' ].map(dicionario_renda)\n",
        "\n",
        "df.head(1)"
      ],
      "metadata": {
        "id": "TpdW3HLoKtle",
        "colab": {
          "base_uri": "https://localhost:8080/",
          "height": 144
        },
        "outputId": "98e89a6f-df59-40fb-dc5d-e7fee2b050bf"
      },
      "execution_count": 336,
      "outputs": [
        {
          "output_type": "execute_result",
          "data": {
            "text/plain": [
              "     INDEX  NU_INSCRICAO SG_UF_RESIDENCIA  NU_IDADE TP_SEXO  TP_ESTADO_CIVIL  \\\n",
              "0  5089962  190005708034               CE     22.00       F                1   \n",
              "\n",
              "   TP_COR_RACA  TP_NACIONALIDADE  TP_ESCOLA  IN_BAIXA_VISAO  IN_CEGUEIRA  \\\n",
              "0            3                 1          1               0            0   \n",
              "\n",
              "   IN_SURDEZ  IN_DEFICIENCIA_AUDITIVA  IN_SURDO_CEGUEIRA  \\\n",
              "0          0                        0                  0   \n",
              "\n",
              "   IN_DEFICIENCIA_FISICA  IN_DEFICIENCIA_MENTAL  IN_DEFICIT_ATENCAO  \\\n",
              "0                      0                      0                   0   \n",
              "\n",
              "   IN_DISLEXIA  IN_DISCALCULIA  IN_AUTISMO  IN_VISAO_MONOCULAR  IN_OUTRA_DEF  \\\n",
              "0            0               0           0                   0             0   \n",
              "\n",
              "   NU_NOTA_CN  NU_NOTA_CH  NU_NOTA_LC  NU_NOTA_MT  NU_NOTA_REDACAO Q001 Q002  \\\n",
              "0         NaN         NaN         NaN         NaN              NaN    D    D   \n",
              "\n",
              "  Q003 Q004  Q005 Q006 Q007 Q008 Q009 Q010 Q011 Q012 Q013 Q014 Q015 Q016 Q017  \\\n",
              "0    D    B     4    B    A    B    C    A    B    B    A    A    A    A    A   \n",
              "\n",
              "  Q018 Q019 Q020 Q021 Q022 Q023 Q024 Q025  pai_possui_superior  \\\n",
              "0    A    B    B    A    B    A    B    B                False   \n",
              "\n",
              "   mae_possui_superior  renda_familiar  \n",
              "0                False               1  "
            ],
            "text/html": [
              "\n",
              "  <div id=\"df-300e5fa4-8a66-4cdd-adbe-7015985a1895\">\n",
              "    <div class=\"colab-df-container\">\n",
              "      <div>\n",
              "<style scoped>\n",
              "    .dataframe tbody tr th:only-of-type {\n",
              "        vertical-align: middle;\n",
              "    }\n",
              "\n",
              "    .dataframe tbody tr th {\n",
              "        vertical-align: top;\n",
              "    }\n",
              "\n",
              "    .dataframe thead th {\n",
              "        text-align: right;\n",
              "    }\n",
              "</style>\n",
              "<table border=\"1\" class=\"dataframe\">\n",
              "  <thead>\n",
              "    <tr style=\"text-align: right;\">\n",
              "      <th></th>\n",
              "      <th>INDEX</th>\n",
              "      <th>NU_INSCRICAO</th>\n",
              "      <th>SG_UF_RESIDENCIA</th>\n",
              "      <th>NU_IDADE</th>\n",
              "      <th>TP_SEXO</th>\n",
              "      <th>TP_ESTADO_CIVIL</th>\n",
              "      <th>TP_COR_RACA</th>\n",
              "      <th>TP_NACIONALIDADE</th>\n",
              "      <th>TP_ESCOLA</th>\n",
              "      <th>IN_BAIXA_VISAO</th>\n",
              "      <th>IN_CEGUEIRA</th>\n",
              "      <th>IN_SURDEZ</th>\n",
              "      <th>IN_DEFICIENCIA_AUDITIVA</th>\n",
              "      <th>IN_SURDO_CEGUEIRA</th>\n",
              "      <th>IN_DEFICIENCIA_FISICA</th>\n",
              "      <th>IN_DEFICIENCIA_MENTAL</th>\n",
              "      <th>IN_DEFICIT_ATENCAO</th>\n",
              "      <th>IN_DISLEXIA</th>\n",
              "      <th>IN_DISCALCULIA</th>\n",
              "      <th>IN_AUTISMO</th>\n",
              "      <th>IN_VISAO_MONOCULAR</th>\n",
              "      <th>IN_OUTRA_DEF</th>\n",
              "      <th>NU_NOTA_CN</th>\n",
              "      <th>NU_NOTA_CH</th>\n",
              "      <th>NU_NOTA_LC</th>\n",
              "      <th>NU_NOTA_MT</th>\n",
              "      <th>NU_NOTA_REDACAO</th>\n",
              "      <th>Q001</th>\n",
              "      <th>Q002</th>\n",
              "      <th>Q003</th>\n",
              "      <th>Q004</th>\n",
              "      <th>Q005</th>\n",
              "      <th>Q006</th>\n",
              "      <th>Q007</th>\n",
              "      <th>Q008</th>\n",
              "      <th>Q009</th>\n",
              "      <th>Q010</th>\n",
              "      <th>Q011</th>\n",
              "      <th>Q012</th>\n",
              "      <th>Q013</th>\n",
              "      <th>Q014</th>\n",
              "      <th>Q015</th>\n",
              "      <th>Q016</th>\n",
              "      <th>Q017</th>\n",
              "      <th>Q018</th>\n",
              "      <th>Q019</th>\n",
              "      <th>Q020</th>\n",
              "      <th>Q021</th>\n",
              "      <th>Q022</th>\n",
              "      <th>Q023</th>\n",
              "      <th>Q024</th>\n",
              "      <th>Q025</th>\n",
              "      <th>pai_possui_superior</th>\n",
              "      <th>mae_possui_superior</th>\n",
              "      <th>renda_familiar</th>\n",
              "    </tr>\n",
              "  </thead>\n",
              "  <tbody>\n",
              "    <tr>\n",
              "      <th>0</th>\n",
              "      <td>5089962</td>\n",
              "      <td>190005708034</td>\n",
              "      <td>CE</td>\n",
              "      <td>22.00</td>\n",
              "      <td>F</td>\n",
              "      <td>1</td>\n",
              "      <td>3</td>\n",
              "      <td>1</td>\n",
              "      <td>1</td>\n",
              "      <td>0</td>\n",
              "      <td>0</td>\n",
              "      <td>0</td>\n",
              "      <td>0</td>\n",
              "      <td>0</td>\n",
              "      <td>0</td>\n",
              "      <td>0</td>\n",
              "      <td>0</td>\n",
              "      <td>0</td>\n",
              "      <td>0</td>\n",
              "      <td>0</td>\n",
              "      <td>0</td>\n",
              "      <td>0</td>\n",
              "      <td>NaN</td>\n",
              "      <td>NaN</td>\n",
              "      <td>NaN</td>\n",
              "      <td>NaN</td>\n",
              "      <td>NaN</td>\n",
              "      <td>D</td>\n",
              "      <td>D</td>\n",
              "      <td>D</td>\n",
              "      <td>B</td>\n",
              "      <td>4</td>\n",
              "      <td>B</td>\n",
              "      <td>A</td>\n",
              "      <td>B</td>\n",
              "      <td>C</td>\n",
              "      <td>A</td>\n",
              "      <td>B</td>\n",
              "      <td>B</td>\n",
              "      <td>A</td>\n",
              "      <td>A</td>\n",
              "      <td>A</td>\n",
              "      <td>A</td>\n",
              "      <td>A</td>\n",
              "      <td>A</td>\n",
              "      <td>B</td>\n",
              "      <td>B</td>\n",
              "      <td>A</td>\n",
              "      <td>B</td>\n",
              "      <td>A</td>\n",
              "      <td>B</td>\n",
              "      <td>B</td>\n",
              "      <td>False</td>\n",
              "      <td>False</td>\n",
              "      <td>1</td>\n",
              "    </tr>\n",
              "  </tbody>\n",
              "</table>\n",
              "</div>\n",
              "      <button class=\"colab-df-convert\" onclick=\"convertToInteractive('df-300e5fa4-8a66-4cdd-adbe-7015985a1895')\"\n",
              "              title=\"Convert this dataframe to an interactive table.\"\n",
              "              style=\"display:none;\">\n",
              "        \n",
              "  <svg xmlns=\"http://www.w3.org/2000/svg\" height=\"24px\"viewBox=\"0 0 24 24\"\n",
              "       width=\"24px\">\n",
              "    <path d=\"M0 0h24v24H0V0z\" fill=\"none\"/>\n",
              "    <path d=\"M18.56 5.44l.94 2.06.94-2.06 2.06-.94-2.06-.94-.94-2.06-.94 2.06-2.06.94zm-11 1L8.5 8.5l.94-2.06 2.06-.94-2.06-.94L8.5 2.5l-.94 2.06-2.06.94zm10 10l.94 2.06.94-2.06 2.06-.94-2.06-.94-.94-2.06-.94 2.06-2.06.94z\"/><path d=\"M17.41 7.96l-1.37-1.37c-.4-.4-.92-.59-1.43-.59-.52 0-1.04.2-1.43.59L10.3 9.45l-7.72 7.72c-.78.78-.78 2.05 0 2.83L4 21.41c.39.39.9.59 1.41.59.51 0 1.02-.2 1.41-.59l7.78-7.78 2.81-2.81c.8-.78.8-2.07 0-2.86zM5.41 20L4 18.59l7.72-7.72 1.47 1.35L5.41 20z\"/>\n",
              "  </svg>\n",
              "      </button>\n",
              "      \n",
              "  <style>\n",
              "    .colab-df-container {\n",
              "      display:flex;\n",
              "      flex-wrap:wrap;\n",
              "      gap: 12px;\n",
              "    }\n",
              "\n",
              "    .colab-df-convert {\n",
              "      background-color: #E8F0FE;\n",
              "      border: none;\n",
              "      border-radius: 50%;\n",
              "      cursor: pointer;\n",
              "      display: none;\n",
              "      fill: #1967D2;\n",
              "      height: 32px;\n",
              "      padding: 0 0 0 0;\n",
              "      width: 32px;\n",
              "    }\n",
              "\n",
              "    .colab-df-convert:hover {\n",
              "      background-color: #E2EBFA;\n",
              "      box-shadow: 0px 1px 2px rgba(60, 64, 67, 0.3), 0px 1px 3px 1px rgba(60, 64, 67, 0.15);\n",
              "      fill: #174EA6;\n",
              "    }\n",
              "\n",
              "    [theme=dark] .colab-df-convert {\n",
              "      background-color: #3B4455;\n",
              "      fill: #D2E3FC;\n",
              "    }\n",
              "\n",
              "    [theme=dark] .colab-df-convert:hover {\n",
              "      background-color: #434B5C;\n",
              "      box-shadow: 0px 1px 3px 1px rgba(0, 0, 0, 0.15);\n",
              "      filter: drop-shadow(0px 1px 2px rgba(0, 0, 0, 0.3));\n",
              "      fill: #FFFFFF;\n",
              "    }\n",
              "  </style>\n",
              "\n",
              "      <script>\n",
              "        const buttonEl =\n",
              "          document.querySelector('#df-300e5fa4-8a66-4cdd-adbe-7015985a1895 button.colab-df-convert');\n",
              "        buttonEl.style.display =\n",
              "          google.colab.kernel.accessAllowed ? 'block' : 'none';\n",
              "\n",
              "        async function convertToInteractive(key) {\n",
              "          const element = document.querySelector('#df-300e5fa4-8a66-4cdd-adbe-7015985a1895');\n",
              "          const dataTable =\n",
              "            await google.colab.kernel.invokeFunction('convertToInteractive',\n",
              "                                                     [key], {});\n",
              "          if (!dataTable) return;\n",
              "\n",
              "          const docLinkHtml = 'Like what you see? Visit the ' +\n",
              "            '<a target=\"_blank\" href=https://colab.research.google.com/notebooks/data_table.ipynb>data table notebook</a>'\n",
              "            + ' to learn more about interactive tables.';\n",
              "          element.innerHTML = '';\n",
              "          dataTable['output_type'] = 'display_data';\n",
              "          await google.colab.output.renderOutput(dataTable, element);\n",
              "          const docLink = document.createElement('div');\n",
              "          docLink.innerHTML = docLinkHtml;\n",
              "          element.appendChild(docLink);\n",
              "        }\n",
              "      </script>\n",
              "    </div>\n",
              "  </div>\n",
              "  "
            ]
          },
          "metadata": {},
          "execution_count": 336
        }
      ]
    },
    {
      "cell_type": "code",
      "source": [
        "# Analise de Renda Familiar:\n",
        "\n",
        "sns.set( rc = { 'figure.figsize' : ( 8 , 6 ) } )\n",
        "\n",
        "sns.countplot( data = df , x = 'renda_familiar' ,  palette = 'mako' )"
      ],
      "metadata": {
        "id": "CaQFU1thKxY0",
        "colab": {
          "base_uri": "https://localhost:8080/",
          "height": 411
        },
        "outputId": "453fb1ff-3a08-496b-b5e2-0ded6f4f7219"
      },
      "execution_count": 337,
      "outputs": [
        {
          "output_type": "execute_result",
          "data": {
            "text/plain": [
              "<matplotlib.axes._subplots.AxesSubplot at 0x7f3bbcaaf850>"
            ]
          },
          "metadata": {},
          "execution_count": 337
        },
        {
          "output_type": "display_data",
          "data": {
            "text/plain": [
              "<Figure size 576x432 with 1 Axes>"
            ],
            "image/png": "[encoded data removed]"
          },
          "metadata": {}
        }
      ]
    },
    {
      "cell_type": "markdown",
      "source": [
        "# Relação: Nota x Caracterísitcas:"
      ],
      "metadata": {
        "id": "J2mlPPCGK4-z"
      }
    },
    {
      "cell_type": "markdown",
      "source": [
        "Avaliar se as notas dos candidatos é diferente com relação a:\n",
        "\n",
        "\n",
        "\n",
        "*  Sexo.\n",
        "*  Raça.\n",
        "* Atendimento Especial.\n",
        "* Intruções: Mãe e Pai.\n",
        "* Renda Mensal da Familia."
      ],
      "metadata": {
        "id": "xtFlG4ReK_0M"
      }
    },
    {
      "cell_type": "code",
      "source": [
        "# Criando df com as notas e sexo dos candidatos:\n",
        "\n",
        "df_sexo = df.loc[ : , colunas_notas + [ 'TP_SEXO' ] ]\n",
        "\n",
        "df_sexo.head()"
      ],
      "metadata": {
        "colab": {
          "base_uri": "https://localhost:8080/",
          "height": 205
        },
        "id": "6zCep7MzK9vj",
        "outputId": "dbaa0d25-2db0-46ac-d92a-3cb076355016"
      },
      "execution_count": 338,
      "outputs": [
        {
          "output_type": "execute_result",
          "data": {
            "text/plain": [
              "   NU_NOTA_CN  NU_NOTA_CH  NU_NOTA_LC  NU_NOTA_MT  NU_NOTA_REDACAO TP_SEXO\n",
              "0         NaN         NaN         NaN         NaN              NaN       F\n",
              "1      543.90      527.70      545.30      513.90           680.00       F\n",
              "2      406.10      521.20      549.20      510.50           480.00       F\n",
              "3      520.50      488.00      549.20      599.40           500.00       M\n",
              "4      577.10      587.00      610.70      747.00           780.00       M"
            ],
            "text/html": [
              "\n",
              "  <div id=\"df-98db7f63-40c1-4744-8691-14e51fc874c9\">\n",
              "    <div class=\"colab-df-container\">\n",
              "      <div>\n",
              "<style scoped>\n",
              "    .dataframe tbody tr th:only-of-type {\n",
              "        vertical-align: middle;\n",
              "    }\n",
              "\n",
              "    .dataframe tbody tr th {\n",
              "        vertical-align: top;\n",
              "    }\n",
              "\n",
              "    .dataframe thead th {\n",
              "        text-align: right;\n",
              "    }\n",
              "</style>\n",
              "<table border=\"1\" class=\"dataframe\">\n",
              "  <thead>\n",
              "    <tr style=\"text-align: right;\">\n",
              "      <th></th>\n",
              "      <th>NU_NOTA_CN</th>\n",
              "      <th>NU_NOTA_CH</th>\n",
              "      <th>NU_NOTA_LC</th>\n",
              "      <th>NU_NOTA_MT</th>\n",
              "      <th>NU_NOTA_REDACAO</th>\n",
              "      <th>TP_SEXO</th>\n",
              "    </tr>\n",
              "  </thead>\n",
              "  <tbody>\n",
              "    <tr>\n",
              "      <th>0</th>\n",
              "      <td>NaN</td>\n",
              "      <td>NaN</td>\n",
              "      <td>NaN</td>\n",
              "      <td>NaN</td>\n",
              "      <td>NaN</td>\n",
              "      <td>F</td>\n",
              "    </tr>\n",
              "    <tr>\n",
              "      <th>1</th>\n",
              "      <td>543.90</td>\n",
              "      <td>527.70</td>\n",
              "      <td>545.30</td>\n",
              "      <td>513.90</td>\n",
              "      <td>680.00</td>\n",
              "      <td>F</td>\n",
              "    </tr>\n",
              "    <tr>\n",
              "      <th>2</th>\n",
              "      <td>406.10</td>\n",
              "      <td>521.20</td>\n",
              "      <td>549.20</td>\n",
              "      <td>510.50</td>\n",
              "      <td>480.00</td>\n",
              "      <td>F</td>\n",
              "    </tr>\n",
              "    <tr>\n",
              "      <th>3</th>\n",
              "      <td>520.50</td>\n",
              "      <td>488.00</td>\n",
              "      <td>549.20</td>\n",
              "      <td>599.40</td>\n",
              "      <td>500.00</td>\n",
              "      <td>M</td>\n",
              "    </tr>\n",
              "    <tr>\n",
              "      <th>4</th>\n",
              "      <td>577.10</td>\n",
              "      <td>587.00</td>\n",
              "      <td>610.70</td>\n",
              "      <td>747.00</td>\n",
              "      <td>780.00</td>\n",
              "      <td>M</td>\n",
              "    </tr>\n",
              "  </tbody>\n",
              "</table>\n",
              "</div>\n",
              "      <button class=\"colab-df-convert\" onclick=\"convertToInteractive('df-98db7f63-40c1-4744-8691-14e51fc874c9')\"\n",
              "              title=\"Convert this dataframe to an interactive table.\"\n",
              "              style=\"display:none;\">\n",
              "        \n",
              "  <svg xmlns=\"http://www.w3.org/2000/svg\" height=\"24px\"viewBox=\"0 0 24 24\"\n",
              "       width=\"24px\">\n",
              "    <path d=\"M0 0h24v24H0V0z\" fill=\"none\"/>\n",
              "    <path d=\"M18.56 5.44l.94 2.06.94-2.06 2.06-.94-2.06-.94-.94-2.06-.94 2.06-2.06.94zm-11 1L8.5 8.5l.94-2.06 2.06-.94-2.06-.94L8.5 2.5l-.94 2.06-2.06.94zm10 10l.94 2.06.94-2.06 2.06-.94-2.06-.94-.94-2.06-.94 2.06-2.06.94z\"/><path d=\"M17.41 7.96l-1.37-1.37c-.4-.4-.92-.59-1.43-.59-.52 0-1.04.2-1.43.59L10.3 9.45l-7.72 7.72c-.78.78-.78 2.05 0 2.83L4 21.41c.39.39.9.59 1.41.59.51 0 1.02-.2 1.41-.59l7.78-7.78 2.81-2.81c.8-.78.8-2.07 0-2.86zM5.41 20L4 18.59l7.72-7.72 1.47 1.35L5.41 20z\"/>\n",
              "  </svg>\n",
              "      </button>\n",
              "      \n",
              "  <style>\n",
              "    .colab-df-container {\n",
              "      display:flex;\n",
              "      flex-wrap:wrap;\n",
              "      gap: 12px;\n",
              "    }\n",
              "\n",
              "    .colab-df-convert {\n",
              "      background-color: #E8F0FE;\n",
              "      border: none;\n",
              "      border-radius: 50%;\n",
              "      cursor: pointer;\n",
              "      display: none;\n",
              "      fill: #1967D2;\n",
              "      height: 32px;\n",
              "      padding: 0 0 0 0;\n",
              "      width: 32px;\n",
              "    }\n",
              "\n",
              "    .colab-df-convert:hover {\n",
              "      background-color: #E2EBFA;\n",
              "      box-shadow: 0px 1px 2px rgba(60, 64, 67, 0.3), 0px 1px 3px 1px rgba(60, 64, 67, 0.15);\n",
              "      fill: #174EA6;\n",
              "    }\n",
              "\n",
              "    [theme=dark] .colab-df-convert {\n",
              "      background-color: #3B4455;\n",
              "      fill: #D2E3FC;\n",
              "    }\n",
              "\n",
              "    [theme=dark] .colab-df-convert:hover {\n",
              "      background-color: #434B5C;\n",
              "      box-shadow: 0px 1px 3px 1px rgba(0, 0, 0, 0.15);\n",
              "      filter: drop-shadow(0px 1px 2px rgba(0, 0, 0, 0.3));\n",
              "      fill: #FFFFFF;\n",
              "    }\n",
              "  </style>\n",
              "\n",
              "      <script>\n",
              "        const buttonEl =\n",
              "          document.querySelector('#df-98db7f63-40c1-4744-8691-14e51fc874c9 button.colab-df-convert');\n",
              "        buttonEl.style.display =\n",
              "          google.colab.kernel.accessAllowed ? 'block' : 'none';\n",
              "\n",
              "        async function convertToInteractive(key) {\n",
              "          const element = document.querySelector('#df-98db7f63-40c1-4744-8691-14e51fc874c9');\n",
              "          const dataTable =\n",
              "            await google.colab.kernel.invokeFunction('convertToInteractive',\n",
              "                                                     [key], {});\n",
              "          if (!dataTable) return;\n",
              "\n",
              "          const docLinkHtml = 'Like what you see? Visit the ' +\n",
              "            '<a target=\"_blank\" href=https://colab.research.google.com/notebooks/data_table.ipynb>data table notebook</a>'\n",
              "            + ' to learn more about interactive tables.';\n",
              "          element.innerHTML = '';\n",
              "          dataTable['output_type'] = 'display_data';\n",
              "          await google.colab.output.renderOutput(dataTable, element);\n",
              "          const docLink = document.createElement('div');\n",
              "          docLink.innerHTML = docLinkHtml;\n",
              "          element.appendChild(docLink);\n",
              "        }\n",
              "      </script>\n",
              "    </div>\n",
              "  </div>\n",
              "  "
            ]
          },
          "metadata": {},
          "execution_count": 338
        }
      ]
    },
    {
      "cell_type": "code",
      "source": [
        "# Analisando as Notas x Sexo:\n",
        "\n",
        "sns.set_style( 'dark' ) \n",
        "\n",
        "figura, graficos = plt.subplots( 1 , 4 , sharey = True , figsize = ( 8 , 6 ) )\n",
        "\n",
        "plt.tight_layout()\n",
        "\n",
        "for i in range(4):\n",
        "    coluna_1 = colunas_notas[i]\n",
        "    sns.boxplot( data = df_sexo , y = coluna_1 , x = 'TP_SEXO' , ax = graficos[i] )"
      ],
      "metadata": {
        "colab": {
          "base_uri": "https://localhost:8080/",
          "height": 450
        },
        "id": "ekIWs79eLwR9",
        "outputId": "301a394f-8639-4850-d243-10f30ad5d80d"
      },
      "execution_count": 339,
      "outputs": [
        {
          "output_type": "display_data",
          "data": {
            "text/plain": [
              "<Figure size 576x432 with 4 Axes>"
            ],
            "image/png": "[encoded data removed]"
          },
          "metadata": {}
        }
      ]
    },
    {
      "cell_type": "code",
      "source": [
        "# Criando DF com as notas e raça:\n",
        "\n",
        "df_raca = df.loc[ : , colunas_notas + [ 'TP_COR_RACA' ] ]\n",
        "\n",
        "df_raca.head()"
      ],
      "metadata": {
        "colab": {
          "base_uri": "https://localhost:8080/",
          "height": 205
        },
        "id": "Lg7qgc05L1QL",
        "outputId": "589bb5cd-630f-4d29-8af5-f23aca06a48c"
      },
      "execution_count": 340,
      "outputs": [
        {
          "output_type": "execute_result",
          "data": {
            "text/plain": [
              "   NU_NOTA_CN  NU_NOTA_CH  NU_NOTA_LC  NU_NOTA_MT  NU_NOTA_REDACAO  \\\n",
              "0         NaN         NaN         NaN         NaN              NaN   \n",
              "1      543.90      527.70      545.30      513.90           680.00   \n",
              "2      406.10      521.20      549.20      510.50           480.00   \n",
              "3      520.50      488.00      549.20      599.40           500.00   \n",
              "4      577.10      587.00      610.70      747.00           780.00   \n",
              "\n",
              "   TP_COR_RACA  \n",
              "0            3  \n",
              "1            1  \n",
              "2            1  \n",
              "3            1  \n",
              "4            1  "
            ],
            "text/html": [
              "\n",
              "  <div id=\"df-5bb281f2-9d10-4c06-a4c6-263f7621a0dc\">\n",
              "    <div class=\"colab-df-container\">\n",
              "      <div>\n",
              "<style scoped>\n",
              "    .dataframe tbody tr th:only-of-type {\n",
              "        vertical-align: middle;\n",
              "    }\n",
              "\n",
              "    .dataframe tbody tr th {\n",
              "        vertical-align: top;\n",
              "    }\n",
              "\n",
              "    .dataframe thead th {\n",
              "        text-align: right;\n",
              "    }\n",
              "</style>\n",
              "<table border=\"1\" class=\"dataframe\">\n",
              "  <thead>\n",
              "    <tr style=\"text-align: right;\">\n",
              "      <th></th>\n",
              "      <th>NU_NOTA_CN</th>\n",
              "      <th>NU_NOTA_CH</th>\n",
              "      <th>NU_NOTA_LC</th>\n",
              "      <th>NU_NOTA_MT</th>\n",
              "      <th>NU_NOTA_REDACAO</th>\n",
              "      <th>TP_COR_RACA</th>\n",
              "    </tr>\n",
              "  </thead>\n",
              "  <tbody>\n",
              "    <tr>\n",
              "      <th>0</th>\n",
              "      <td>NaN</td>\n",
              "      <td>NaN</td>\n",
              "      <td>NaN</td>\n",
              "      <td>NaN</td>\n",
              "      <td>NaN</td>\n",
              "      <td>3</td>\n",
              "    </tr>\n",
              "    <tr>\n",
              "      <th>1</th>\n",
              "      <td>543.90</td>\n",
              "      <td>527.70</td>\n",
              "      <td>545.30</td>\n",
              "      <td>513.90</td>\n",
              "      <td>680.00</td>\n",
              "      <td>1</td>\n",
              "    </tr>\n",
              "    <tr>\n",
              "      <th>2</th>\n",
              "      <td>406.10</td>\n",
              "      <td>521.20</td>\n",
              "      <td>549.20</td>\n",
              "      <td>510.50</td>\n",
              "      <td>480.00</td>\n",
              "      <td>1</td>\n",
              "    </tr>\n",
              "    <tr>\n",
              "      <th>3</th>\n",
              "      <td>520.50</td>\n",
              "      <td>488.00</td>\n",
              "      <td>549.20</td>\n",
              "      <td>599.40</td>\n",
              "      <td>500.00</td>\n",
              "      <td>1</td>\n",
              "    </tr>\n",
              "    <tr>\n",
              "      <th>4</th>\n",
              "      <td>577.10</td>\n",
              "      <td>587.00</td>\n",
              "      <td>610.70</td>\n",
              "      <td>747.00</td>\n",
              "      <td>780.00</td>\n",
              "      <td>1</td>\n",
              "    </tr>\n",
              "  </tbody>\n",
              "</table>\n",
              "</div>\n",
              "      <button class=\"colab-df-convert\" onclick=\"convertToInteractive('df-5bb281f2-9d10-4c06-a4c6-263f7621a0dc')\"\n",
              "              title=\"Convert this dataframe to an interactive table.\"\n",
              "              style=\"display:none;\">\n",
              "        \n",
              "  <svg xmlns=\"http://www.w3.org/2000/svg\" height=\"24px\"viewBox=\"0 0 24 24\"\n",
              "       width=\"24px\">\n",
              "    <path d=\"M0 0h24v24H0V0z\" fill=\"none\"/>\n",
              "    <path d=\"M18.56 5.44l.94 2.06.94-2.06 2.06-.94-2.06-.94-.94-2.06-.94 2.06-2.06.94zm-11 1L8.5 8.5l.94-2.06 2.06-.94-2.06-.94L8.5 2.5l-.94 2.06-2.06.94zm10 10l.94 2.06.94-2.06 2.06-.94-2.06-.94-.94-2.06-.94 2.06-2.06.94z\"/><path d=\"M17.41 7.96l-1.37-1.37c-.4-.4-.92-.59-1.43-.59-.52 0-1.04.2-1.43.59L10.3 9.45l-7.72 7.72c-.78.78-.78 2.05 0 2.83L4 21.41c.39.39.9.59 1.41.59.51 0 1.02-.2 1.41-.59l7.78-7.78 2.81-2.81c.8-.78.8-2.07 0-2.86zM5.41 20L4 18.59l7.72-7.72 1.47 1.35L5.41 20z\"/>\n",
              "  </svg>\n",
              "      </button>\n",
              "      \n",
              "  <style>\n",
              "    .colab-df-container {\n",
              "      display:flex;\n",
              "      flex-wrap:wrap;\n",
              "      gap: 12px;\n",
              "    }\n",
              "\n",
              "    .colab-df-convert {\n",
              "      background-color: #E8F0FE;\n",
              "      border: none;\n",
              "      border-radius: 50%;\n",
              "      cursor: pointer;\n",
              "      display: none;\n",
              "      fill: #1967D2;\n",
              "      height: 32px;\n",
              "      padding: 0 0 0 0;\n",
              "      width: 32px;\n",
              "    }\n",
              "\n",
              "    .colab-df-convert:hover {\n",
              "      background-color: #E2EBFA;\n",
              "      box-shadow: 0px 1px 2px rgba(60, 64, 67, 0.3), 0px 1px 3px 1px rgba(60, 64, 67, 0.15);\n",
              "      fill: #174EA6;\n",
              "    }\n",
              "\n",
              "    [theme=dark] .colab-df-convert {\n",
              "      background-color: #3B4455;\n",
              "      fill: #D2E3FC;\n",
              "    }\n",
              "\n",
              "    [theme=dark] .colab-df-convert:hover {\n",
              "      background-color: #434B5C;\n",
              "      box-shadow: 0px 1px 3px 1px rgba(0, 0, 0, 0.15);\n",
              "      filter: drop-shadow(0px 1px 2px rgba(0, 0, 0, 0.3));\n",
              "      fill: #FFFFFF;\n",
              "    }\n",
              "  </style>\n",
              "\n",
              "      <script>\n",
              "        const buttonEl =\n",
              "          document.querySelector('#df-5bb281f2-9d10-4c06-a4c6-263f7621a0dc button.colab-df-convert');\n",
              "        buttonEl.style.display =\n",
              "          google.colab.kernel.accessAllowed ? 'block' : 'none';\n",
              "\n",
              "        async function convertToInteractive(key) {\n",
              "          const element = document.querySelector('#df-5bb281f2-9d10-4c06-a4c6-263f7621a0dc');\n",
              "          const dataTable =\n",
              "            await google.colab.kernel.invokeFunction('convertToInteractive',\n",
              "                                                     [key], {});\n",
              "          if (!dataTable) return;\n",
              "\n",
              "          const docLinkHtml = 'Like what you see? Visit the ' +\n",
              "            '<a target=\"_blank\" href=https://colab.research.google.com/notebooks/data_table.ipynb>data table notebook</a>'\n",
              "            + ' to learn more about interactive tables.';\n",
              "          element.innerHTML = '';\n",
              "          dataTable['output_type'] = 'display_data';\n",
              "          await google.colab.output.renderOutput(dataTable, element);\n",
              "          const docLink = document.createElement('div');\n",
              "          docLink.innerHTML = docLinkHtml;\n",
              "          element.appendChild(docLink);\n",
              "        }\n",
              "      </script>\n",
              "    </div>\n",
              "  </div>\n",
              "  "
            ]
          },
          "metadata": {},
          "execution_count": 340
        }
      ]
    },
    {
      "cell_type": "code",
      "source": [
        "# Analisando as Notas x Raça:\n",
        "\n",
        "sns.set_style( 'dark' ) \n",
        "\n",
        "figura, graficos = plt.subplots( 2 , 2 , sharey = True , figsize = ( 8 , 6 ) )\n",
        "\n",
        "plt.tight_layout()\n",
        "\n",
        "for i in range(2):\n",
        "    coluna_1 = colunas_notas[i*2]\n",
        "    coluna_2 = colunas_notas[i*2+1]\n",
        "    sns.boxplot( data = df_raca , y = coluna_1 , x = 'TP_COR_RACA' , ax = graficos[i][0] )\n",
        "    sns.boxplot( data = df_raca , y = coluna_2 , x = 'TP_COR_RACA' , ax = graficos[i][1] )"
      ],
      "metadata": {
        "colab": {
          "base_uri": "https://localhost:8080/",
          "height": 450
        },
        "id": "SzbV4ouGL4vk",
        "outputId": "2074787a-0b7e-497f-b0c9-fe476c2af66c"
      },
      "execution_count": 341,
      "outputs": [
        {
          "output_type": "display_data",
          "data": {
            "text/plain": [
              "<Figure size 576x432 with 4 Axes>"
            ],
            "image/png": "[encoded data removed]"
          },
          "metadata": {}
        }
      ]
    },
    {
      "cell_type": "code",
      "source": [
        "# Calcular atendimetno especializado:\n",
        "\n",
        "colunas_atendimento_especializado =['IN_BAIXA_VISAO', 'IN_CEGUEIRA', 'IN_SURDEZ', 'IN_DEFICIENCIA_AUDITIVA', 'IN_SURDO_CEGUEIRA',\n",
        "                                    'IN_DEFICIENCIA_FISICA', 'IN_DEFICIENCIA_MENTAL', 'IN_DEFICIT_ATENCAO', 'IN_DISLEXIA', 'IN_DISCALCULIA',\n",
        "                                     'IN_AUTISMO', 'IN_VISAO_MONOCULAR', 'IN_OUTRA_DEF']\n",
        "\n",
        "df_atendimento_especializado = df.loc[ : , colunas_notas ] \n",
        "df_atendimento_especializado[ 'atendimento_especializado' ] = df.loc[ : , colunas_atendimento_especializado].sum( axis = 1 ) > 0\n",
        "df_atendimento_especializado.head()"
      ],
      "metadata": {
        "colab": {
          "base_uri": "https://localhost:8080/",
          "height": 205
        },
        "id": "TotRF3mOL8F_",
        "outputId": "02d64cdc-9c79-4da0-c558-aecbd468d321"
      },
      "execution_count": 342,
      "outputs": [
        {
          "output_type": "execute_result",
          "data": {
            "text/plain": [
              "   NU_NOTA_CN  NU_NOTA_CH  NU_NOTA_LC  NU_NOTA_MT  NU_NOTA_REDACAO  \\\n",
              "0         NaN         NaN         NaN         NaN              NaN   \n",
              "1      543.90      527.70      545.30      513.90           680.00   \n",
              "2      406.10      521.20      549.20      510.50           480.00   \n",
              "3      520.50      488.00      549.20      599.40           500.00   \n",
              "4      577.10      587.00      610.70      747.00           780.00   \n",
              "\n",
              "   atendimento_especializado  \n",
              "0                      False  \n",
              "1                      False  \n",
              "2                      False  \n",
              "3                      False  \n",
              "4                      False  "
            ],
            "text/html": [
              "\n",
              "  <div id=\"df-c19e768a-f91c-4ef6-a321-76318fa83de2\">\n",
              "    <div class=\"colab-df-container\">\n",
              "      <div>\n",
              "<style scoped>\n",
              "    .dataframe tbody tr th:only-of-type {\n",
              "        vertical-align: middle;\n",
              "    }\n",
              "\n",
              "    .dataframe tbody tr th {\n",
              "        vertical-align: top;\n",
              "    }\n",
              "\n",
              "    .dataframe thead th {\n",
              "        text-align: right;\n",
              "    }\n",
              "</style>\n",
              "<table border=\"1\" class=\"dataframe\">\n",
              "  <thead>\n",
              "    <tr style=\"text-align: right;\">\n",
              "      <th></th>\n",
              "      <th>NU_NOTA_CN</th>\n",
              "      <th>NU_NOTA_CH</th>\n",
              "      <th>NU_NOTA_LC</th>\n",
              "      <th>NU_NOTA_MT</th>\n",
              "      <th>NU_NOTA_REDACAO</th>\n",
              "      <th>atendimento_especializado</th>\n",
              "    </tr>\n",
              "  </thead>\n",
              "  <tbody>\n",
              "    <tr>\n",
              "      <th>0</th>\n",
              "      <td>NaN</td>\n",
              "      <td>NaN</td>\n",
              "      <td>NaN</td>\n",
              "      <td>NaN</td>\n",
              "      <td>NaN</td>\n",
              "      <td>False</td>\n",
              "    </tr>\n",
              "    <tr>\n",
              "      <th>1</th>\n",
              "      <td>543.90</td>\n",
              "      <td>527.70</td>\n",
              "      <td>545.30</td>\n",
              "      <td>513.90</td>\n",
              "      <td>680.00</td>\n",
              "      <td>False</td>\n",
              "    </tr>\n",
              "    <tr>\n",
              "      <th>2</th>\n",
              "      <td>406.10</td>\n",
              "      <td>521.20</td>\n",
              "      <td>549.20</td>\n",
              "      <td>510.50</td>\n",
              "      <td>480.00</td>\n",
              "      <td>False</td>\n",
              "    </tr>\n",
              "    <tr>\n",
              "      <th>3</th>\n",
              "      <td>520.50</td>\n",
              "      <td>488.00</td>\n",
              "      <td>549.20</td>\n",
              "      <td>599.40</td>\n",
              "      <td>500.00</td>\n",
              "      <td>False</td>\n",
              "    </tr>\n",
              "    <tr>\n",
              "      <th>4</th>\n",
              "      <td>577.10</td>\n",
              "      <td>587.00</td>\n",
              "      <td>610.70</td>\n",
              "      <td>747.00</td>\n",
              "      <td>780.00</td>\n",
              "      <td>False</td>\n",
              "    </tr>\n",
              "  </tbody>\n",
              "</table>\n",
              "</div>\n",
              "      <button class=\"colab-df-convert\" onclick=\"convertToInteractive('df-c19e768a-f91c-4ef6-a321-76318fa83de2')\"\n",
              "              title=\"Convert this dataframe to an interactive table.\"\n",
              "              style=\"display:none;\">\n",
              "        \n",
              "  <svg xmlns=\"http://www.w3.org/2000/svg\" height=\"24px\"viewBox=\"0 0 24 24\"\n",
              "       width=\"24px\">\n",
              "    <path d=\"M0 0h24v24H0V0z\" fill=\"none\"/>\n",
              "    <path d=\"M18.56 5.44l.94 2.06.94-2.06 2.06-.94-2.06-.94-.94-2.06-.94 2.06-2.06.94zm-11 1L8.5 8.5l.94-2.06 2.06-.94-2.06-.94L8.5 2.5l-.94 2.06-2.06.94zm10 10l.94 2.06.94-2.06 2.06-.94-2.06-.94-.94-2.06-.94 2.06-2.06.94z\"/><path d=\"M17.41 7.96l-1.37-1.37c-.4-.4-.92-.59-1.43-.59-.52 0-1.04.2-1.43.59L10.3 9.45l-7.72 7.72c-.78.78-.78 2.05 0 2.83L4 21.41c.39.39.9.59 1.41.59.51 0 1.02-.2 1.41-.59l7.78-7.78 2.81-2.81c.8-.78.8-2.07 0-2.86zM5.41 20L4 18.59l7.72-7.72 1.47 1.35L5.41 20z\"/>\n",
              "  </svg>\n",
              "      </button>\n",
              "      \n",
              "  <style>\n",
              "    .colab-df-container {\n",
              "      display:flex;\n",
              "      flex-wrap:wrap;\n",
              "      gap: 12px;\n",
              "    }\n",
              "\n",
              "    .colab-df-convert {\n",
              "      background-color: #E8F0FE;\n",
              "      border: none;\n",
              "      border-radius: 50%;\n",
              "      cursor: pointer;\n",
              "      display: none;\n",
              "      fill: #1967D2;\n",
              "      height: 32px;\n",
              "      padding: 0 0 0 0;\n",
              "      width: 32px;\n",
              "    }\n",
              "\n",
              "    .colab-df-convert:hover {\n",
              "      background-color: #E2EBFA;\n",
              "      box-shadow: 0px 1px 2px rgba(60, 64, 67, 0.3), 0px 1px 3px 1px rgba(60, 64, 67, 0.15);\n",
              "      fill: #174EA6;\n",
              "    }\n",
              "\n",
              "    [theme=dark] .colab-df-convert {\n",
              "      background-color: #3B4455;\n",
              "      fill: #D2E3FC;\n",
              "    }\n",
              "\n",
              "    [theme=dark] .colab-df-convert:hover {\n",
              "      background-color: #434B5C;\n",
              "      box-shadow: 0px 1px 3px 1px rgba(0, 0, 0, 0.15);\n",
              "      filter: drop-shadow(0px 1px 2px rgba(0, 0, 0, 0.3));\n",
              "      fill: #FFFFFF;\n",
              "    }\n",
              "  </style>\n",
              "\n",
              "      <script>\n",
              "        const buttonEl =\n",
              "          document.querySelector('#df-c19e768a-f91c-4ef6-a321-76318fa83de2 button.colab-df-convert');\n",
              "        buttonEl.style.display =\n",
              "          google.colab.kernel.accessAllowed ? 'block' : 'none';\n",
              "\n",
              "        async function convertToInteractive(key) {\n",
              "          const element = document.querySelector('#df-c19e768a-f91c-4ef6-a321-76318fa83de2');\n",
              "          const dataTable =\n",
              "            await google.colab.kernel.invokeFunction('convertToInteractive',\n",
              "                                                     [key], {});\n",
              "          if (!dataTable) return;\n",
              "\n",
              "          const docLinkHtml = 'Like what you see? Visit the ' +\n",
              "            '<a target=\"_blank\" href=https://colab.research.google.com/notebooks/data_table.ipynb>data table notebook</a>'\n",
              "            + ' to learn more about interactive tables.';\n",
              "          element.innerHTML = '';\n",
              "          dataTable['output_type'] = 'display_data';\n",
              "          await google.colab.output.renderOutput(dataTable, element);\n",
              "          const docLink = document.createElement('div');\n",
              "          docLink.innerHTML = docLinkHtml;\n",
              "          element.appendChild(docLink);\n",
              "        }\n",
              "      </script>\n",
              "    </div>\n",
              "  </div>\n",
              "  "
            ]
          },
          "metadata": {},
          "execution_count": 342
        }
      ]
    },
    {
      "cell_type": "code",
      "source": [
        "df_atendimento_especializado['atendimento_especializado'].value_counts( normalize = True ) * 100"
      ],
      "metadata": {
        "colab": {
          "base_uri": "https://localhost:8080/"
        },
        "id": "bklWLVoyL-zU",
        "outputId": "f248b07a-3d45-4b90-e351-1f8c0f7d5471"
      },
      "execution_count": 343,
      "outputs": [
        {
          "output_type": "execute_result",
          "data": {
            "text/plain": [
              "False   99.35\n",
              "True     0.65\n",
              "Name: atendimento_especializado, dtype: float64"
            ]
          },
          "metadata": {},
          "execution_count": 343
        }
      ]
    },
    {
      "cell_type": "code",
      "source": [
        "# Analisando as Notas x Atendimento Especializado:\n",
        "\n",
        "sns.set_style( 'dark' ) \n",
        "\n",
        "figura, graficos = plt.subplots( 1 , 4 , sharey = True , figsize = ( 8 , 6 ) )\n",
        "\n",
        "plt.tight_layout()\n",
        "\n",
        "for i in range(4):\n",
        "    coluna_1 = colunas_notas[i]\n",
        "    sns.boxplot( data = df_atendimento_especializado , y = coluna_1 , x = 'atendimento_especializado' , ax = graficos[i] )"
      ],
      "metadata": {
        "colab": {
          "base_uri": "https://localhost:8080/",
          "height": 450
        },
        "id": "IhCK4xytMBE-",
        "outputId": "7b0c4729-4510-4d6e-aab6-ab07c0b8a690"
      },
      "execution_count": 344,
      "outputs": [
        {
          "output_type": "display_data",
          "data": {
            "text/plain": [
              "<Figure size 576x432 with 4 Axes>"
            ],
            "image/png": "[encoded data removed]"
          },
          "metadata": {}
        }
      ]
    },
    {
      "cell_type": "code",
      "source": [
        "# Criação DF com as notas e nível superior  dos pais:\n",
        "\n",
        "df_instrucao_pais = df.loc[ : , colunas_notas + [ 'mae_possui_superior', 'pai_possui_superior' ]]\n",
        "df_instrucao_pais.head()"
      ],
      "metadata": {
        "colab": {
          "base_uri": "https://localhost:8080/",
          "height": 205
        },
        "id": "VSaYu7NdMFk9",
        "outputId": "a2151c7e-adbf-42fe-eb67-8f9f498d5d16"
      },
      "execution_count": 345,
      "outputs": [
        {
          "output_type": "execute_result",
          "data": {
            "text/plain": [
              "   NU_NOTA_CN  NU_NOTA_CH  NU_NOTA_LC  NU_NOTA_MT  NU_NOTA_REDACAO  \\\n",
              "0         NaN         NaN         NaN         NaN              NaN   \n",
              "1      543.90      527.70      545.30      513.90           680.00   \n",
              "2      406.10      521.20      549.20      510.50           480.00   \n",
              "3      520.50      488.00      549.20      599.40           500.00   \n",
              "4      577.10      587.00      610.70      747.00           780.00   \n",
              "\n",
              "   mae_possui_superior  pai_possui_superior  \n",
              "0                False                False  \n",
              "1                False                False  \n",
              "2                 True                 True  \n",
              "3                False                False  \n",
              "4                False                False  "
            ],
            "text/html": [
              "\n",
              "  <div id=\"df-36e65876-a2ce-4f63-90c1-6a0976b74251\">\n",
              "    <div class=\"colab-df-container\">\n",
              "      <div>\n",
              "<style scoped>\n",
              "    .dataframe tbody tr th:only-of-type {\n",
              "        vertical-align: middle;\n",
              "    }\n",
              "\n",
              "    .dataframe tbody tr th {\n",
              "        vertical-align: top;\n",
              "    }\n",
              "\n",
              "    .dataframe thead th {\n",
              "        text-align: right;\n",
              "    }\n",
              "</style>\n",
              "<table border=\"1\" class=\"dataframe\">\n",
              "  <thead>\n",
              "    <tr style=\"text-align: right;\">\n",
              "      <th></th>\n",
              "      <th>NU_NOTA_CN</th>\n",
              "      <th>NU_NOTA_CH</th>\n",
              "      <th>NU_NOTA_LC</th>\n",
              "      <th>NU_NOTA_MT</th>\n",
              "      <th>NU_NOTA_REDACAO</th>\n",
              "      <th>mae_possui_superior</th>\n",
              "      <th>pai_possui_superior</th>\n",
              "    </tr>\n",
              "  </thead>\n",
              "  <tbody>\n",
              "    <tr>\n",
              "      <th>0</th>\n",
              "      <td>NaN</td>\n",
              "      <td>NaN</td>\n",
              "      <td>NaN</td>\n",
              "      <td>NaN</td>\n",
              "      <td>NaN</td>\n",
              "      <td>False</td>\n",
              "      <td>False</td>\n",
              "    </tr>\n",
              "    <tr>\n",
              "      <th>1</th>\n",
              "      <td>543.90</td>\n",
              "      <td>527.70</td>\n",
              "      <td>545.30</td>\n",
              "      <td>513.90</td>\n",
              "      <td>680.00</td>\n",
              "      <td>False</td>\n",
              "      <td>False</td>\n",
              "    </tr>\n",
              "    <tr>\n",
              "      <th>2</th>\n",
              "      <td>406.10</td>\n",
              "      <td>521.20</td>\n",
              "      <td>549.20</td>\n",
              "      <td>510.50</td>\n",
              "      <td>480.00</td>\n",
              "      <td>True</td>\n",
              "      <td>True</td>\n",
              "    </tr>\n",
              "    <tr>\n",
              "      <th>3</th>\n",
              "      <td>520.50</td>\n",
              "      <td>488.00</td>\n",
              "      <td>549.20</td>\n",
              "      <td>599.40</td>\n",
              "      <td>500.00</td>\n",
              "      <td>False</td>\n",
              "      <td>False</td>\n",
              "    </tr>\n",
              "    <tr>\n",
              "      <th>4</th>\n",
              "      <td>577.10</td>\n",
              "      <td>587.00</td>\n",
              "      <td>610.70</td>\n",
              "      <td>747.00</td>\n",
              "      <td>780.00</td>\n",
              "      <td>False</td>\n",
              "      <td>False</td>\n",
              "    </tr>\n",
              "  </tbody>\n",
              "</table>\n",
              "</div>\n",
              "      <button class=\"colab-df-convert\" onclick=\"convertToInteractive('df-36e65876-a2ce-4f63-90c1-6a0976b74251')\"\n",
              "              title=\"Convert this dataframe to an interactive table.\"\n",
              "              style=\"display:none;\">\n",
              "        \n",
              "  <svg xmlns=\"http://www.w3.org/2000/svg\" height=\"24px\"viewBox=\"0 0 24 24\"\n",
              "       width=\"24px\">\n",
              "    <path d=\"M0 0h24v24H0V0z\" fill=\"none\"/>\n",
              "    <path d=\"M18.56 5.44l.94 2.06.94-2.06 2.06-.94-2.06-.94-.94-2.06-.94 2.06-2.06.94zm-11 1L8.5 8.5l.94-2.06 2.06-.94-2.06-.94L8.5 2.5l-.94 2.06-2.06.94zm10 10l.94 2.06.94-2.06 2.06-.94-2.06-.94-.94-2.06-.94 2.06-2.06.94z\"/><path d=\"M17.41 7.96l-1.37-1.37c-.4-.4-.92-.59-1.43-.59-.52 0-1.04.2-1.43.59L10.3 9.45l-7.72 7.72c-.78.78-.78 2.05 0 2.83L4 21.41c.39.39.9.59 1.41.59.51 0 1.02-.2 1.41-.59l7.78-7.78 2.81-2.81c.8-.78.8-2.07 0-2.86zM5.41 20L4 18.59l7.72-7.72 1.47 1.35L5.41 20z\"/>\n",
              "  </svg>\n",
              "      </button>\n",
              "      \n",
              "  <style>\n",
              "    .colab-df-container {\n",
              "      display:flex;\n",
              "      flex-wrap:wrap;\n",
              "      gap: 12px;\n",
              "    }\n",
              "\n",
              "    .colab-df-convert {\n",
              "      background-color: #E8F0FE;\n",
              "      border: none;\n",
              "      border-radius: 50%;\n",
              "      cursor: pointer;\n",
              "      display: none;\n",
              "      fill: #1967D2;\n",
              "      height: 32px;\n",
              "      padding: 0 0 0 0;\n",
              "      width: 32px;\n",
              "    }\n",
              "\n",
              "    .colab-df-convert:hover {\n",
              "      background-color: #E2EBFA;\n",
              "      box-shadow: 0px 1px 2px rgba(60, 64, 67, 0.3), 0px 1px 3px 1px rgba(60, 64, 67, 0.15);\n",
              "      fill: #174EA6;\n",
              "    }\n",
              "\n",
              "    [theme=dark] .colab-df-convert {\n",
              "      background-color: #3B4455;\n",
              "      fill: #D2E3FC;\n",
              "    }\n",
              "\n",
              "    [theme=dark] .colab-df-convert:hover {\n",
              "      background-color: #434B5C;\n",
              "      box-shadow: 0px 1px 3px 1px rgba(0, 0, 0, 0.15);\n",
              "      filter: drop-shadow(0px 1px 2px rgba(0, 0, 0, 0.3));\n",
              "      fill: #FFFFFF;\n",
              "    }\n",
              "  </style>\n",
              "\n",
              "      <script>\n",
              "        const buttonEl =\n",
              "          document.querySelector('#df-36e65876-a2ce-4f63-90c1-6a0976b74251 button.colab-df-convert');\n",
              "        buttonEl.style.display =\n",
              "          google.colab.kernel.accessAllowed ? 'block' : 'none';\n",
              "\n",
              "        async function convertToInteractive(key) {\n",
              "          const element = document.querySelector('#df-36e65876-a2ce-4f63-90c1-6a0976b74251');\n",
              "          const dataTable =\n",
              "            await google.colab.kernel.invokeFunction('convertToInteractive',\n",
              "                                                     [key], {});\n",
              "          if (!dataTable) return;\n",
              "\n",
              "          const docLinkHtml = 'Like what you see? Visit the ' +\n",
              "            '<a target=\"_blank\" href=https://colab.research.google.com/notebooks/data_table.ipynb>data table notebook</a>'\n",
              "            + ' to learn more about interactive tables.';\n",
              "          element.innerHTML = '';\n",
              "          dataTable['output_type'] = 'display_data';\n",
              "          await google.colab.output.renderOutput(dataTable, element);\n",
              "          const docLink = document.createElement('div');\n",
              "          docLink.innerHTML = docLinkHtml;\n",
              "          element.appendChild(docLink);\n",
              "        }\n",
              "      </script>\n",
              "    </div>\n",
              "  </div>\n",
              "  "
            ]
          },
          "metadata": {},
          "execution_count": 345
        }
      ]
    },
    {
      "cell_type": "code",
      "source": [
        "# Analisando as Notas x Intrução PAI:\n",
        "\n",
        "sns.set_style( 'dark' ) \n",
        "\n",
        "figura, graficos = plt.subplots( 1 , 4 , sharey = True , figsize = ( 8 , 6 ) )\n",
        "\n",
        "plt.tight_layout()\n",
        "\n",
        "for i in range(4):\n",
        "    coluna_1 = colunas_notas[i]\n",
        "    sns.boxplot( data = df_instrucao_pais , y = coluna_1 , x = 'pai_possui_superior' , ax = graficos[i] )"
      ],
      "metadata": {
        "id": "X15yVsMaMKnd",
        "colab": {
          "base_uri": "https://localhost:8080/",
          "height": 450
        },
        "outputId": "a146204e-a211-43b9-be3b-05f00db69faf"
      },
      "execution_count": 346,
      "outputs": [
        {
          "output_type": "display_data",
          "data": {
            "text/plain": [
              "<Figure size 576x432 with 4 Axes>"
            ],
            "image/png": "[encoded data removed]"
          },
          "metadata": {}
        }
      ]
    },
    {
      "cell_type": "code",
      "source": [
        "# Analisando as Notas x Intrução MÂE:\n",
        "\n",
        "sns.set_style( 'dark' ) \n",
        "\n",
        "figura, graficos = plt.subplots( 1 , 4 , sharey = True , figsize = ( 8 , 6 ) )\n",
        "\n",
        "plt.tight_layout()\n",
        "\n",
        "for i in range(4):\n",
        "    coluna_1 = colunas_notas[i]\n",
        "    sns.boxplot( data = df_instrucao_pais , y = coluna_1 , x = 'mae_possui_superior' , ax = graficos[i] )"
      ],
      "metadata": {
        "id": "z7YAoxcuMXpc",
        "colab": {
          "base_uri": "https://localhost:8080/",
          "height": 450
        },
        "outputId": "88d8e38d-e220-472c-90e3-aed06fd45dcc"
      },
      "execution_count": 347,
      "outputs": [
        {
          "output_type": "display_data",
          "data": {
            "text/plain": [
              "<Figure size 576x432 with 4 Axes>"
            ],
            "image/png": "[encoded data removed]"
          },
          "metadata": {}
        }
      ]
    },
    {
      "cell_type": "code",
      "source": [
        "# Analisando correlação de idade com notas:\n",
        "\n",
        "df_idade = df.loc[ : , colunas_notas + [ 'NU_IDADE' ] ]\n",
        "\n",
        "sns.set( rc = { 'figure.figsize' : ( 8 , 6 ) } )\n",
        "\n",
        "sns.scatterplot( data = df_idade, x = 'NU_IDADE' , y = 'NU_NOTA_CN' , color = '#01403A' )"
      ],
      "metadata": {
        "id": "geMowWPbM7q8",
        "colab": {
          "base_uri": "https://localhost:8080/",
          "height": 411
        },
        "outputId": "d0d25c74-9167-460e-f5fb-8877cbcb3f02"
      },
      "execution_count": 348,
      "outputs": [
        {
          "output_type": "execute_result",
          "data": {
            "text/plain": [
              "<matplotlib.axes._subplots.AxesSubplot at 0x7f3bc512d5d0>"
            ]
          },
          "metadata": {},
          "execution_count": 348
        },
        {
          "output_type": "display_data",
          "data": {
            "text/plain": [
              "<Figure size 576x432 with 1 Axes>"
            ],
            "image/png": "[encoded data removed]"
          },
          "metadata": {}
        }
      ]
    },
    {
      "cell_type": "code",
      "source": [
        "# Analisando correlação de pearson entre as notas e a idade:\n",
        "\n",
        "sns.set_theme( style = 'dark' )\n",
        "\n",
        "sns.set( rc = { 'figure.figsize' : ( 8 , 6 ) } )\n",
        "\n",
        "correlacoes_idade = df_idade.corr()\n",
        "\n",
        "sns.heatmap(correlacoes_idade)"
      ],
      "metadata": {
        "id": "hWP60Bz-M_7E",
        "colab": {
          "base_uri": "https://localhost:8080/",
          "height": 499
        },
        "outputId": "f24aab2f-64c6-4cff-d8c6-3d4619abb74f"
      },
      "execution_count": 349,
      "outputs": [
        {
          "output_type": "execute_result",
          "data": {
            "text/plain": [
              "<matplotlib.axes._subplots.AxesSubplot at 0x7f3bcd5ffd90>"
            ]
          },
          "metadata": {},
          "execution_count": 349
        },
        {
          "output_type": "display_data",
          "data": {
            "text/plain": [
              "<Figure size 576x432 with 2 Axes>"
            ],
            "image/png": "[encoded data removed]"
          },
          "metadata": {}
        }
      ]
    },
    {
      "cell_type": "code",
      "source": [
        "# Analisando a renda:\n",
        "\n",
        "df_renda = df.loc[ : , colunas_notas + ['renda_familiar']]\n",
        "\n",
        "sns.set( rc = { 'figure.figsize' : ( 8 , 6 ) } )\n",
        "\n",
        "sns.scatterplot( data = df_renda , x = 'renda_familiar' , y = 'NU_NOTA_CN' , color = '#01403A' )"
      ],
      "metadata": {
        "id": "tSi05g-GNBrs",
        "colab": {
          "base_uri": "https://localhost:8080/",
          "height": 411
        },
        "outputId": "fc70809f-9fd5-4e64-df67-150cae2fb758"
      },
      "execution_count": 350,
      "outputs": [
        {
          "output_type": "execute_result",
          "data": {
            "text/plain": [
              "<matplotlib.axes._subplots.AxesSubplot at 0x7f3bcdad44d0>"
            ]
          },
          "metadata": {},
          "execution_count": 350
        },
        {
          "output_type": "display_data",
          "data": {
            "text/plain": [
              "<Figure size 576x432 with 1 Axes>"
            ],
            "image/png": "[encoded data removed]"
          },
          "metadata": {}
        }
      ]
    },
    {
      "cell_type": "code",
      "source": [
        "# Analisando correlação de pearson entre as notas e a idade:\n",
        "\n",
        "sns.set_theme( style = 'dark' )\n",
        "\n",
        "sns.set( rc = { 'figure.figsize' : ( 8 , 6 ) } )\n",
        "\n",
        "correlacoes_renda = df_renda.corr()\n",
        "\n",
        "sns.heatmap(correlacoes_renda)"
      ],
      "metadata": {
        "id": "UvklhQ3KNDWt",
        "colab": {
          "base_uri": "https://localhost:8080/",
          "height": 499
        },
        "outputId": "72bbc516-604e-4986-d456-53a147e0f51b"
      },
      "execution_count": 351,
      "outputs": [
        {
          "output_type": "execute_result",
          "data": {
            "text/plain": [
              "<matplotlib.axes._subplots.AxesSubplot at 0x7f3bbeff1ad0>"
            ]
          },
          "metadata": {},
          "execution_count": 351
        },
        {
          "output_type": "display_data",
          "data": {
            "text/plain": [
              "<Figure size 576x432 with 2 Axes>"
            ],
            "image/png": "[encoded data removed]"
          },
          "metadata": {}
        }
      ]
    },
    {
      "cell_type": "markdown",
      "source": [
        "# <a> Conclusões </a>\n",
        "\n",
        "Depois de analisar os dados com o objetivo de avaliar possíveis relações entre características dos candidatos e as notas dos mesmos, podemos afirmar que existe alguma evidência de que há correlações entre as notas:\n",
        "\n",
        "- Raça (principalmente indígenas)\n",
        "- Escolaridade dos pais (notas de matemática muito influenciadas)\n",
        "- Renda familiar na nota de matemática (correlação pouco acima de 0,5)\n",
        "\n",
        "Não pudemos confirmar com essa amostra que sexo, idade, atendimento especializado tem relação com as notas.\n",
        "\n",
        "Ficou claro que a grande maioria dos candidatos é de origem \"humilde\" com renda familiar inferior a R$2.000,00\n",
        "\n",
        "O candidato \"padrão\" do ENEM é mulher, com 18 anos, solteira, parda, com renda familiar inferior a R$1.500,00 com ambos pai e mãe sem ensino superior completo.\n"
      ],
      "metadata": {
        "id": "7MGPtSv3cISE"
      }
    }
  ]
}